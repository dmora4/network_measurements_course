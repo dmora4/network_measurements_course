{
  "nbformat": 4,
  "nbformat_minor": 0,
  "metadata": {
    "colab": {
      "provenance": [],
      "authorship_tag": "ABX9TyMbkfh58bYIxsKZXzej0QHC",
      "include_colab_link": true
    },
    "kernelspec": {
      "name": "python3",
      "display_name": "Python 3"
    },
    "language_info": {
      "name": "python"
    }
  },
  "cells": [
    {
      "cell_type": "markdown",
      "metadata": {
        "id": "view-in-github",
        "colab_type": "text"
      },
      "source": [
        "<a href=\"https://colab.research.google.com/github/dmora4/network_measurements_course/blob/lecture3/NML_Lecture03.ipynb\" target=\"_parent\"><img src=\"https://colab.research.google.com/assets/colab-badge.svg\" alt=\"Open In Colab\"/></a>"
      ]
    },
    {
      "cell_type": "markdown",
      "source": [
        "# Lecture 3: Flows and Such"
      ],
      "metadata": {
        "id": "Ua_lDTdpG3hQ"
      }
    },
    {
      "cell_type": "markdown",
      "source": [
        "Here, we are \"connecting\" our personal Google Drive to this notebook. This is a quick way to access potentially many files we may need to import. "
      ],
      "metadata": {
        "id": "pvNhKjWVG8dV"
      }
    },
    {
      "cell_type": "code",
      "execution_count": null,
      "metadata": {
        "colab": {
          "base_uri": "https://localhost:8080/"
        },
        "id": "YGDu8XQcTOJ4",
        "outputId": "7c7ca88a-44d0-48ba-eb17-8f484800c1bc"
      },
      "outputs": [
        {
          "output_type": "stream",
          "name": "stdout",
          "text": [
            "Mounted at /content/drive\n"
          ]
        }
      ],
      "source": [
        "from google.colab import drive\n",
        "\n",
        "drive.mount('/content/drive')"
      ]
    },
    {
      "cell_type": "markdown",
      "source": [
        "The `traffic_captures/` folder in our Drive contains csv files that correspond to network traffic while using specified apps to perform some task (ie, APP: DropBox, TASK: Download; APP: Google Maps, Task: Browse, etc...)\n",
        "\n",
        "First, let's focus on *one* CSV file. "
      ],
      "metadata": {
        "id": "IX5X594CHxAw"
      }
    },
    {
      "cell_type": "code",
      "source": [
        "import pandas as pd\n",
        "import numpy as np\n",
        "from datetime import datetime, timedelta\n",
        "from dateutil import tz\n",
        "\n",
        "\n",
        "import pytz\n",
        "\n",
        "df = pd.read_csv('/content/drive/MyDrive/traffic_captures/dropbox_download_2019-03-16_11-46-54_5bd0c615.csv')\n",
        "df.head(4)"
      ],
      "metadata": {
        "id": "5J3CTrUTVUlg",
        "colab": {
          "base_uri": "https://localhost:8080/",
          "height": 425
        },
        "outputId": "98ade272-8333-4c0f-96be-139e901e7226"
      },
      "execution_count": null,
      "outputs": [
        {
          "output_type": "execute_result",
          "data": {
            "text/plain": [
              "   Unnamed: 0  frame.number                           frame.time  frame.len  \\\n",
              "0           0             1  Mar 16, 2019 11:46:56.648665000 CDT         79   \n",
              "1           1             2  Mar 16, 2019 11:46:56.664544000 CDT        271   \n",
              "2           2             3  Mar 16, 2019 11:46:56.670898000 CDT         76   \n",
              "3           3             4  Mar 16, 2019 11:46:56.713290000 CDT         76   \n",
              "\n",
              "   frame.cap_len  sll.pkttype  sll.hatype  sll.halen        sll.src.eth  \\\n",
              "0             44            4           1          6  fc:c2:de:bc:a6:23   \n",
              "1             44            0           1          6  00:6c:bc:1c:5f:b9   \n",
              "2             76            4           1          6  fc:c2:de:bc:a6:23   \n",
              "3             76            0           1          6  00:6c:bc:1c:5f:b9   \n",
              "\n",
              "  sll.unused  ... tcp.option_len  tcp.options.timestamp.tsval  \\\n",
              "0      00:00  ...            NaN                          NaN   \n",
              "1      00:00  ...            NaN                          NaN   \n",
              "2      00:00  ...       4,2,10,3                    3798737.0   \n",
              "3      00:00  ...       4,2,10,3                  846969304.0   \n",
              "\n",
              "   tcp.options.timestamp.tsecr  udp.srcport udp.dstport  udp.length  \\\n",
              "0                          NaN      60759.0        53.0        43.0   \n",
              "1                          NaN         53.0     60759.0       235.0   \n",
              "2                          0.0          NaN         NaN         NaN   \n",
              "3                    3798737.0          NaN         NaN         NaN   \n",
              "\n",
              "   udp.checksum  gquic.puflags.rsv gquic.packet_number location  \n",
              "0    0x00004e97                NaN                 NaN  Prather  \n",
              "1    0x0000d790                NaN                 NaN  Prather  \n",
              "2           NaN                NaN                 NaN  Prather  \n",
              "3           NaN                NaN                 NaN  Prather  \n",
              "\n",
              "[4 rows x 43 columns]"
            ],
            "text/html": [
              "\n",
              "  <div id=\"df-0a47a096-f388-4914-a18e-d1e5754946ef\">\n",
              "    <div class=\"colab-df-container\">\n",
              "      <div>\n",
              "<style scoped>\n",
              "    .dataframe tbody tr th:only-of-type {\n",
              "        vertical-align: middle;\n",
              "    }\n",
              "\n",
              "    .dataframe tbody tr th {\n",
              "        vertical-align: top;\n",
              "    }\n",
              "\n",
              "    .dataframe thead th {\n",
              "        text-align: right;\n",
              "    }\n",
              "</style>\n",
              "<table border=\"1\" class=\"dataframe\">\n",
              "  <thead>\n",
              "    <tr style=\"text-align: right;\">\n",
              "      <th></th>\n",
              "      <th>Unnamed: 0</th>\n",
              "      <th>frame.number</th>\n",
              "      <th>frame.time</th>\n",
              "      <th>frame.len</th>\n",
              "      <th>frame.cap_len</th>\n",
              "      <th>sll.pkttype</th>\n",
              "      <th>sll.hatype</th>\n",
              "      <th>sll.halen</th>\n",
              "      <th>sll.src.eth</th>\n",
              "      <th>sll.unused</th>\n",
              "      <th>...</th>\n",
              "      <th>tcp.option_len</th>\n",
              "      <th>tcp.options.timestamp.tsval</th>\n",
              "      <th>tcp.options.timestamp.tsecr</th>\n",
              "      <th>udp.srcport</th>\n",
              "      <th>udp.dstport</th>\n",
              "      <th>udp.length</th>\n",
              "      <th>udp.checksum</th>\n",
              "      <th>gquic.puflags.rsv</th>\n",
              "      <th>gquic.packet_number</th>\n",
              "      <th>location</th>\n",
              "    </tr>\n",
              "  </thead>\n",
              "  <tbody>\n",
              "    <tr>\n",
              "      <th>0</th>\n",
              "      <td>0</td>\n",
              "      <td>1</td>\n",
              "      <td>Mar 16, 2019 11:46:56.648665000 CDT</td>\n",
              "      <td>79</td>\n",
              "      <td>44</td>\n",
              "      <td>4</td>\n",
              "      <td>1</td>\n",
              "      <td>6</td>\n",
              "      <td>fc:c2:de:bc:a6:23</td>\n",
              "      <td>00:00</td>\n",
              "      <td>...</td>\n",
              "      <td>NaN</td>\n",
              "      <td>NaN</td>\n",
              "      <td>NaN</td>\n",
              "      <td>60759.0</td>\n",
              "      <td>53.0</td>\n",
              "      <td>43.0</td>\n",
              "      <td>0x00004e97</td>\n",
              "      <td>NaN</td>\n",
              "      <td>NaN</td>\n",
              "      <td>Prather</td>\n",
              "    </tr>\n",
              "    <tr>\n",
              "      <th>1</th>\n",
              "      <td>1</td>\n",
              "      <td>2</td>\n",
              "      <td>Mar 16, 2019 11:46:56.664544000 CDT</td>\n",
              "      <td>271</td>\n",
              "      <td>44</td>\n",
              "      <td>0</td>\n",
              "      <td>1</td>\n",
              "      <td>6</td>\n",
              "      <td>00:6c:bc:1c:5f:b9</td>\n",
              "      <td>00:00</td>\n",
              "      <td>...</td>\n",
              "      <td>NaN</td>\n",
              "      <td>NaN</td>\n",
              "      <td>NaN</td>\n",
              "      <td>53.0</td>\n",
              "      <td>60759.0</td>\n",
              "      <td>235.0</td>\n",
              "      <td>0x0000d790</td>\n",
              "      <td>NaN</td>\n",
              "      <td>NaN</td>\n",
              "      <td>Prather</td>\n",
              "    </tr>\n",
              "    <tr>\n",
              "      <th>2</th>\n",
              "      <td>2</td>\n",
              "      <td>3</td>\n",
              "      <td>Mar 16, 2019 11:46:56.670898000 CDT</td>\n",
              "      <td>76</td>\n",
              "      <td>76</td>\n",
              "      <td>4</td>\n",
              "      <td>1</td>\n",
              "      <td>6</td>\n",
              "      <td>fc:c2:de:bc:a6:23</td>\n",
              "      <td>00:00</td>\n",
              "      <td>...</td>\n",
              "      <td>4,2,10,3</td>\n",
              "      <td>3798737.0</td>\n",
              "      <td>0.0</td>\n",
              "      <td>NaN</td>\n",
              "      <td>NaN</td>\n",
              "      <td>NaN</td>\n",
              "      <td>NaN</td>\n",
              "      <td>NaN</td>\n",
              "      <td>NaN</td>\n",
              "      <td>Prather</td>\n",
              "    </tr>\n",
              "    <tr>\n",
              "      <th>3</th>\n",
              "      <td>3</td>\n",
              "      <td>4</td>\n",
              "      <td>Mar 16, 2019 11:46:56.713290000 CDT</td>\n",
              "      <td>76</td>\n",
              "      <td>76</td>\n",
              "      <td>0</td>\n",
              "      <td>1</td>\n",
              "      <td>6</td>\n",
              "      <td>00:6c:bc:1c:5f:b9</td>\n",
              "      <td>00:00</td>\n",
              "      <td>...</td>\n",
              "      <td>4,2,10,3</td>\n",
              "      <td>846969304.0</td>\n",
              "      <td>3798737.0</td>\n",
              "      <td>NaN</td>\n",
              "      <td>NaN</td>\n",
              "      <td>NaN</td>\n",
              "      <td>NaN</td>\n",
              "      <td>NaN</td>\n",
              "      <td>NaN</td>\n",
              "      <td>Prather</td>\n",
              "    </tr>\n",
              "  </tbody>\n",
              "</table>\n",
              "<p>4 rows × 43 columns</p>\n",
              "</div>\n",
              "      <button class=\"colab-df-convert\" onclick=\"convertToInteractive('df-0a47a096-f388-4914-a18e-d1e5754946ef')\"\n",
              "              title=\"Convert this dataframe to an interactive table.\"\n",
              "              style=\"display:none;\">\n",
              "        \n",
              "  <svg xmlns=\"http://www.w3.org/2000/svg\" height=\"24px\"viewBox=\"0 0 24 24\"\n",
              "       width=\"24px\">\n",
              "    <path d=\"M0 0h24v24H0V0z\" fill=\"none\"/>\n",
              "    <path d=\"M18.56 5.44l.94 2.06.94-2.06 2.06-.94-2.06-.94-.94-2.06-.94 2.06-2.06.94zm-11 1L8.5 8.5l.94-2.06 2.06-.94-2.06-.94L8.5 2.5l-.94 2.06-2.06.94zm10 10l.94 2.06.94-2.06 2.06-.94-2.06-.94-.94-2.06-.94 2.06-2.06.94z\"/><path d=\"M17.41 7.96l-1.37-1.37c-.4-.4-.92-.59-1.43-.59-.52 0-1.04.2-1.43.59L10.3 9.45l-7.72 7.72c-.78.78-.78 2.05 0 2.83L4 21.41c.39.39.9.59 1.41.59.51 0 1.02-.2 1.41-.59l7.78-7.78 2.81-2.81c.8-.78.8-2.07 0-2.86zM5.41 20L4 18.59l7.72-7.72 1.47 1.35L5.41 20z\"/>\n",
              "  </svg>\n",
              "      </button>\n",
              "      \n",
              "  <style>\n",
              "    .colab-df-container {\n",
              "      display:flex;\n",
              "      flex-wrap:wrap;\n",
              "      gap: 12px;\n",
              "    }\n",
              "\n",
              "    .colab-df-convert {\n",
              "      background-color: #E8F0FE;\n",
              "      border: none;\n",
              "      border-radius: 50%;\n",
              "      cursor: pointer;\n",
              "      display: none;\n",
              "      fill: #1967D2;\n",
              "      height: 32px;\n",
              "      padding: 0 0 0 0;\n",
              "      width: 32px;\n",
              "    }\n",
              "\n",
              "    .colab-df-convert:hover {\n",
              "      background-color: #E2EBFA;\n",
              "      box-shadow: 0px 1px 2px rgba(60, 64, 67, 0.3), 0px 1px 3px 1px rgba(60, 64, 67, 0.15);\n",
              "      fill: #174EA6;\n",
              "    }\n",
              "\n",
              "    [theme=dark] .colab-df-convert {\n",
              "      background-color: #3B4455;\n",
              "      fill: #D2E3FC;\n",
              "    }\n",
              "\n",
              "    [theme=dark] .colab-df-convert:hover {\n",
              "      background-color: #434B5C;\n",
              "      box-shadow: 0px 1px 3px 1px rgba(0, 0, 0, 0.15);\n",
              "      filter: drop-shadow(0px 1px 2px rgba(0, 0, 0, 0.3));\n",
              "      fill: #FFFFFF;\n",
              "    }\n",
              "  </style>\n",
              "\n",
              "      <script>\n",
              "        const buttonEl =\n",
              "          document.querySelector('#df-0a47a096-f388-4914-a18e-d1e5754946ef button.colab-df-convert');\n",
              "        buttonEl.style.display =\n",
              "          google.colab.kernel.accessAllowed ? 'block' : 'none';\n",
              "\n",
              "        async function convertToInteractive(key) {\n",
              "          const element = document.querySelector('#df-0a47a096-f388-4914-a18e-d1e5754946ef');\n",
              "          const dataTable =\n",
              "            await google.colab.kernel.invokeFunction('convertToInteractive',\n",
              "                                                     [key], {});\n",
              "          if (!dataTable) return;\n",
              "\n",
              "          const docLinkHtml = 'Like what you see? Visit the ' +\n",
              "            '<a target=\"_blank\" href=https://colab.research.google.com/notebooks/data_table.ipynb>data table notebook</a>'\n",
              "            + ' to learn more about interactive tables.';\n",
              "          element.innerHTML = '';\n",
              "          dataTable['output_type'] = 'display_data';\n",
              "          await google.colab.output.renderOutput(dataTable, element);\n",
              "          const docLink = document.createElement('div');\n",
              "          docLink.innerHTML = docLinkHtml;\n",
              "          element.appendChild(docLink);\n",
              "        }\n",
              "      </script>\n",
              "    </div>\n",
              "  </div>\n",
              "  "
            ]
          },
          "metadata": {},
          "execution_count": 2
        }
      ]
    },
    {
      "cell_type": "markdown",
      "source": [
        "We are dealing with alotttt of columns!! \n",
        "\n",
        "Our objective is to group packets belonging to the same *flow*. A flow is defined as a unique `{SRC-IP}{SRC-Port}{DST-IP}{DST-Port}` combination. Previously we uses lists/ hashes/ sets/ etc to organize the rows into the different flows or \"conversations\". Instead, we can do this with the `groupby()` function in `pandas`. For now, let's assume we already have all the flows seperated. \n",
        "\n",
        "**Exercise:** Let's make a function `extract_features()` that takes in the following parameters:\n",
        "*   `flow`: the ID of the flow; `{SRC-IP}{SRC-Port}{DST-IP}{DST-Port}`\n",
        "*   `df_flow`: the messages excahnged in that flow; ie, the \"contents of the conversation\"\n",
        "\n",
        "\n",
        "Notice, in the column for IP_Protocol, the ID for UDP is 17 and the ID for TCP is 6."
      ],
      "metadata": {
        "id": "ra49KqQSIikP"
      }
    },
    {
      "cell_type": "markdown",
      "source": [
        "*What is interarrival time?* This is the duration of time elapsed between two messages in the flow. Note the fencepost problem: if we calculate the time between msg_x and msg_x-1, we have to *skip* the first message, msg_0 because msg_-1 does not exist."
      ],
      "metadata": {
        "id": "mflR_k7cMSfk"
      }
    },
    {
      "cell_type": "code",
      "source": [
        "\n",
        "\n",
        "\n",
        "\n",
        "# Define a function to parse a string into a datetime object with timezone information\n",
        "def parse_datetime_with_timezone(dt_str):\n",
        "  # Define timezone information for CDT\n",
        "  CDT = tz.gettz('America/Chicago')\n",
        "  dt_str = dt_str.replace(' CDT', '')\n",
        "  dt = pd.to_datetime(dt_str, format='%b %d, %Y %H:%M:%S.%f', errors='coerce')\n",
        "  return dt.replace(tzinfo=CDT)\n",
        "\n",
        "\n",
        "\n",
        "def extract_features(flow, df_flow):\n",
        "  flow_features = {}\n",
        "  flow_features['num_packets'] = len(df_flow)\n",
        "  flow_features['sport'] = flow[2]\n",
        "  flow_features['dport'] = flow[3]\n",
        "  pkt_sizes = df_flow['ip.len'].astype(float)\n",
        "  flow_features['total_bytes'] = pkt_sizes.sum()\n",
        "\n",
        "  flow_features['min_pkt_size'] = pkt_sizes.min()\n",
        "  flow_features['max_pkt_size'] = pkt_sizes.max()\n",
        "  flow_features['avg_pkt_size'] = pkt_sizes.mean()\n",
        "  flow_features['std_pkt_size'] = pkt_sizes.std()\n",
        "\n",
        "  # Apply the custom function to the \"frame.time\" column of the DataFrame\n",
        "  df_flow['frame.time'] = df_flow['frame.time'].apply(parse_datetime_with_timezone)\n",
        "\n",
        "  # Calculate the inter-arrival times in seconds\n",
        "  iat = df_flow['frame.time'].diff(1).dt.total_seconds().iloc[1:]\n",
        "\n",
        "  flow_features['min_iat'] = iat.min()\n",
        "  flow_features['max_iat'] = iat.max()\n",
        "  flow_features['avg_iat'] = iat.mean()\n",
        "  flow_features['std_iat'] = iat.std()\n",
        "  flow_features['dur'] = iat.sum()\n",
        "\n",
        "  return flow_features"
      ],
      "metadata": {
        "id": "J_7IGxaofqYo"
      },
      "execution_count": null,
      "outputs": []
    },
    {
      "cell_type": "markdown",
      "source": [
        "Let's dissect this :\n",
        "\n",
        "```\n",
        "iat = pd.to_datetime(df_flow['frame.time']).diff(1).dt.total_seconds().iloc[1:]\n",
        "```\n",
        "\n",
        "`df_flow['frame.time']` take only the frame.time column \n",
        "\n",
        "`.to_datetime()` pass our frame.time column and convert it to datatime format so correctly interpret the seconds of iat (interarrival time). \n",
        "\n",
        "`.diff(1)` We find the discrete difference between adjacent elements\n",
        "\n",
        "`.dt.total_seconds()` returns total duration of each element expressed in seconds\n",
        "\n",
        "`.iloc[1:0]` The first \"diff\" element calculated is not meaningful. Thus, we only take the resulting vector from the second element (index 1) and on.  \n",
        "\n",
        "\n"
      ],
      "metadata": {
        "id": "pMcU_1h9NIwR"
      }
    },
    {
      "cell_type": "markdown",
      "source": [
        "Now, let's only consider TCP traffic. Recall, the TCP protocol is identified as 6.\n",
        "\n",
        "This way of extracting rows from a column where val == X is called *conditional indexing.*"
      ],
      "metadata": {
        "id": "dY4p_T4EP5d9"
      }
    },
    {
      "cell_type": "markdown",
      "source": [
        "\n",
        "> `for flow, df_flow in df_flows_tcp:`\n",
        "\n",
        "This way of iterating extracts the flow ID (flow) and the contents of the flow (df_flow). Don't believe me? See the output of the `print()`\n"
      ],
      "metadata": {
        "id": "WYk5JA_SQhkq"
      }
    },
    {
      "cell_type": "code",
      "source": [
        "\n",
        "df_tcp = df[df[\"ip.proto\"] == 6] #conditional indexing\n",
        "df_tcp.head(3)\n",
        "# Using groupby to get all unique flow IDs\n",
        "df_flows_tcp = df_tcp.groupby([\"ip.src\", \"ip.dst\", \"tcp.srcport\", \"tcp.dstport\"])\n",
        "\n",
        "# This was of iterating extracts the flow ID (flow) and the contents of the flow (df_flow)\n",
        "for flow, df_flow in df_flows_tcp:\n",
        "  print(flow)\n",
        "  display(extract_features(flow, df_flow))"
      ],
      "metadata": {
        "colab": {
          "base_uri": "https://localhost:8080/",
          "height": 1000
        },
        "id": "yKLwNJ_WWI4-",
        "outputId": "31c014ff-e62f-492e-c6bb-fc43def394f5"
      },
      "execution_count": null,
      "outputs": [
        {
          "output_type": "stream",
          "name": "stdout",
          "text": [
            "('10.145.43.25', '162.125.18.133', 39735.0, 443.0)\n"
          ]
        },
        {
          "output_type": "display_data",
          "data": {
            "text/plain": [
              "{'num_packets': 13,\n",
              " 'sport': 39735.0,\n",
              " 'dport': 443.0,\n",
              " 'total_bytes': 2285.0,\n",
              " 'min_pkt_size': 52.0,\n",
              " 'max_pkt_size': 930.0,\n",
              " 'avg_pkt_size': 175.76923076923077,\n",
              " 'std_pkt_size': 251.22737173264446,\n",
              " 'min_iat': 0.000119,\n",
              " 'max_iat': 15.003027000000001,\n",
              " 'avg_iat': 1.4761664166666668,\n",
              " 'std_iat': 4.315487475542868,\n",
              " 'dur': 17.713997000000003}"
            ]
          },
          "metadata": {}
        },
        {
          "output_type": "stream",
          "name": "stdout",
          "text": [
            "('10.145.43.25', '162.125.8.5', 49876.0, 443.0)\n"
          ]
        },
        {
          "output_type": "display_data",
          "data": {
            "text/plain": [
              "{'num_packets': 28,\n",
              " 'sport': 49876.0,\n",
              " 'dport': 443.0,\n",
              " 'total_bytes': 3009.0,\n",
              " 'min_pkt_size': 52.0,\n",
              " 'max_pkt_size': 693.0,\n",
              " 'avg_pkt_size': 107.46428571428571,\n",
              " 'std_pkt_size': 167.67063881816975,\n",
              " 'min_iat': 0.000161,\n",
              " 'max_iat': 17.195918000000002,\n",
              " 'avg_iat': 0.6691442962962962,\n",
              " 'std_iat': 3.3046296870596197,\n",
              " 'dur': 18.066896}"
            ]
          },
          "metadata": {}
        },
        {
          "output_type": "stream",
          "name": "stdout",
          "text": [
            "('10.145.43.25', '162.125.8.7', 37761.0, 443.0)\n"
          ]
        },
        {
          "output_type": "display_data",
          "data": {
            "text/plain": [
              "{'num_packets': 16,\n",
              " 'sport': 37761.0,\n",
              " 'dport': 443.0,\n",
              " 'total_bytes': 2077.0,\n",
              " 'min_pkt_size': 52.0,\n",
              " 'max_pkt_size': 673.0,\n",
              " 'avg_pkt_size': 129.8125,\n",
              " 'std_pkt_size': 157.86121277882037,\n",
              " 'min_iat': 9.1e-05,\n",
              " 'max_iat': 17.525113,\n",
              " 'avg_iat': 1.2137168000000003,\n",
              " 'std_iat': 4.512714751312597,\n",
              " 'dur': 18.205752000000004}"
            ]
          },
          "metadata": {}
        },
        {
          "output_type": "stream",
          "name": "stdout",
          "text": [
            "('10.145.43.25', '162.125.8.7', 37762.0, 443.0)\n"
          ]
        },
        {
          "output_type": "display_data",
          "data": {
            "text/plain": [
              "{'num_packets': 24,\n",
              " 'sport': 37762.0,\n",
              " 'dport': 443.0,\n",
              " 'total_bytes': 5716.0,\n",
              " 'min_pkt_size': 52.0,\n",
              " 'max_pkt_size': 912.0,\n",
              " 'avg_pkt_size': 238.16666666666666,\n",
              " 'std_pkt_size': 314.0067385965753,\n",
              " 'min_iat': 9.800000000000001e-05,\n",
              " 'max_iat': 6.014194000000001,\n",
              " 'avg_iat': 0.8099906956521739,\n",
              " 'std_iat': 1.8574789784494186,\n",
              " 'dur': 18.629786}"
            ]
          },
          "metadata": {}
        },
        {
          "output_type": "stream",
          "name": "stdout",
          "text": [
            "('10.145.43.25', '162.125.8.7', 37763.0, 443.0)\n"
          ]
        },
        {
          "output_type": "display_data",
          "data": {
            "text/plain": [
              "{'num_packets': 15,\n",
              " 'sport': 37763.0,\n",
              " 'dport': 443.0,\n",
              " 'total_bytes': 3122.0,\n",
              " 'min_pkt_size': 52.0,\n",
              " 'max_pkt_size': 826.0,\n",
              " 'avg_pkt_size': 208.13333333333333,\n",
              " 'std_pkt_size': 286.26033772141915,\n",
              " 'min_iat': 0.00011200000000000001,\n",
              " 'max_iat': 17.434059,\n",
              " 'avg_iat': 1.3368107857142861,\n",
              " 'std_iat': 4.636800729313548,\n",
              " 'dur': 18.715351000000005}"
            ]
          },
          "metadata": {}
        },
        {
          "output_type": "stream",
          "name": "stdout",
          "text": [
            "('10.145.43.25', '162.125.8.7', 37764.0, 443.0)\n"
          ]
        },
        {
          "output_type": "display_data",
          "data": {
            "text/plain": [
              "{'num_packets': 19,\n",
              " 'sport': 37764.0,\n",
              " 'dport': 443.0,\n",
              " 'total_bytes': 4143.0,\n",
              " 'min_pkt_size': 52.0,\n",
              " 'max_pkt_size': 833.0,\n",
              " 'avg_pkt_size': 218.05263157894737,\n",
              " 'std_pkt_size': 261.16394886571635,\n",
              " 'min_iat': 9.900000000000001e-05,\n",
              " 'max_iat': 14.054760000000002,\n",
              " 'avg_iat': 1.0201807777777778,\n",
              " 'std_iat': 3.3328068890004374,\n",
              " 'dur': 18.363254}"
            ]
          },
          "metadata": {}
        },
        {
          "output_type": "stream",
          "name": "stdout",
          "text": [
            "('10.145.43.25', '162.125.8.7', 37765.0, 443.0)\n"
          ]
        },
        {
          "output_type": "display_data",
          "data": {
            "text/plain": [
              "{'num_packets': 17,\n",
              " 'sport': 37765.0,\n",
              " 'dport': 443.0,\n",
              " 'total_bytes': 3491.0,\n",
              " 'min_pkt_size': 52.0,\n",
              " 'max_pkt_size': 833.0,\n",
              " 'avg_pkt_size': 205.35294117647058,\n",
              " 'std_pkt_size': 257.9537122180233,\n",
              " 'min_iat': 0.000124,\n",
              " 'max_iat': 17.438889,\n",
              " 'avg_iat': 1.148163375,\n",
              " 'std_iat': 4.345013260114264,\n",
              " 'dur': 18.370614}"
            ]
          },
          "metadata": {}
        },
        {
          "output_type": "stream",
          "name": "stdout",
          "text": [
            "('10.145.43.25', '162.125.8.7', 37766.0, 443.0)\n"
          ]
        },
        {
          "output_type": "display_data",
          "data": {
            "text/plain": [
              "{'num_packets': 12,\n",
              " 'sport': 37766.0,\n",
              " 'dport': 443.0,\n",
              " 'total_bytes': 2157.0,\n",
              " 'min_pkt_size': 52.0,\n",
              " 'max_pkt_size': 826.0,\n",
              " 'avg_pkt_size': 179.75,\n",
              " 'std_pkt_size': 250.39609530792316,\n",
              " 'min_iat': 0.00014000000000000001,\n",
              " 'max_iat': 17.459131000000003,\n",
              " 'avg_iat': 1.6233860000000002,\n",
              " 'std_iat': 5.25254519057628,\n",
              " 'dur': 17.857246000000004}"
            ]
          },
          "metadata": {}
        },
        {
          "output_type": "stream",
          "name": "stdout",
          "text": [
            "('10.145.43.25', '162.125.8.7', 37767.0, 443.0)\n"
          ]
        },
        {
          "output_type": "display_data",
          "data": {
            "text/plain": [
              "{'num_packets': 14,\n",
              " 'sport': 37767.0,\n",
              " 'dport': 443.0,\n",
              " 'total_bytes': 1604.0,\n",
              " 'min_pkt_size': 52.0,\n",
              " 'max_pkt_size': 610.0,\n",
              " 'avg_pkt_size': 114.57142857142857,\n",
              " 'std_pkt_size': 152.11873615735144,\n",
              " 'min_iat': 0.000388,\n",
              " 'max_iat': 20.001051,\n",
              " 'avg_iat': 1.5557856923076925,\n",
              " 'std_iat': 5.542212552459161,\n",
              " 'dur': 20.225214}"
            ]
          },
          "metadata": {}
        },
        {
          "output_type": "stream",
          "name": "stdout",
          "text": [
            "('10.145.43.25', '162.125.8.7', 37768.0, 443.0)\n"
          ]
        },
        {
          "output_type": "display_data",
          "data": {
            "text/plain": [
              "{'num_packets': 14,\n",
              " 'sport': 37768.0,\n",
              " 'dport': 443.0,\n",
              " 'total_bytes': 1555.0,\n",
              " 'min_pkt_size': 52.0,\n",
              " 'max_pkt_size': 558.0,\n",
              " 'avg_pkt_size': 111.07142857142857,\n",
              " 'std_pkt_size': 139.38847998184195,\n",
              " 'min_iat': 0.000105,\n",
              " 'max_iat': 20.000778,\n",
              " 'avg_iat': 1.5553393076923077,\n",
              " 'std_iat': 5.542257768182346,\n",
              " 'dur': 20.219411}"
            ]
          },
          "metadata": {}
        },
        {
          "output_type": "stream",
          "name": "stdout",
          "text": [
            "('10.145.43.25', '162.125.8.7', 37769.0, 443.0)\n"
          ]
        },
        {
          "output_type": "display_data",
          "data": {
            "text/plain": [
              "{'num_packets': 14,\n",
              " 'sport': 37769.0,\n",
              " 'dport': 443.0,\n",
              " 'total_bytes': 1820.0,\n",
              " 'min_pkt_size': 52.0,\n",
              " 'max_pkt_size': 826.0,\n",
              " 'avg_pkt_size': 130.0,\n",
              " 'std_pkt_size': 207.21040959892397,\n",
              " 'min_iat': 9.2e-05,\n",
              " 'max_iat': 20.000652000000002,\n",
              " 'avg_iat': 1.5569447692307696,\n",
              " 'std_iat': 5.541801268158157,\n",
              " 'dur': 20.240282000000004}"
            ]
          },
          "metadata": {}
        },
        {
          "output_type": "stream",
          "name": "stdout",
          "text": [
            "('10.145.43.25', '162.125.8.7', 37771.0, 443.0)\n"
          ]
        },
        {
          "output_type": "display_data",
          "data": {
            "text/plain": [
              "{'num_packets': 13,\n",
              " 'sport': 37771.0,\n",
              " 'dport': 443.0,\n",
              " 'total_bytes': 1504.0,\n",
              " 'min_pkt_size': 52.0,\n",
              " 'max_pkt_size': 559.0,\n",
              " 'avg_pkt_size': 115.6923076923077,\n",
              " 'std_pkt_size': 144.25289402953908,\n",
              " 'min_iat': 0.00013900000000000002,\n",
              " 'max_iat': 20.000528000000003,\n",
              " 'avg_iat': 1.68584825,\n",
              " 'std_iat': 5.767825496845476,\n",
              " 'dur': 20.230179}"
            ]
          },
          "metadata": {}
        },
        {
          "output_type": "stream",
          "name": "stdout",
          "text": [
            "('10.145.43.25', '162.125.8.8', 37739.0, 443.0)\n"
          ]
        },
        {
          "output_type": "display_data",
          "data": {
            "text/plain": [
              "{'num_packets': 176,\n",
              " 'sport': 37739.0,\n",
              " 'dport': 443.0,\n",
              " 'total_bytes': 10010.0,\n",
              " 'min_pkt_size': 52.0,\n",
              " 'max_pkt_size': 647.0,\n",
              " 'avg_pkt_size': 56.875,\n",
              " 'std_pkt_size': 46.891927419790036,\n",
              " 'min_iat': 0.00010700000000000001,\n",
              " 'max_iat': 0.386166,\n",
              " 'avg_iat': 0.003643062857142858,\n",
              " 'std_iat': 0.029368717484424385,\n",
              " 'dur': 0.6375360000000001}"
            ]
          },
          "metadata": {}
        },
        {
          "output_type": "stream",
          "name": "stdout",
          "text": [
            "('10.145.43.25', '23.23.212.91', 35960.0, 443.0)\n"
          ]
        },
        {
          "output_type": "display_data",
          "data": {
            "text/plain": [
              "{'num_packets': 19,\n",
              " 'sport': 35960.0,\n",
              " 'dport': 443.0,\n",
              " 'total_bytes': 2559.0,\n",
              " 'min_pkt_size': 52.0,\n",
              " 'max_pkt_size': 1290.0,\n",
              " 'avg_pkt_size': 134.68421052631578,\n",
              " 'std_pkt_size': 283.93349233610223,\n",
              " 'min_iat': 0.000109,\n",
              " 'max_iat': 0.084078,\n",
              " 'avg_iat': 0.0161185,\n",
              " 'std_iat': 0.024992959383300213,\n",
              " 'dur': 0.29013300000000003}"
            ]
          },
          "metadata": {}
        },
        {
          "output_type": "stream",
          "name": "stdout",
          "text": [
            "('162.125.18.133', '10.145.43.25', 443.0, 39735.0)\n"
          ]
        },
        {
          "output_type": "display_data",
          "data": {
            "text/plain": [
              "{'num_packets': 12,\n",
              " 'sport': 443.0,\n",
              " 'dport': 39735.0,\n",
              " 'total_bytes': 4451.0,\n",
              " 'min_pkt_size': 52.0,\n",
              " 'max_pkt_size': 1290.0,\n",
              " 'avg_pkt_size': 370.9166666666667,\n",
              " 'std_pkt_size': 502.039197733211,\n",
              " 'min_iat': 0.000174,\n",
              " 'max_iat': 14.976931,\n",
              " 'avg_iat': 1.6029971818181818,\n",
              " 'std_iat': 4.493299163707372,\n",
              " 'dur': 17.632969}"
            ]
          },
          "metadata": {}
        },
        {
          "output_type": "stream",
          "name": "stdout",
          "text": [
            "('162.125.8.5', '10.145.43.25', 443.0, 49876.0)\n"
          ]
        },
        {
          "output_type": "display_data",
          "data": {
            "text/plain": [
              "{'num_packets': 28,\n",
              " 'sport': 443.0,\n",
              " 'dport': 49876.0,\n",
              " 'total_bytes': 25247.0,\n",
              " 'min_pkt_size': 52.0,\n",
              " 'max_pkt_size': 1290.0,\n",
              " 'avg_pkt_size': 901.6785714285714,\n",
              " 'std_pkt_size': 546.3606903578019,\n",
              " 'min_iat': 9e-05,\n",
              " 'max_iat': 17.205450000000003,\n",
              " 'avg_iat': 0.6685214814814815,\n",
              " 'std_iat': 3.306381266759342,\n",
              " 'dur': 18.05008}"
            ]
          },
          "metadata": {}
        },
        {
          "output_type": "stream",
          "name": "stdout",
          "text": [
            "('162.125.8.7', '10.145.43.25', 443.0, 37761.0)\n"
          ]
        },
        {
          "output_type": "display_data",
          "data": {
            "text/plain": [
              "{'num_packets': 19,\n",
              " 'sport': 443.0,\n",
              " 'dport': 37761.0,\n",
              " 'total_bytes': 7965.0,\n",
              " 'min_pkt_size': 52.0,\n",
              " 'max_pkt_size': 1290.0,\n",
              " 'avg_pkt_size': 419.2105263157895,\n",
              " 'std_pkt_size': 451.7845576706973,\n",
              " 'min_iat': 0.000105,\n",
              " 'max_iat': 17.55795,\n",
              " 'avg_iat': 1.010840888888889,\n",
              " 'std_iat': 4.129880853887048,\n",
              " 'dur': 18.195136}"
            ]
          },
          "metadata": {}
        },
        {
          "output_type": "stream",
          "name": "stdout",
          "text": [
            "('162.125.8.7', '10.145.43.25', 443.0, 37762.0)\n"
          ]
        },
        {
          "output_type": "display_data",
          "data": {
            "text/plain": [
              "{'num_packets': 26,\n",
              " 'sport': 443.0,\n",
              " 'dport': 37762.0,\n",
              " 'total_bytes': 10285.0,\n",
              " 'min_pkt_size': 52.0,\n",
              " 'max_pkt_size': 1290.0,\n",
              " 'avg_pkt_size': 395.5769230769231,\n",
              " 'std_pkt_size': 456.0680802754714,\n",
              " 'min_iat': 0.000106,\n",
              " 'max_iat': 6.038082,\n",
              " 'avg_iat': 0.74466956,\n",
              " 'std_iat': 1.7990992279067526,\n",
              " 'dur': 18.616739}"
            ]
          },
          "metadata": {}
        },
        {
          "output_type": "stream",
          "name": "stdout",
          "text": [
            "('162.125.8.7', '10.145.43.25', 443.0, 37763.0)\n"
          ]
        },
        {
          "output_type": "display_data",
          "data": {
            "text/plain": [
              "{'num_packets': 16,\n",
              " 'sport': 443.0,\n",
              " 'dport': 37763.0,\n",
              " 'total_bytes': 7637.0,\n",
              " 'min_pkt_size': 52.0,\n",
              " 'max_pkt_size': 1290.0,\n",
              " 'avg_pkt_size': 477.3125,\n",
              " 'std_pkt_size': 517.7759771368309,\n",
              " 'min_iat': 0.000114,\n",
              " 'max_iat': 17.458978000000002,\n",
              " 'avg_iat': 1.2465586000000002,\n",
              " 'std_iat': 4.4886827234137705,\n",
              " 'dur': 18.698379000000003}"
            ]
          },
          "metadata": {}
        },
        {
          "output_type": "stream",
          "name": "stdout",
          "text": [
            "('162.125.8.7', '10.145.43.25', 443.0, 37764.0)\n"
          ]
        },
        {
          "output_type": "display_data",
          "data": {
            "text/plain": [
              "{'num_packets': 23,\n",
              " 'sport': 443.0,\n",
              " 'dport': 37764.0,\n",
              " 'total_bytes': 8487.0,\n",
              " 'min_pkt_size': 52.0,\n",
              " 'max_pkt_size': 1290.0,\n",
              " 'avg_pkt_size': 369.0,\n",
              " 'std_pkt_size': 435.0874520244073,\n",
              " 'min_iat': 0.00011,\n",
              " 'max_iat': 14.089008000000002,\n",
              " 'avg_iat': 0.8342685454545454,\n",
              " 'std_iat': 3.0335991393503705,\n",
              " 'dur': 18.353908}"
            ]
          },
          "metadata": {}
        },
        {
          "output_type": "stream",
          "name": "stdout",
          "text": [
            "('162.125.8.7', '10.145.43.25', 443.0, 37765.0)\n"
          ]
        },
        {
          "output_type": "display_data",
          "data": {
            "text/plain": [
              "{'num_packets': 19,\n",
              " 'sport': 443.0,\n",
              " 'dport': 37765.0,\n",
              " 'total_bytes': 8256.0,\n",
              " 'min_pkt_size': 52.0,\n",
              " 'max_pkt_size': 1290.0,\n",
              " 'avg_pkt_size': 434.5263157894737,\n",
              " 'std_pkt_size': 483.5357470895511,\n",
              " 'min_iat': 0.000115,\n",
              " 'max_iat': 17.450483000000002,\n",
              " 'avg_iat': 1.019751722222222,\n",
              " 'std_iat': 4.101237525973375,\n",
              " 'dur': 18.355531}"
            ]
          },
          "metadata": {}
        },
        {
          "output_type": "stream",
          "name": "stdout",
          "text": [
            "('162.125.8.7', '10.145.43.25', 443.0, 37766.0)\n"
          ]
        },
        {
          "output_type": "display_data",
          "data": {
            "text/plain": [
              "{'num_packets': 13,\n",
              " 'sport': 443.0,\n",
              " 'dport': 37766.0,\n",
              " 'total_bytes': 6873.0,\n",
              " 'min_pkt_size': 52.0,\n",
              " 'max_pkt_size': 1290.0,\n",
              " 'avg_pkt_size': 528.6923076923077,\n",
              " 'std_pkt_size': 547.8020300277866,\n",
              " 'min_iat': 0.00012800000000000002,\n",
              " 'max_iat': 17.494974000000003,\n",
              " 'avg_iat': 1.487279166666667,\n",
              " 'std_iat': 5.041342717760362,\n",
              " 'dur': 17.847350000000002}"
            ]
          },
          "metadata": {}
        },
        {
          "output_type": "stream",
          "name": "stdout",
          "text": [
            "('162.125.8.7', '10.145.43.25', 443.0, 37767.0)\n"
          ]
        },
        {
          "output_type": "display_data",
          "data": {
            "text/plain": [
              "{'num_packets': 12,\n",
              " 'sport': 443.0,\n",
              " 'dport': 37767.0,\n",
              " 'total_bytes': 5627.0,\n",
              " 'min_pkt_size': 52.0,\n",
              " 'max_pkt_size': 1290.0,\n",
              " 'avg_pkt_size': 468.9166666666667,\n",
              " 'std_pkt_size': 542.4477282455774,\n",
              " 'min_iat': 0.000105,\n",
              " 'max_iat': 20.028815,\n",
              " 'avg_iat': 1.8378660000000002,\n",
              " 'std_iat': 6.033311818470466,\n",
              " 'dur': 20.216526}"
            ]
          },
          "metadata": {}
        },
        {
          "output_type": "stream",
          "name": "stdout",
          "text": [
            "('162.125.8.7', '10.145.43.25', 443.0, 37768.0)\n"
          ]
        },
        {
          "output_type": "display_data",
          "data": {
            "text/plain": [
              "{'num_packets': 13,\n",
              " 'sport': 443.0,\n",
              " 'dport': 37768.0,\n",
              " 'total_bytes': 5678.0,\n",
              " 'min_pkt_size': 52.0,\n",
              " 'max_pkt_size': 1290.0,\n",
              " 'avg_pkt_size': 436.7692307692308,\n",
              " 'std_pkt_size': 532.0459181070362,\n",
              " 'min_iat': 0.000127,\n",
              " 'max_iat': 20.020792,\n",
              " 'avg_iat': 1.684283416666667,\n",
              " 'std_iat': 5.774556743326688,\n",
              " 'dur': 20.211401000000002}"
            ]
          },
          "metadata": {}
        },
        {
          "output_type": "stream",
          "name": "stdout",
          "text": [
            "('162.125.8.7', '10.145.43.25', 443.0, 37769.0)\n"
          ]
        },
        {
          "output_type": "display_data",
          "data": {
            "text/plain": [
              "{'num_packets': 13,\n",
              " 'sport': 443.0,\n",
              " 'dport': 37769.0,\n",
              " 'total_bytes': 6109.0,\n",
              " 'min_pkt_size': 52.0,\n",
              " 'max_pkt_size': 1290.0,\n",
              " 'avg_pkt_size': 469.9230769230769,\n",
              " 'std_pkt_size': 555.6979787526166,\n",
              " 'min_iat': 9.2e-05,\n",
              " 'max_iat': 20.011424,\n",
              " 'avg_iat': 1.6859494166666666,\n",
              " 'std_iat': 5.771119271164516,\n",
              " 'dur': 20.231393}"
            ]
          },
          "metadata": {}
        },
        {
          "output_type": "stream",
          "name": "stdout",
          "text": [
            "('162.125.8.7', '10.145.43.25', 443.0, 37771.0)\n"
          ]
        },
        {
          "output_type": "display_data",
          "data": {
            "text/plain": [
              "{'num_packets': 13,\n",
              " 'sport': 443.0,\n",
              " 'dport': 37771.0,\n",
              " 'total_bytes': 6104.0,\n",
              " 'min_pkt_size': 52.0,\n",
              " 'max_pkt_size': 1290.0,\n",
              " 'avg_pkt_size': 469.53846153846155,\n",
              " 'std_pkt_size': 555.2818526635243,\n",
              " 'min_iat': 0.00014700000000000002,\n",
              " 'max_iat': 20.015238,\n",
              " 'avg_iat': 1.6851190000000003,\n",
              " 'std_iat': 5.772586010535927,\n",
              " 'dur': 20.221428000000003}"
            ]
          },
          "metadata": {}
        },
        {
          "output_type": "stream",
          "name": "stdout",
          "text": [
            "('162.125.8.8', '10.145.43.25', 443.0, 37739.0)\n"
          ]
        },
        {
          "output_type": "display_data",
          "data": {
            "text/plain": [
              "{'num_packets': 396,\n",
              " 'sport': 443.0,\n",
              " 'dport': 37739.0,\n",
              " 'total_bytes': 503743.0,\n",
              " 'min_pkt_size': 52.0,\n",
              " 'max_pkt_size': 1290.0,\n",
              " 'avg_pkt_size': 1272.078282828283,\n",
              " 'std_pkt_size': 144.28176172918305,\n",
              " 'min_iat': 4.5e-05,\n",
              " 'max_iat': 0.328421,\n",
              " 'avg_iat': 0.001566974683544304,\n",
              " 'std_iat': 0.01699558422104359,\n",
              " 'dur': 0.618955}"
            ]
          },
          "metadata": {}
        },
        {
          "output_type": "stream",
          "name": "stdout",
          "text": [
            "('23.23.212.91', '10.145.43.25', 443.0, 35960.0)\n"
          ]
        },
        {
          "output_type": "display_data",
          "data": {
            "text/plain": [
              "{'num_packets': 17,\n",
              " 'sport': 443.0,\n",
              " 'dport': 35960.0,\n",
              " 'total_bytes': 6940.0,\n",
              " 'min_pkt_size': 52.0,\n",
              " 'max_pkt_size': 576.0,\n",
              " 'avg_pkt_size': 408.2352941176471,\n",
              " 'std_pkt_size': 227.90253657313818,\n",
              " 'min_iat': 0.000106,\n",
              " 'max_iat': 0.06848800000000001,\n",
              " 'avg_iat': 0.012996625000000001,\n",
              " 'std_iat': 0.02276186938390606,\n",
              " 'dur': 0.20794600000000002}"
            ]
          },
          "metadata": {}
        }
      ]
    },
    {
      "cell_type": "markdown",
      "source": [
        "*Think Bigger* Okay so now our objective is to get a DataFrame where each *row* is a different flow and the data in the columns correpsond with all the characteristics of that flow *plus* the APP  that generated that flow. This resulting DataFrame will be our training set. "
      ],
      "metadata": {
        "id": "-nAoi9Afhm9P"
      }
    },
    {
      "cell_type": "code",
      "source": [
        "# lists all the files from a path\n",
        "from os import listdir\n",
        "from os.path import isfile, join\n",
        "\n",
        "path = '/content/drive/MyDrive/traffic_captures/'\n",
        "\n",
        "dumpfiles = [f for f in listdir(path) if isfile(join(path, f))]\n",
        "\n",
        "\n",
        "apps = np.unique([f.split('_')[0] for f in dumpfiles])\n",
        "\n",
        "\n",
        "\n",
        "\n",
        "print(apps)\n",
        "\n",
        "dataset = pd.DataFrame()\n",
        "\n",
        "for f in dumpfiles:\n",
        "  if(f == '.DS_Store'):\n",
        "    break\n",
        "  else:\n",
        "    print('Processing file: ', f)\n",
        "    df = pd.read_csv(join(path,f))\n",
        "    df_tcp = df[df[\"ip.proto\"] == 6] \n",
        "    df_flows_tcp = df_tcp.groupby([\"ip.src\", \"ip.dst\", \"tcp.srcport\", \"tcp.dstport\"])\n",
        "    this_app = f.split('_')[0]\n",
        "\n",
        "    for flow, df_flow in df_flows_tcp:\n",
        "      flow_features = extract_features(flow, df_flow);\n",
        "      flow_features['app'] = this_app\n",
        "      #only add downlink direction \n",
        "      if(flow[0].split('.')[0] == '10'):\n",
        "        flow_features['direction'] = 'uplink'\n",
        "      else:\n",
        "        flow_features['direction'] = 'downlink'\n",
        "\n",
        "      # For this example, we are only interested in downlinks\n",
        "      if(flow_features['direction'] == 'downlink'):\n",
        "        # here we use ';' to supress warning outputs\n",
        "        # dataset = dataset.append(flow_features, ignore_index=True);\n",
        "\n",
        "\n",
        "        df_row = pd.DataFrame(flow_features, index=[0])\n",
        "        dataset = pd.concat([dataset, df_row], ignore_index=True)\n",
        "\n",
        "display(dataset)"
      ],
      "metadata": {
        "colab": {
          "base_uri": "https://localhost:8080/",
          "height": 1000
        },
        "id": "tSqeCGtbh6Zw",
        "outputId": "a3b5f0bf-3056-4c55-f888-b2eac9b87049"
      },
      "execution_count": null,
      "outputs": [
        {
          "output_type": "stream",
          "name": "stdout",
          "text": [
            "['.DS' 'dropbox' 'facebook' 'gmail' 'google-drive' 'google-maps' 'netflix']\n",
            "Processing file:  facebook_scroll-newsfeed_2019-03-16_09-29-11_4fd1c357.csv\n",
            "Processing file:  facebook_scroll-newsfeed_2019-03-16_09-33-23_4fd1c357.csv\n",
            "Processing file:  facebook_scroll-newsfeed_2019-03-16_09-32-03_4fd1c357.csv\n",
            "Processing file:  facebook_search-page_2019-03-16_09-30-58_5bd0c615.csv\n",
            "Processing file:  google-maps_directions_2019-03-16_09-33-10_5bd0c615.csv\n",
            "Processing file:  facebook_search-page_2019-03-16_09-34-20_5bd0c615.csv\n",
            "Processing file:  google-drive_download_2019-03-16_09-28-20_4fd1c357.csv\n"
          ]
        },
        {
          "output_type": "stream",
          "name": "stderr",
          "text": [
            "<ipython-input-12-d6d992735049>:23: DtypeWarning: Columns (39) have mixed types. Specify dtype option on import or set low_memory=False.\n",
            "  df = pd.read_csv(join(path,f))\n"
          ]
        },
        {
          "output_type": "stream",
          "name": "stdout",
          "text": [
            "Processing file:  google-drive_upload_2019-03-16_09-28-26_5bd0c615.csv\n"
          ]
        },
        {
          "output_type": "stream",
          "name": "stderr",
          "text": [
            "<ipython-input-12-d6d992735049>:23: DtypeWarning: Columns (33) have mixed types. Specify dtype option on import or set low_memory=False.\n",
            "  df = pd.read_csv(join(path,f))\n"
          ]
        },
        {
          "output_type": "stream",
          "name": "stdout",
          "text": [
            "Processing file:  netflix_watch-video_2019-03-16_09-31-10_4fd1c357.csv\n",
            "Processing file:  google-maps_directions_2019-03-16_10-56-48_5bd0c615.csv\n",
            "Processing file:  facebook_search-page_2019-03-16_10-51-57_4fd1c357.csv\n",
            "Processing file:  facebook_scroll-newsfeed_2019-03-16_10-51-42_5bd0c615.csv\n",
            "Processing file:  facebook_scroll-newsfeed_2019-03-16_10-51-41_4fd1c357.csv\n",
            "Processing file:  dropbox_upload_2019-03-16_10-51-06_4fd1c357.csv\n",
            "Processing file:  facebook_search-page_2019-03-16_10-51-58_5bd0c615.csv\n",
            "Processing file:  google-drive_download_2019-03-16_10-53-27_4fd1c357.csv\n"
          ]
        },
        {
          "output_type": "stream",
          "name": "stderr",
          "text": [
            "<ipython-input-12-d6d992735049>:23: DtypeWarning: Columns (33,39) have mixed types. Specify dtype option on import or set low_memory=False.\n",
            "  df = pd.read_csv(join(path,f))\n"
          ]
        },
        {
          "output_type": "stream",
          "name": "stdout",
          "text": [
            "Processing file:  google-drive_download_2019-03-16_10-53-29_5bd0c615.csv\n"
          ]
        },
        {
          "output_type": "stream",
          "name": "stderr",
          "text": [
            "<ipython-input-12-d6d992735049>:23: DtypeWarning: Columns (39) have mixed types. Specify dtype option on import or set low_memory=False.\n",
            "  df = pd.read_csv(join(path,f))\n"
          ]
        },
        {
          "output_type": "stream",
          "name": "stdout",
          "text": [
            "Processing file:  google-drive_upload_2019-03-16_10-54-30_5bd0c615.csv\n"
          ]
        },
        {
          "output_type": "stream",
          "name": "stderr",
          "text": [
            "<ipython-input-12-d6d992735049>:23: DtypeWarning: Columns (33,39) have mixed types. Specify dtype option on import or set low_memory=False.\n",
            "  df = pd.read_csv(join(path,f))\n"
          ]
        },
        {
          "output_type": "stream",
          "name": "stdout",
          "text": [
            "Processing file:  google-drive_upload_2019-03-16_10-54-40_4fd1c357.csv\n"
          ]
        },
        {
          "output_type": "stream",
          "name": "stderr",
          "text": [
            "<ipython-input-12-d6d992735049>:23: DtypeWarning: Columns (33) have mixed types. Specify dtype option on import or set low_memory=False.\n",
            "  df = pd.read_csv(join(path,f))\n"
          ]
        },
        {
          "output_type": "stream",
          "name": "stdout",
          "text": [
            "Processing file:  google-maps_browse_2019-03-16_10-56-24_4fd1c357.csv\n",
            "Processing file:  google-maps_directions_2019-03-16_10-56-56_4fd1c357.csv\n",
            "Processing file:  dropbox_upload_2019-03-16_11-33-08_4fd1c357.csv\n",
            "Processing file:  dropbox_upload_2019-03-16_12-01-12_5bd0c615.csv\n",
            "Processing file:  dropbox_upload_2019-03-16_11-51-11_4fd1c357.csv\n",
            "Processing file:  dropbox_download_2019-03-16_12-09-23_5bd0c615.csv\n",
            "Processing file:  facebook_search-page_2019-03-16_12-02-42_5bd0c615.csv\n",
            "Processing file:  dropbox_download_2019-03-16_11-46-54_5bd0c615.csv\n",
            "Processing file:  facebook_search-page_2019-03-16_12-14-52_4fd1c357.csv\n",
            "Processing file:  facebook_scroll-newsfeed_2019-03-16_11-56-26_5bd0c615.csv\n",
            "Processing file:  facebook_search-page_2019-03-16_11-37-07_4fd1c357.csv\n",
            "Processing file:  facebook_scroll-newsfeed_2019-03-16_11-48-37_4fd1c357.csv\n",
            "Processing file:  facebook_scroll-newsfeed_2019-03-16_11-40-54_5bd0c615.csv\n",
            "Processing file:  google-drive_download_2019-03-16_11-32-53_5bd0c615.csv\n"
          ]
        },
        {
          "output_type": "stream",
          "name": "stderr",
          "text": [
            "<ipython-input-12-d6d992735049>:23: DtypeWarning: Columns (39) have mixed types. Specify dtype option on import or set low_memory=False.\n",
            "  df = pd.read_csv(join(path,f))\n"
          ]
        },
        {
          "output_type": "stream",
          "name": "stdout",
          "text": [
            "Processing file:  facebook_search-page_2019-03-16_12-20-36_5bd0c615.csv\n",
            "Processing file:  google-drive_upload_2019-03-16_11-50-03_4fd1c357.csv\n",
            "Processing file:  google-maps_browse_2019-03-16_11-26-28_4fd1c357.csv\n",
            "Processing file:  facebook_search-page_2019-03-16_12-23-09_5bd0c615.csv\n",
            "Processing file:  gmail_open-email_2019-03-16_12-06-13_5bd0c615.csv\n",
            "Processing file:  google-maps_directions_2019-03-16_11-34-28_5bd0c615.csv\n",
            "Processing file:  gmail_open-email_2019-03-16_11-53-48_4fd1c357.csv\n",
            "Processing file:  gmail_open-email_2019-03-16_11-42-34_5bd0c615.csv\n",
            "Processing file:  google-maps_directions_2019-03-16_11-44-28_5bd0c615.csv\n",
            "Processing file:  gmail_open-email_2019-03-16_12-16-03_5bd0c615.csv\n",
            "Processing file:  google-drive_upload_2019-03-16_11-51-33_5bd0c615.csv\n",
            "Processing file:  google-drive_upload_2019-03-16_12-04-58_4fd1c357.csv\n",
            "Processing file:  google-drive_upload_2019-03-16_11-59-40_4fd1c357.csv\n",
            "Processing file:  google-drive_upload_2019-03-16_12-00-16_5bd0c615.csv\n",
            "Processing file:  google-drive_upload_2019-03-16_12-08-43_4fd1c357.csv\n",
            "Processing file:  google-maps_browse_2019-03-16_11-46-50_4fd1c357.csv\n",
            "Processing file:  google-maps_browse_2019-03-16_11-36-00_5bd0c615.csv\n",
            "Processing file:  google-maps_browse_2019-03-16_12-05-37_5bd0c615.csv\n",
            "Processing file:  google-maps_browse_2019-03-16_11-13-57_5bd0c615.csv\n",
            "Processing file:  google-maps_browse_2019-03-16_11-49-02_4fd1c357.csv\n",
            "Processing file:  google-maps_browse_2019-03-16_12-08-05_4fd1c357.csv\n",
            "Processing file:  google-maps_directions_2019-03-16_11-33-53_4fd1c357.csv\n",
            "Processing file:  google-maps_browse_2019-03-16_12-16-37_5bd0c615.csv\n",
            "Processing file:  google-maps_browse_2019-03-16_12-21-00_4fd1c357.csv\n",
            "Processing file:  google-maps_directions_2019-03-16_11-14-22_5bd0c615.csv\n",
            "Processing file:  google-maps_directions_2019-03-16_11-42-38_4fd1c357.csv\n",
            "Processing file:  google-maps_directions_2019-03-16_11-36-36_5bd0c615.csv\n",
            "Processing file:  google-maps_directions_2019-03-16_11-37-45_5bd0c615.csv\n",
            "Processing file:  netflix_browse-home_2019-03-16_11-26-28_5bd0c615.csv\n",
            "Processing file:  netflix_browse-home_2019-03-16_11-43-47_4fd1c357.csv\n",
            "Processing file:  netflix_browse-home_2019-03-16_11-52-53_4fd1c357.csv\n",
            "Processing file:  netflix_browse-home_2019-03-16_11-43-10_5bd0c615.csv\n",
            "Processing file:  netflix_browse-home_2019-03-16_12-05-55_4fd1c357.csv\n",
            "Processing file:  netflix_browse-home_2019-03-16_12-01-11_4fd1c357.csv\n",
            "Processing file:  netflix_browse-home_2019-03-16_11-41-06_4fd1c357.csv\n",
            "Processing file:  netflix_watch-video_2019-03-16_11-35-04_4fd1c357.csv\n"
          ]
        },
        {
          "output_type": "stream",
          "name": "stderr",
          "text": [
            "<ipython-input-12-d6d992735049>:23: DtypeWarning: Columns (11,12,13,15,16,17) have mixed types. Specify dtype option on import or set low_memory=False.\n",
            "  df = pd.read_csv(join(path,f))\n"
          ]
        },
        {
          "output_type": "stream",
          "name": "stdout",
          "text": [
            "Processing file:  netflix_watch-video_2019-03-16_11-36-05_4fd1c357.csv\n"
          ]
        },
        {
          "output_type": "stream",
          "name": "stderr",
          "text": [
            "<ipython-input-12-d6d992735049>:23: DtypeWarning: Columns (11,12,13,15,16,17) have mixed types. Specify dtype option on import or set low_memory=False.\n",
            "  df = pd.read_csv(join(path,f))\n"
          ]
        },
        {
          "output_type": "stream",
          "name": "stdout",
          "text": [
            "Processing file:  netflix_watch-video_2019-03-16_11-39-19_5bd0c615.csv\n"
          ]
        },
        {
          "output_type": "stream",
          "name": "stderr",
          "text": [
            "<ipython-input-12-d6d992735049>:23: DtypeWarning: Columns (11,12,13,15,16,17) have mixed types. Specify dtype option on import or set low_memory=False.\n",
            "  df = pd.read_csv(join(path,f))\n"
          ]
        },
        {
          "output_type": "stream",
          "name": "stdout",
          "text": [
            "Processing file:  netflix_watch-video_2019-03-16_11-40-04_4fd1c357.csv\n",
            "Processing file:  netflix_watch-video_2019-03-16_11-44-41_4fd1c357.csv\n",
            "Processing file:  netflix_watch-video_2019-03-16_12-14-35_5bd0c615.csv\n"
          ]
        },
        {
          "output_type": "stream",
          "name": "stderr",
          "text": [
            "<ipython-input-12-d6d992735049>:23: DtypeWarning: Columns (33) have mixed types. Specify dtype option on import or set low_memory=False.\n",
            "  df = pd.read_csv(join(path,f))\n"
          ]
        },
        {
          "output_type": "stream",
          "name": "stdout",
          "text": [
            "Processing file:  netflix_watch-video_2019-03-16_12-11-31_5bd0c615.csv\n",
            "Processing file:  netflix_watch-video_2019-03-16_12-17-10_4fd1c357.csv\n",
            "Processing file:  netflix_watch-video_2019-03-16_12-19-06_5bd0c615.csv\n",
            "Processing file:  dropbox_download_2019-03-16_15-27-33_5bd0c615.csv\n",
            "Processing file:  facebook_search-page_2019-03-16_14-38-58_5bd0c615.csv\n",
            "Processing file:  dropbox_upload_2019-03-16_14-46-09_4fd1c357.csv\n",
            "Processing file:  dropbox_upload_2019-03-16_14-40-35_4fd1c357.csv\n",
            "Processing file:  dropbox_download_2019-03-16_16-03-08_5bd0c615.csv\n",
            "Processing file:  gmail_open-email_2019-03-16_14-41-04_5bd0c615.csv\n",
            "Processing file:  dropbox_upload_2019-03-16_15-29-32_4fd1c357.csv\n",
            "Processing file:  gmail_open-email_2019-03-16_14-58-01_4fd1c357.csv\n",
            "Processing file:  dropbox_upload_2019-03-16_15-16-28_4fd1c357.csv\n",
            "Processing file:  facebook_scroll-newsfeed_2019-03-16_15-46-29_5bd0c615.csv\n",
            "Processing file:  google-drive_download_2019-03-16_14-42-06_4fd1c357.csv\n",
            "Processing file:  gmail_open-email_2019-03-16_16-02-35_5bd0c615.csv\n",
            "Processing file:  google-drive_download_2019-03-16_15-06-52_4fd1c357.csv\n",
            "Processing file:  gmail_open-email_2019-03-16_14-59-14_5bd0c615.csv\n",
            "Processing file:  gmail_open-email_2019-03-16_15-45-08_4fd1c357.csv\n",
            "Processing file:  gmail_open-email_2019-03-16_15-32-55_4fd1c357.csv\n",
            "Processing file:  google-drive_download_2019-03-16_15-07-22_5bd0c615.csv\n",
            "Processing file:  google-drive_download_2019-03-16_15-28-58_5bd0c615.csv\n",
            "Processing file:  google-drive_upload_2019-03-16_14-40-08_5bd0c615.csv\n",
            "Processing file:  google-drive_download_2019-03-16_15-52-23_4fd1c357.csv\n",
            "Processing file:  netflix_browse-home_2019-03-16_14-38-03_5bd0c615.csv\n",
            "Processing file:  netflix_browse-home_2019-03-16_14-38-03_4fd1c357.csv\n",
            "Processing file:  netflix_browse-home_2019-03-16_14-46-04_5bd0c615.csv\n",
            "Processing file:  dropbox_download_2019-03-16_18-26-36_4fd1c357.csv\n",
            "Processing file:  dropbox_download_2019-03-16_19-39-01_5bd0c615.csv\n",
            "Processing file:  dropbox_download_2019-03-16_19-25-10_4fd1c357.csv\n",
            "Processing file:  dropbox_download_2019-03-16_18-38-28_5bd0c615.csv\n",
            "Processing file:  dropbox_download_2019-03-16_19-59-52_5bd0c615.csv\n",
            "Processing file:  dropbox_download_2019-03-16_20-03-34_4fd1c357.csv\n",
            "Processing file:  dropbox_upload_2019-03-16_17-58-47_5bd0c615.csv\n",
            "Processing file:  dropbox_upload_2019-03-16_17-50-05_5bd0c615.csv\n",
            "Processing file:  facebook_scroll-newsfeed_2019-03-16_17-31-53_4fd1c357.csv\n",
            "Processing file:  google-drive_download_2019-03-16_18-24-45_5bd0c615.csv\n"
          ]
        },
        {
          "output_type": "display_data",
          "data": {
            "text/plain": [
              "     num_packets  sport    dport  total_bytes  min_pkt_size  max_pkt_size  \\\n",
              "0              5  443.0  53065.0        715.0          52.0         268.0   \n",
              "1           2260  443.0  53066.0    2759118.0          52.0        1290.0   \n",
              "2            442  443.0  48732.0     556765.0          52.0        1290.0   \n",
              "3              5  443.0  48733.0        715.0          52.0         268.0   \n",
              "4              1  443.0  48862.0         85.0          85.0          85.0   \n",
              "..           ...    ...      ...          ...           ...           ...   \n",
              "898           12  443.0  35453.0       1479.0          52.0         386.0   \n",
              "899          152  443.0  42801.0     177820.0          52.0        1290.0   \n",
              "900            5  443.0  60227.0        715.0          52.0         268.0   \n",
              "901          460  443.0  60228.0     572405.0          52.0        1290.0   \n",
              "902          100  443.0  48966.0      72940.0          52.0        1290.0   \n",
              "\n",
              "     avg_pkt_size  std_pkt_size   min_iat   max_iat   avg_iat   std_iat  \\\n",
              "0      143.000000     94.127573  0.000088  0.020352  0.008185  0.009458   \n",
              "1     1220.848673    266.588815  0.000026  1.206596  0.002946  0.037058   \n",
              "2     1259.649321    181.045118  0.000029  0.173078  0.001161  0.010428   \n",
              "3      143.000000     94.127573  0.000080  0.058284  0.023538  0.028326   \n",
              "4       85.000000           NaN       NaN       NaN       NaN       NaN   \n",
              "..            ...           ...       ...       ...       ...       ...   \n",
              "898    123.250000    108.572661  0.000097  0.041232  0.010613  0.013517   \n",
              "899   1169.868421    350.139191  0.000021  0.858058  0.009526  0.072137   \n",
              "900    143.000000     94.127573  0.000079  0.018896  0.007620  0.009135   \n",
              "901   1244.358696    211.748051  0.000020  0.023074  0.000377  0.001825   \n",
              "902    729.400000    543.107241  0.000018  3.494623  0.075038  0.363336   \n",
              "\n",
              "          dur       app direction  \n",
              "0    0.032739  facebook  downlink  \n",
              "1    6.655564  facebook  downlink  \n",
              "2    0.512030  facebook  downlink  \n",
              "3    0.094153  facebook  downlink  \n",
              "4    0.000000  facebook  downlink  \n",
              "..        ...       ...       ...  \n",
              "898  0.116743  facebook  downlink  \n",
              "899  1.438392  facebook  downlink  \n",
              "900  0.030481  facebook  downlink  \n",
              "901  0.172903  facebook  downlink  \n",
              "902  7.428811  facebook  downlink  \n",
              "\n",
              "[903 rows x 15 columns]"
            ],
            "text/html": [
              "\n",
              "  <div id=\"df-0545d1da-3fa4-48f8-a9a7-1d6afa964796\">\n",
              "    <div class=\"colab-df-container\">\n",
              "      <div>\n",
              "<style scoped>\n",
              "    .dataframe tbody tr th:only-of-type {\n",
              "        vertical-align: middle;\n",
              "    }\n",
              "\n",
              "    .dataframe tbody tr th {\n",
              "        vertical-align: top;\n",
              "    }\n",
              "\n",
              "    .dataframe thead th {\n",
              "        text-align: right;\n",
              "    }\n",
              "</style>\n",
              "<table border=\"1\" class=\"dataframe\">\n",
              "  <thead>\n",
              "    <tr style=\"text-align: right;\">\n",
              "      <th></th>\n",
              "      <th>num_packets</th>\n",
              "      <th>sport</th>\n",
              "      <th>dport</th>\n",
              "      <th>total_bytes</th>\n",
              "      <th>min_pkt_size</th>\n",
              "      <th>max_pkt_size</th>\n",
              "      <th>avg_pkt_size</th>\n",
              "      <th>std_pkt_size</th>\n",
              "      <th>min_iat</th>\n",
              "      <th>max_iat</th>\n",
              "      <th>avg_iat</th>\n",
              "      <th>std_iat</th>\n",
              "      <th>dur</th>\n",
              "      <th>app</th>\n",
              "      <th>direction</th>\n",
              "    </tr>\n",
              "  </thead>\n",
              "  <tbody>\n",
              "    <tr>\n",
              "      <th>0</th>\n",
              "      <td>5</td>\n",
              "      <td>443.0</td>\n",
              "      <td>53065.0</td>\n",
              "      <td>715.0</td>\n",
              "      <td>52.0</td>\n",
              "      <td>268.0</td>\n",
              "      <td>143.000000</td>\n",
              "      <td>94.127573</td>\n",
              "      <td>0.000088</td>\n",
              "      <td>0.020352</td>\n",
              "      <td>0.008185</td>\n",
              "      <td>0.009458</td>\n",
              "      <td>0.032739</td>\n",
              "      <td>facebook</td>\n",
              "      <td>downlink</td>\n",
              "    </tr>\n",
              "    <tr>\n",
              "      <th>1</th>\n",
              "      <td>2260</td>\n",
              "      <td>443.0</td>\n",
              "      <td>53066.0</td>\n",
              "      <td>2759118.0</td>\n",
              "      <td>52.0</td>\n",
              "      <td>1290.0</td>\n",
              "      <td>1220.848673</td>\n",
              "      <td>266.588815</td>\n",
              "      <td>0.000026</td>\n",
              "      <td>1.206596</td>\n",
              "      <td>0.002946</td>\n",
              "      <td>0.037058</td>\n",
              "      <td>6.655564</td>\n",
              "      <td>facebook</td>\n",
              "      <td>downlink</td>\n",
              "    </tr>\n",
              "    <tr>\n",
              "      <th>2</th>\n",
              "      <td>442</td>\n",
              "      <td>443.0</td>\n",
              "      <td>48732.0</td>\n",
              "      <td>556765.0</td>\n",
              "      <td>52.0</td>\n",
              "      <td>1290.0</td>\n",
              "      <td>1259.649321</td>\n",
              "      <td>181.045118</td>\n",
              "      <td>0.000029</td>\n",
              "      <td>0.173078</td>\n",
              "      <td>0.001161</td>\n",
              "      <td>0.010428</td>\n",
              "      <td>0.512030</td>\n",
              "      <td>facebook</td>\n",
              "      <td>downlink</td>\n",
              "    </tr>\n",
              "    <tr>\n",
              "      <th>3</th>\n",
              "      <td>5</td>\n",
              "      <td>443.0</td>\n",
              "      <td>48733.0</td>\n",
              "      <td>715.0</td>\n",
              "      <td>52.0</td>\n",
              "      <td>268.0</td>\n",
              "      <td>143.000000</td>\n",
              "      <td>94.127573</td>\n",
              "      <td>0.000080</td>\n",
              "      <td>0.058284</td>\n",
              "      <td>0.023538</td>\n",
              "      <td>0.028326</td>\n",
              "      <td>0.094153</td>\n",
              "      <td>facebook</td>\n",
              "      <td>downlink</td>\n",
              "    </tr>\n",
              "    <tr>\n",
              "      <th>4</th>\n",
              "      <td>1</td>\n",
              "      <td>443.0</td>\n",
              "      <td>48862.0</td>\n",
              "      <td>85.0</td>\n",
              "      <td>85.0</td>\n",
              "      <td>85.0</td>\n",
              "      <td>85.000000</td>\n",
              "      <td>NaN</td>\n",
              "      <td>NaN</td>\n",
              "      <td>NaN</td>\n",
              "      <td>NaN</td>\n",
              "      <td>NaN</td>\n",
              "      <td>0.000000</td>\n",
              "      <td>facebook</td>\n",
              "      <td>downlink</td>\n",
              "    </tr>\n",
              "    <tr>\n",
              "      <th>...</th>\n",
              "      <td>...</td>\n",
              "      <td>...</td>\n",
              "      <td>...</td>\n",
              "      <td>...</td>\n",
              "      <td>...</td>\n",
              "      <td>...</td>\n",
              "      <td>...</td>\n",
              "      <td>...</td>\n",
              "      <td>...</td>\n",
              "      <td>...</td>\n",
              "      <td>...</td>\n",
              "      <td>...</td>\n",
              "      <td>...</td>\n",
              "      <td>...</td>\n",
              "      <td>...</td>\n",
              "    </tr>\n",
              "    <tr>\n",
              "      <th>898</th>\n",
              "      <td>12</td>\n",
              "      <td>443.0</td>\n",
              "      <td>35453.0</td>\n",
              "      <td>1479.0</td>\n",
              "      <td>52.0</td>\n",
              "      <td>386.0</td>\n",
              "      <td>123.250000</td>\n",
              "      <td>108.572661</td>\n",
              "      <td>0.000097</td>\n",
              "      <td>0.041232</td>\n",
              "      <td>0.010613</td>\n",
              "      <td>0.013517</td>\n",
              "      <td>0.116743</td>\n",
              "      <td>facebook</td>\n",
              "      <td>downlink</td>\n",
              "    </tr>\n",
              "    <tr>\n",
              "      <th>899</th>\n",
              "      <td>152</td>\n",
              "      <td>443.0</td>\n",
              "      <td>42801.0</td>\n",
              "      <td>177820.0</td>\n",
              "      <td>52.0</td>\n",
              "      <td>1290.0</td>\n",
              "      <td>1169.868421</td>\n",
              "      <td>350.139191</td>\n",
              "      <td>0.000021</td>\n",
              "      <td>0.858058</td>\n",
              "      <td>0.009526</td>\n",
              "      <td>0.072137</td>\n",
              "      <td>1.438392</td>\n",
              "      <td>facebook</td>\n",
              "      <td>downlink</td>\n",
              "    </tr>\n",
              "    <tr>\n",
              "      <th>900</th>\n",
              "      <td>5</td>\n",
              "      <td>443.0</td>\n",
              "      <td>60227.0</td>\n",
              "      <td>715.0</td>\n",
              "      <td>52.0</td>\n",
              "      <td>268.0</td>\n",
              "      <td>143.000000</td>\n",
              "      <td>94.127573</td>\n",
              "      <td>0.000079</td>\n",
              "      <td>0.018896</td>\n",
              "      <td>0.007620</td>\n",
              "      <td>0.009135</td>\n",
              "      <td>0.030481</td>\n",
              "      <td>facebook</td>\n",
              "      <td>downlink</td>\n",
              "    </tr>\n",
              "    <tr>\n",
              "      <th>901</th>\n",
              "      <td>460</td>\n",
              "      <td>443.0</td>\n",
              "      <td>60228.0</td>\n",
              "      <td>572405.0</td>\n",
              "      <td>52.0</td>\n",
              "      <td>1290.0</td>\n",
              "      <td>1244.358696</td>\n",
              "      <td>211.748051</td>\n",
              "      <td>0.000020</td>\n",
              "      <td>0.023074</td>\n",
              "      <td>0.000377</td>\n",
              "      <td>0.001825</td>\n",
              "      <td>0.172903</td>\n",
              "      <td>facebook</td>\n",
              "      <td>downlink</td>\n",
              "    </tr>\n",
              "    <tr>\n",
              "      <th>902</th>\n",
              "      <td>100</td>\n",
              "      <td>443.0</td>\n",
              "      <td>48966.0</td>\n",
              "      <td>72940.0</td>\n",
              "      <td>52.0</td>\n",
              "      <td>1290.0</td>\n",
              "      <td>729.400000</td>\n",
              "      <td>543.107241</td>\n",
              "      <td>0.000018</td>\n",
              "      <td>3.494623</td>\n",
              "      <td>0.075038</td>\n",
              "      <td>0.363336</td>\n",
              "      <td>7.428811</td>\n",
              "      <td>facebook</td>\n",
              "      <td>downlink</td>\n",
              "    </tr>\n",
              "  </tbody>\n",
              "</table>\n",
              "<p>903 rows × 15 columns</p>\n",
              "</div>\n",
              "      <button class=\"colab-df-convert\" onclick=\"convertToInteractive('df-0545d1da-3fa4-48f8-a9a7-1d6afa964796')\"\n",
              "              title=\"Convert this dataframe to an interactive table.\"\n",
              "              style=\"display:none;\">\n",
              "        \n",
              "  <svg xmlns=\"http://www.w3.org/2000/svg\" height=\"24px\"viewBox=\"0 0 24 24\"\n",
              "       width=\"24px\">\n",
              "    <path d=\"M0 0h24v24H0V0z\" fill=\"none\"/>\n",
              "    <path d=\"M18.56 5.44l.94 2.06.94-2.06 2.06-.94-2.06-.94-.94-2.06-.94 2.06-2.06.94zm-11 1L8.5 8.5l.94-2.06 2.06-.94-2.06-.94L8.5 2.5l-.94 2.06-2.06.94zm10 10l.94 2.06.94-2.06 2.06-.94-2.06-.94-.94-2.06-.94 2.06-2.06.94z\"/><path d=\"M17.41 7.96l-1.37-1.37c-.4-.4-.92-.59-1.43-.59-.52 0-1.04.2-1.43.59L10.3 9.45l-7.72 7.72c-.78.78-.78 2.05 0 2.83L4 21.41c.39.39.9.59 1.41.59.51 0 1.02-.2 1.41-.59l7.78-7.78 2.81-2.81c.8-.78.8-2.07 0-2.86zM5.41 20L4 18.59l7.72-7.72 1.47 1.35L5.41 20z\"/>\n",
              "  </svg>\n",
              "      </button>\n",
              "      \n",
              "  <style>\n",
              "    .colab-df-container {\n",
              "      display:flex;\n",
              "      flex-wrap:wrap;\n",
              "      gap: 12px;\n",
              "    }\n",
              "\n",
              "    .colab-df-convert {\n",
              "      background-color: #E8F0FE;\n",
              "      border: none;\n",
              "      border-radius: 50%;\n",
              "      cursor: pointer;\n",
              "      display: none;\n",
              "      fill: #1967D2;\n",
              "      height: 32px;\n",
              "      padding: 0 0 0 0;\n",
              "      width: 32px;\n",
              "    }\n",
              "\n",
              "    .colab-df-convert:hover {\n",
              "      background-color: #E2EBFA;\n",
              "      box-shadow: 0px 1px 2px rgba(60, 64, 67, 0.3), 0px 1px 3px 1px rgba(60, 64, 67, 0.15);\n",
              "      fill: #174EA6;\n",
              "    }\n",
              "\n",
              "    [theme=dark] .colab-df-convert {\n",
              "      background-color: #3B4455;\n",
              "      fill: #D2E3FC;\n",
              "    }\n",
              "\n",
              "    [theme=dark] .colab-df-convert:hover {\n",
              "      background-color: #434B5C;\n",
              "      box-shadow: 0px 1px 3px 1px rgba(0, 0, 0, 0.15);\n",
              "      filter: drop-shadow(0px 1px 2px rgba(0, 0, 0, 0.3));\n",
              "      fill: #FFFFFF;\n",
              "    }\n",
              "  </style>\n",
              "\n",
              "      <script>\n",
              "        const buttonEl =\n",
              "          document.querySelector('#df-0545d1da-3fa4-48f8-a9a7-1d6afa964796 button.colab-df-convert');\n",
              "        buttonEl.style.display =\n",
              "          google.colab.kernel.accessAllowed ? 'block' : 'none';\n",
              "\n",
              "        async function convertToInteractive(key) {\n",
              "          const element = document.querySelector('#df-0545d1da-3fa4-48f8-a9a7-1d6afa964796');\n",
              "          const dataTable =\n",
              "            await google.colab.kernel.invokeFunction('convertToInteractive',\n",
              "                                                     [key], {});\n",
              "          if (!dataTable) return;\n",
              "\n",
              "          const docLinkHtml = 'Like what you see? Visit the ' +\n",
              "            '<a target=\"_blank\" href=https://colab.research.google.com/notebooks/data_table.ipynb>data table notebook</a>'\n",
              "            + ' to learn more about interactive tables.';\n",
              "          element.innerHTML = '';\n",
              "          dataTable['output_type'] = 'display_data';\n",
              "          await google.colab.output.renderOutput(dataTable, element);\n",
              "          const docLink = document.createElement('div');\n",
              "          docLink.innerHTML = docLinkHtml;\n",
              "          element.appendChild(docLink);\n",
              "        }\n",
              "      </script>\n",
              "    </div>\n",
              "  </div>\n",
              "  "
            ]
          },
          "metadata": {}
        }
      ]
    },
    {
      "cell_type": "code",
      "source": [
        "apps = np.delete(apps, np.where(apps == '.DS'))"
      ],
      "metadata": {
        "id": "zUNIYXe-mIfF"
      },
      "execution_count": null,
      "outputs": []
    },
    {
      "cell_type": "markdown",
      "source": [
        "Now we save our training data backto a csv!"
      ],
      "metadata": {
        "id": "iqVQxGvGXUbx"
      }
    },
    {
      "cell_type": "code",
      "source": [
        "\n",
        "dataset.to_csv('/content/drive/MyDrive/Colab Notebooks/traffic_classification_dataset.csv', index=False, line_terminator='\\n')\n"
      ],
      "metadata": {
        "id": "u5VGAii3XHX5"
      },
      "execution_count": null,
      "outputs": []
    },
    {
      "cell_type": "code",
      "source": [
        "import numpy as np\n",
        "import matplotlib.pyplot as plt\n",
        "from sklearn.metrics import ConfusionMatrixDisplay\n",
        "\n",
        "\n",
        "X = dataset.drop(['direction', 'sport', 'dport'], axis=1).dropna()\n",
        "APP = X['app']\n",
        "X = X.drop(['app'], axis=1)\n",
        "\n",
        "\n",
        "#selects indexes for training and test set (70/30)\n",
        "idx = np.random.permutation(len(X))\n",
        "num_train_obs = np.floor(0.7*len(X))\n",
        "\n",
        "train_idx =idx[1:int(num_train_obs)] \n",
        "test_idx = idx[int(num_train_obs):]\n",
        "\n",
        "#data normalization\n",
        "X_norm = pd.DataFrame()\n",
        "\n",
        "for key in X:\n",
        "  temp = X[key]\n",
        "  temp_norm = (temp - temp.mean())/temp.std();\n",
        "  X_norm[key] = temp_norm\n",
        "\n",
        "\n",
        "X_norm_train = X_norm.iloc[train_idx]\n",
        "X_norm_test = X_norm.iloc[test_idx]\n",
        "\n",
        "\n",
        "APP_train = APP.iloc[train_idx]\n",
        "APP_test = APP.iloc[test_idx]\n"
      ],
      "metadata": {
        "id": "xCLhBHgLo_zq"
      },
      "execution_count": null,
      "outputs": []
    },
    {
      "cell_type": "code",
      "source": [
        "display(X_norm_test)"
      ],
      "metadata": {
        "colab": {
          "base_uri": "https://localhost:8080/",
          "height": 424
        },
        "id": "DddWlAYxYjA5",
        "outputId": "6823bd15-6b93-414e-adaa-80fe46bf6c0b"
      },
      "execution_count": null,
      "outputs": [
        {
          "output_type": "display_data",
          "data": {
            "text/plain": [
              "     num_packets  total_bytes  min_pkt_size  max_pkt_size  avg_pkt_size  \\\n",
              "880    -0.213737    -0.197132     -0.053062      0.506015     -0.256112   \n",
              "338     2.319768     2.453027     -0.053062      0.506015      1.952091   \n",
              "587     0.938884     1.009948     -0.053062      0.506015      1.950354   \n",
              "103    -0.211643    -0.195748     -0.053062      0.506015      0.008501   \n",
              "77     -0.215412    -0.197472     -0.053062      0.506015     -0.012923   \n",
              "..           ...          ...           ...           ...           ...   \n",
              "53     -0.210805    -0.196986     -0.053062      0.506015     -0.622743   \n",
              "550    -0.142955    -0.118492     21.951916      0.506015      1.996263   \n",
              "379    -0.215412    -0.197398     -0.053062      0.506015      0.051499   \n",
              "302    -0.215412    -0.197550     -0.053062      0.506015     -0.080341   \n",
              "526    -0.172273    -0.151191     -0.053062      0.506015      1.879209   \n",
              "\n",
              "     std_pkt_size   min_iat   max_iat   avg_iat   std_iat       dur  \n",
              "880      0.867116 -0.053072  1.821517  2.031768  2.224360  1.270146  \n",
              "338     -1.292743 -0.068994  3.117898 -0.574243 -0.417858  2.753912  \n",
              "587     -1.202007 -0.070763  1.869686 -0.569239 -0.418585  1.736669  \n",
              "103      0.984955 -0.024413  3.921234  2.815096  3.758379  2.983074  \n",
              "77       1.049583 -0.060148 -0.686925 -0.566506 -0.599234 -0.757871  \n",
              "..            ...       ...       ...       ...       ...       ...  \n",
              "53       0.408135 -0.071471  4.057739  2.570291  3.643012  3.122313  \n",
              "550     -1.642964 -0.070409  1.836233 -0.408178  0.125266  1.289495  \n",
              "379      1.043941  0.039982 -0.691580 -0.575056 -0.605294 -0.762310  \n",
              "302      1.065915 -0.067579 -0.687990 -0.560152 -0.600297 -0.754572  \n",
              "526     -0.746319 -0.056256 -0.675983 -0.578250 -0.599633 -0.730926  \n",
              "\n",
              "[245 rows x 11 columns]"
            ],
            "text/html": [
              "\n",
              "  <div id=\"df-187b9855-b774-4323-966f-89785ffa6143\">\n",
              "    <div class=\"colab-df-container\">\n",
              "      <div>\n",
              "<style scoped>\n",
              "    .dataframe tbody tr th:only-of-type {\n",
              "        vertical-align: middle;\n",
              "    }\n",
              "\n",
              "    .dataframe tbody tr th {\n",
              "        vertical-align: top;\n",
              "    }\n",
              "\n",
              "    .dataframe thead th {\n",
              "        text-align: right;\n",
              "    }\n",
              "</style>\n",
              "<table border=\"1\" class=\"dataframe\">\n",
              "  <thead>\n",
              "    <tr style=\"text-align: right;\">\n",
              "      <th></th>\n",
              "      <th>num_packets</th>\n",
              "      <th>total_bytes</th>\n",
              "      <th>min_pkt_size</th>\n",
              "      <th>max_pkt_size</th>\n",
              "      <th>avg_pkt_size</th>\n",
              "      <th>std_pkt_size</th>\n",
              "      <th>min_iat</th>\n",
              "      <th>max_iat</th>\n",
              "      <th>avg_iat</th>\n",
              "      <th>std_iat</th>\n",
              "      <th>dur</th>\n",
              "    </tr>\n",
              "  </thead>\n",
              "  <tbody>\n",
              "    <tr>\n",
              "      <th>880</th>\n",
              "      <td>-0.213737</td>\n",
              "      <td>-0.197132</td>\n",
              "      <td>-0.053062</td>\n",
              "      <td>0.506015</td>\n",
              "      <td>-0.256112</td>\n",
              "      <td>0.867116</td>\n",
              "      <td>-0.053072</td>\n",
              "      <td>1.821517</td>\n",
              "      <td>2.031768</td>\n",
              "      <td>2.224360</td>\n",
              "      <td>1.270146</td>\n",
              "    </tr>\n",
              "    <tr>\n",
              "      <th>338</th>\n",
              "      <td>2.319768</td>\n",
              "      <td>2.453027</td>\n",
              "      <td>-0.053062</td>\n",
              "      <td>0.506015</td>\n",
              "      <td>1.952091</td>\n",
              "      <td>-1.292743</td>\n",
              "      <td>-0.068994</td>\n",
              "      <td>3.117898</td>\n",
              "      <td>-0.574243</td>\n",
              "      <td>-0.417858</td>\n",
              "      <td>2.753912</td>\n",
              "    </tr>\n",
              "    <tr>\n",
              "      <th>587</th>\n",
              "      <td>0.938884</td>\n",
              "      <td>1.009948</td>\n",
              "      <td>-0.053062</td>\n",
              "      <td>0.506015</td>\n",
              "      <td>1.950354</td>\n",
              "      <td>-1.202007</td>\n",
              "      <td>-0.070763</td>\n",
              "      <td>1.869686</td>\n",
              "      <td>-0.569239</td>\n",
              "      <td>-0.418585</td>\n",
              "      <td>1.736669</td>\n",
              "    </tr>\n",
              "    <tr>\n",
              "      <th>103</th>\n",
              "      <td>-0.211643</td>\n",
              "      <td>-0.195748</td>\n",
              "      <td>-0.053062</td>\n",
              "      <td>0.506015</td>\n",
              "      <td>0.008501</td>\n",
              "      <td>0.984955</td>\n",
              "      <td>-0.024413</td>\n",
              "      <td>3.921234</td>\n",
              "      <td>2.815096</td>\n",
              "      <td>3.758379</td>\n",
              "      <td>2.983074</td>\n",
              "    </tr>\n",
              "    <tr>\n",
              "      <th>77</th>\n",
              "      <td>-0.215412</td>\n",
              "      <td>-0.197472</td>\n",
              "      <td>-0.053062</td>\n",
              "      <td>0.506015</td>\n",
              "      <td>-0.012923</td>\n",
              "      <td>1.049583</td>\n",
              "      <td>-0.060148</td>\n",
              "      <td>-0.686925</td>\n",
              "      <td>-0.566506</td>\n",
              "      <td>-0.599234</td>\n",
              "      <td>-0.757871</td>\n",
              "    </tr>\n",
              "    <tr>\n",
              "      <th>...</th>\n",
              "      <td>...</td>\n",
              "      <td>...</td>\n",
              "      <td>...</td>\n",
              "      <td>...</td>\n",
              "      <td>...</td>\n",
              "      <td>...</td>\n",
              "      <td>...</td>\n",
              "      <td>...</td>\n",
              "      <td>...</td>\n",
              "      <td>...</td>\n",
              "      <td>...</td>\n",
              "    </tr>\n",
              "    <tr>\n",
              "      <th>53</th>\n",
              "      <td>-0.210805</td>\n",
              "      <td>-0.196986</td>\n",
              "      <td>-0.053062</td>\n",
              "      <td>0.506015</td>\n",
              "      <td>-0.622743</td>\n",
              "      <td>0.408135</td>\n",
              "      <td>-0.071471</td>\n",
              "      <td>4.057739</td>\n",
              "      <td>2.570291</td>\n",
              "      <td>3.643012</td>\n",
              "      <td>3.122313</td>\n",
              "    </tr>\n",
              "    <tr>\n",
              "      <th>550</th>\n",
              "      <td>-0.142955</td>\n",
              "      <td>-0.118492</td>\n",
              "      <td>21.951916</td>\n",
              "      <td>0.506015</td>\n",
              "      <td>1.996263</td>\n",
              "      <td>-1.642964</td>\n",
              "      <td>-0.070409</td>\n",
              "      <td>1.836233</td>\n",
              "      <td>-0.408178</td>\n",
              "      <td>0.125266</td>\n",
              "      <td>1.289495</td>\n",
              "    </tr>\n",
              "    <tr>\n",
              "      <th>379</th>\n",
              "      <td>-0.215412</td>\n",
              "      <td>-0.197398</td>\n",
              "      <td>-0.053062</td>\n",
              "      <td>0.506015</td>\n",
              "      <td>0.051499</td>\n",
              "      <td>1.043941</td>\n",
              "      <td>0.039982</td>\n",
              "      <td>-0.691580</td>\n",
              "      <td>-0.575056</td>\n",
              "      <td>-0.605294</td>\n",
              "      <td>-0.762310</td>\n",
              "    </tr>\n",
              "    <tr>\n",
              "      <th>302</th>\n",
              "      <td>-0.215412</td>\n",
              "      <td>-0.197550</td>\n",
              "      <td>-0.053062</td>\n",
              "      <td>0.506015</td>\n",
              "      <td>-0.080341</td>\n",
              "      <td>1.065915</td>\n",
              "      <td>-0.067579</td>\n",
              "      <td>-0.687990</td>\n",
              "      <td>-0.560152</td>\n",
              "      <td>-0.600297</td>\n",
              "      <td>-0.754572</td>\n",
              "    </tr>\n",
              "    <tr>\n",
              "      <th>526</th>\n",
              "      <td>-0.172273</td>\n",
              "      <td>-0.151191</td>\n",
              "      <td>-0.053062</td>\n",
              "      <td>0.506015</td>\n",
              "      <td>1.879209</td>\n",
              "      <td>-0.746319</td>\n",
              "      <td>-0.056256</td>\n",
              "      <td>-0.675983</td>\n",
              "      <td>-0.578250</td>\n",
              "      <td>-0.599633</td>\n",
              "      <td>-0.730926</td>\n",
              "    </tr>\n",
              "  </tbody>\n",
              "</table>\n",
              "<p>245 rows × 11 columns</p>\n",
              "</div>\n",
              "      <button class=\"colab-df-convert\" onclick=\"convertToInteractive('df-187b9855-b774-4323-966f-89785ffa6143')\"\n",
              "              title=\"Convert this dataframe to an interactive table.\"\n",
              "              style=\"display:none;\">\n",
              "        \n",
              "  <svg xmlns=\"http://www.w3.org/2000/svg\" height=\"24px\"viewBox=\"0 0 24 24\"\n",
              "       width=\"24px\">\n",
              "    <path d=\"M0 0h24v24H0V0z\" fill=\"none\"/>\n",
              "    <path d=\"M18.56 5.44l.94 2.06.94-2.06 2.06-.94-2.06-.94-.94-2.06-.94 2.06-2.06.94zm-11 1L8.5 8.5l.94-2.06 2.06-.94-2.06-.94L8.5 2.5l-.94 2.06-2.06.94zm10 10l.94 2.06.94-2.06 2.06-.94-2.06-.94-.94-2.06-.94 2.06-2.06.94z\"/><path d=\"M17.41 7.96l-1.37-1.37c-.4-.4-.92-.59-1.43-.59-.52 0-1.04.2-1.43.59L10.3 9.45l-7.72 7.72c-.78.78-.78 2.05 0 2.83L4 21.41c.39.39.9.59 1.41.59.51 0 1.02-.2 1.41-.59l7.78-7.78 2.81-2.81c.8-.78.8-2.07 0-2.86zM5.41 20L4 18.59l7.72-7.72 1.47 1.35L5.41 20z\"/>\n",
              "  </svg>\n",
              "      </button>\n",
              "      \n",
              "  <style>\n",
              "    .colab-df-container {\n",
              "      display:flex;\n",
              "      flex-wrap:wrap;\n",
              "      gap: 12px;\n",
              "    }\n",
              "\n",
              "    .colab-df-convert {\n",
              "      background-color: #E8F0FE;\n",
              "      border: none;\n",
              "      border-radius: 50%;\n",
              "      cursor: pointer;\n",
              "      display: none;\n",
              "      fill: #1967D2;\n",
              "      height: 32px;\n",
              "      padding: 0 0 0 0;\n",
              "      width: 32px;\n",
              "    }\n",
              "\n",
              "    .colab-df-convert:hover {\n",
              "      background-color: #E2EBFA;\n",
              "      box-shadow: 0px 1px 2px rgba(60, 64, 67, 0.3), 0px 1px 3px 1px rgba(60, 64, 67, 0.15);\n",
              "      fill: #174EA6;\n",
              "    }\n",
              "\n",
              "    [theme=dark] .colab-df-convert {\n",
              "      background-color: #3B4455;\n",
              "      fill: #D2E3FC;\n",
              "    }\n",
              "\n",
              "    [theme=dark] .colab-df-convert:hover {\n",
              "      background-color: #434B5C;\n",
              "      box-shadow: 0px 1px 3px 1px rgba(0, 0, 0, 0.15);\n",
              "      filter: drop-shadow(0px 1px 2px rgba(0, 0, 0, 0.3));\n",
              "      fill: #FFFFFF;\n",
              "    }\n",
              "  </style>\n",
              "\n",
              "      <script>\n",
              "        const buttonEl =\n",
              "          document.querySelector('#df-187b9855-b774-4323-966f-89785ffa6143 button.colab-df-convert');\n",
              "        buttonEl.style.display =\n",
              "          google.colab.kernel.accessAllowed ? 'block' : 'none';\n",
              "\n",
              "        async function convertToInteractive(key) {\n",
              "          const element = document.querySelector('#df-187b9855-b774-4323-966f-89785ffa6143');\n",
              "          const dataTable =\n",
              "            await google.colab.kernel.invokeFunction('convertToInteractive',\n",
              "                                                     [key], {});\n",
              "          if (!dataTable) return;\n",
              "\n",
              "          const docLinkHtml = 'Like what you see? Visit the ' +\n",
              "            '<a target=\"_blank\" href=https://colab.research.google.com/notebooks/data_table.ipynb>data table notebook</a>'\n",
              "            + ' to learn more about interactive tables.';\n",
              "          element.innerHTML = '';\n",
              "          dataTable['output_type'] = 'display_data';\n",
              "          await google.colab.output.renderOutput(dataTable, element);\n",
              "          const docLink = document.createElement('div');\n",
              "          docLink.innerHTML = docLinkHtml;\n",
              "          element.appendChild(docLink);\n",
              "        }\n",
              "      </script>\n",
              "    </div>\n",
              "  </div>\n",
              "  "
            ]
          },
          "metadata": {}
        }
      ]
    },
    {
      "cell_type": "code",
      "source": [
        "\n",
        "#knn classifier\n",
        "\n",
        "#pick the 10 closest entries, pick majority\n",
        "\n",
        "i = 0\n",
        "accuracy = 0\n",
        "K = 10\n",
        "\n",
        "APP_test_predicted = []\n",
        "for index, row in X_norm_test.iterrows():\n",
        "  distances = []\n",
        "  for ii, rr in X_norm_train.iterrows():\n",
        "    distances.append(np.linalg.norm(np.array(row-rr.to_numpy())))\n",
        "\n",
        "  min_idx = np.argmin(distances)\n",
        "\n",
        "  predicted_app = APP_train.iloc[min_idx]\n",
        "  APP_test_predicted.append(predicted_app) #\n",
        "\n",
        "  if(APP_test.iloc[i] == predicted_app):\n",
        "    accuracy = accuracy + 1\n",
        "  i = i + 1 \n",
        "\n",
        "\n",
        "\n",
        "print(accuracy/len(APP_test))\n",
        "\n",
        "fig, ax = plt.subplots(figsize=(15, 15));\n",
        "ConfusionMatrixDisplay.from_predictions(APP_test_predicted, APP_test, ax=ax);\n",
        "\n",
        "\n",
        "#fig, ax = plt.subplots.from_predictions(APP_test_predicted, APP_test, ax)"
      ],
      "metadata": {
        "colab": {
          "base_uri": "https://localhost:8080/",
          "height": 870
        },
        "id": "LDzWEvo3Yez6",
        "outputId": "742a125e-b6b4-470b-d754-ef5a5614863e"
      },
      "execution_count": null,
      "outputs": [
        {
          "output_type": "stream",
          "name": "stdout",
          "text": [
            "0.7510204081632653\n"
          ]
        },
        {
          "output_type": "display_data",
          "data": {
            "text/plain": [
              "<Figure size 1080x1080 with 2 Axes>"
            ],
            "image/png": "[encoded data removed]"
          },
          "metadata": {
            "needs_background": "light"
          }
        }
      ]
    },
    {
      "cell_type": "code",
      "source": [
        "import pandas as pd\n",
        "import matplotlib.pyplot as plt\n",
        "from sklearn.utils import resample\n",
        "\n",
        "\n",
        "from sklearn.model_selection import KFold, train_test_split, StratifiedKFold\n",
        "from sklearn.preprocessing import LabelEncoder, StandardScaler\n",
        "from sklearn.metrics import  classification_report\n",
        "from sklearn.metrics import confusion_matrix, ConfusionMatrixDisplay\n",
        "from sklearn.neighbors import KNeighborsClassifier\n",
        "from sklearn.ensemble import RandomForestClassifier\n",
        "from sklearn.naive_bayes import GaussianNB\n",
        "\n",
        "\n",
        "#constructing features\n",
        "le = LabelEncoder();\n",
        "scaler = StandardScaler();\n",
        "\n",
        "\n",
        "#using only traffic features\n",
        "X = dataset.drop(['direction','sport','dport'],axis=1).dropna();\n",
        "\n",
        "#port-based classification, usable port information is source port\n",
        "#X = dataset[['sport','app']]\n",
        "\n",
        "\n",
        "Y = le.fit_transform(X['app']);\n",
        "X = X.drop('app',axis=1);\n",
        "\n",
        "X_norm = scaler.fit_transform(X);\n",
        "\n",
        "\n",
        "#now let's use a stratified k-fold cross validation approach with 5 splits\n",
        "tot_cm = np.zeros([len(apps),len(apps)])\n",
        "skf = StratifiedKFold(n_splits=5,shuffle=True)\n",
        "print('KNN')\n",
        "for train, test in skf.split(X_norm, Y):\n",
        "    knn = KNeighborsClassifier(n_neighbors=3)\n",
        "    knn.fit(X_norm[train], Y[train])\n",
        "    knn_predict = knn.predict(X_norm[test])\n",
        "    knn_report = classification_report(Y[test],knn_predict,target_names=le.inverse_transform(np.arange(len(apps))),digits=3,output_dict=True)\n",
        "    fold_accuracy = knn_report['accuracy']\n",
        "    print(fold_accuracy)\n",
        "    cm = confusion_matrix(Y[test],knn.predict(X_norm[test]))\n",
        "    tot_cm = tot_cm + cm;\n",
        "\n",
        "print('Random Forest')\n",
        "#other approach: a random forest classifier\n",
        "for train, test in skf.split(X_norm, Y):\n",
        "    clf = RandomForestClassifier()\n",
        "    clf.fit(X_norm[train], Y[train])\n",
        "    y_pred = clf.predict(X_norm[test])\n",
        "    clf_report = classification_report(Y[test],y_pred,target_names=le.inverse_transform(np.arange(len(apps))),digits=3,output_dict=True)\n",
        "    fold_accuracy = clf_report['accuracy']\n",
        "    print(fold_accuracy)\n",
        "    cm = confusion_matrix(Y[test],knn.predict(X_norm[test]))\n",
        "    tot_cm = tot_cm + cm;\n"
      ],
      "metadata": {
        "colab": {
          "base_uri": "https://localhost:8080/"
        },
        "id": "ga4hMa2EepPG",
        "outputId": "67db8e76-9616-4d33-8217-558c712ec8a6"
      },
      "execution_count": null,
      "outputs": [
        {
          "output_type": "stream",
          "name": "stdout",
          "text": [
            "KNN\n",
            "0.7177914110429447\n",
            "0.7423312883435583\n",
            "0.7730061349693251\n",
            "0.7668711656441718\n",
            "0.6932515337423313\n",
            "Random Forest\n",
            "0.852760736196319\n",
            "0.7668711656441718\n",
            "0.7975460122699386\n",
            "0.8220858895705522\n",
            "0.7730061349693251\n"
          ]
        }
      ]
    }
  ]
}