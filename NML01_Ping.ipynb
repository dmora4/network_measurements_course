{
  "nbformat": 4,
  "nbformat_minor": 0,
  "metadata": {
    "colab": {
      "provenance": [],
      "authorship_tag": "ABX9TyNVvUsz5vjmhCk4NXnQSrHT",
      "include_colab_link": true
    },
    "kernelspec": {
      "name": "python3",
      "display_name": "Python 3"
    },
    "language_info": {
      "name": "python"
    }
  },
  "cells": [
    {
      "cell_type": "markdown",
      "metadata": {
        "id": "view-in-github",
        "colab_type": "text"
      },
      "source": [
        "<a href=\"https://colab.research.google.com/github/dmora4/network_measurements_course/blob/main/NML01_Ping.ipynb\" target=\"_parent\"><img src=\"https://colab.research.google.com/assets/colab-badge.svg\" alt=\"Open In Colab\"/></a>"
      ]
    },
    {
      "cell_type": "markdown",
      "source": [
        "\n",
        "# Intro\n",
        "When we write here in CoLab, we are given an *instance* of a VM into Google's Cloud Network, thus everyone in this classroom is on a different VM. \n",
        "\n",
        "Some python libs are already installed on the VMs, but we can install more as we wish. \n",
        "\n",
        "Each time we close the notebook, everything is erased and resources are released and given to someone else [not persistent]. The maximum amount of time to keep notebook open is usually approximately 24 hrs... plenty of time.\n"
      ],
      "metadata": {
        "id": "ntCtuwag3hnM"
      }
    },
    {
      "cell_type": "markdown",
      "source": [
        "Commands starting with `!` calls a terminal command on the VM\n",
        "\n",
        "Try out the `ls` command:"
      ],
      "metadata": {
        "id": "y20CN3cq2Wi6"
      }
    },
    {
      "cell_type": "code",
      "source": [
        "!ls"
      ],
      "metadata": {
        "colab": {
          "base_uri": "https://localhost:8080/"
        },
        "id": "4TeBDzs03Ozk",
        "outputId": "a99be2bc-46ec-4c1a-fb4b-de34f9aa0be8"
      },
      "execution_count": null,
      "outputs": [
        {
          "output_type": "stream",
          "name": "stdout",
          "text": [
            "sample_data\n"
          ]
        }
      ]
    },
    {
      "cell_type": "markdown",
      "source": [
        "`Sample_data` is a predefined folder in the VM used to store files"
      ],
      "metadata": {
        "id": "Q5Top4Uu4i1l"
      }
    },
    {
      "cell_type": "markdown",
      "source": [
        "## Install useful libraries\n",
        "`pythonping` is a Python implementation of `ping`\n",
        "\n",
        "`scapy` is a Python library to manipulate packets\n",
        "\n",
        "\n"
      ],
      "metadata": {
        "id": "P-Yge7Jo4u62"
      }
    },
    {
      "cell_type": "code",
      "source": [
        "!pip install pythonping\n",
        "!pip install --pre scapy[basic]\n"
      ],
      "metadata": {
        "colab": {
          "base_uri": "https://localhost:8080/"
        },
        "id": "ivZdU1g24gbj",
        "outputId": "2f7bf0af-9db8-40d0-d947-b31f7d824120"
      },
      "execution_count": null,
      "outputs": [
        {
          "output_type": "stream",
          "name": "stdout",
          "text": [
            "Looking in indexes: https://pypi.org/simple, https://us-python.pkg.dev/colab-wheels/public/simple/\n",
            "Collecting pythonping\n",
            "  Downloading pythonping-1.1.4-py3-none-any.whl (16 kB)\n",
            "Installing collected packages: pythonping\n",
            "Successfully installed pythonping-1.1.4\n",
            "Looking in indexes: https://pypi.org/simple, https://us-python.pkg.dev/colab-wheels/public/simple/\n",
            "Collecting scapy[basic]\n",
            "  Downloading scapy-2.5.0.tar.gz (1.3 MB)\n",
            "\u001b[2K     \u001b[90m━━━━━━━━━━━━━━━━━━━━━━━━━━━━━━━━━━━━━━━━\u001b[0m \u001b[32m1.3/1.3 MB\u001b[0m \u001b[31m40.9 MB/s\u001b[0m eta \u001b[36m0:00:00\u001b[0m\n",
            "\u001b[?25h  Preparing metadata (setup.py) ... \u001b[?25l\u001b[?25hdone\n",
            "Requirement already satisfied: ipython in /usr/local/lib/python3.8/dist-packages (from scapy[basic]) (7.9.0)\n",
            "Requirement already satisfied: pexpect in /usr/local/lib/python3.8/dist-packages (from ipython->scapy[basic]) (4.8.0)\n",
            "Requirement already satisfied: pickleshare in /usr/local/lib/python3.8/dist-packages (from ipython->scapy[basic]) (0.7.5)\n",
            "Requirement already satisfied: pygments in /usr/local/lib/python3.8/dist-packages (from ipython->scapy[basic]) (2.6.1)\n",
            "Requirement already satisfied: decorator in /usr/local/lib/python3.8/dist-packages (from ipython->scapy[basic]) (4.4.2)\n",
            "Collecting jedi>=0.10\n",
            "  Downloading jedi-0.18.2-py2.py3-none-any.whl (1.6 MB)\n",
            "\u001b[2K     \u001b[90m━━━━━━━━━━━━━━━━━━━━━━━━━━━━━━━━━━━━━━━━\u001b[0m \u001b[32m1.6/1.6 MB\u001b[0m \u001b[31m64.9 MB/s\u001b[0m eta \u001b[36m0:00:00\u001b[0m\n",
            "\u001b[?25hRequirement already satisfied: traitlets>=4.2 in /usr/local/lib/python3.8/dist-packages (from ipython->scapy[basic]) (5.7.1)\n",
            "Requirement already satisfied: setuptools>=18.5 in /usr/local/lib/python3.8/dist-packages (from ipython->scapy[basic]) (57.4.0)\n",
            "Requirement already satisfied: prompt-toolkit<2.1.0,>=2.0.0 in /usr/local/lib/python3.8/dist-packages (from ipython->scapy[basic]) (2.0.10)\n",
            "Requirement already satisfied: backcall in /usr/local/lib/python3.8/dist-packages (from ipython->scapy[basic]) (0.2.0)\n",
            "Requirement already satisfied: parso<0.9.0,>=0.8.0 in /usr/local/lib/python3.8/dist-packages (from jedi>=0.10->ipython->scapy[basic]) (0.8.3)\n",
            "Requirement already satisfied: six>=1.9.0 in /usr/local/lib/python3.8/dist-packages (from prompt-toolkit<2.1.0,>=2.0.0->ipython->scapy[basic]) (1.15.0)\n",
            "Requirement already satisfied: wcwidth in /usr/local/lib/python3.8/dist-packages (from prompt-toolkit<2.1.0,>=2.0.0->ipython->scapy[basic]) (0.2.6)\n",
            "Requirement already satisfied: ptyprocess>=0.5 in /usr/local/lib/python3.8/dist-packages (from pexpect->ipython->scapy[basic]) (0.7.0)\n",
            "Building wheels for collected packages: scapy\n",
            "  Building wheel for scapy (setup.py) ... \u001b[?25l\u001b[?25hdone\n",
            "  Created wheel for scapy: filename=scapy-2.5.0-py2.py3-none-any.whl size=1444349 sha256=8ca46d890d17fed12dfa3c49b02138532474becdf6e2833e9b3dc606a230cc04\n",
            "  Stored in directory: /root/.cache/pip/wheels/98/ea/08/164e840ab2c83b892bf8b193ce9d92d029dc3e5f2b75319953\n",
            "Successfully built scapy\n",
            "Installing collected packages: scapy, jedi\n",
            "Successfully installed jedi-0.18.2 scapy-2.5.0\n"
          ]
        }
      ]
    },
    {
      "cell_type": "markdown",
      "source": [
        "## Find IP of the VM we are using in Google's Cloud Network"
      ],
      "metadata": {
        "id": "KjjOcqcN5HY5"
      }
    },
    {
      "cell_type": "markdown",
      "source": [
        "`json` is used to parse the response\n",
        "\n",
        "`urllib` is to to send requests to a Web Service that gives provides a user's IP addr. In our case, using this Web Service from the VM will give us the IP of the VM\n"
      ],
      "metadata": {
        "id": "_iYJKe6S5p3G"
      }
    },
    {
      "cell_type": "code",
      "source": [
        "import urllib.request \n",
        "import json\n",
        "\n",
        "ip = urllib.request.urlopen('https://api.ipify.org').read().decode('UTF-8')\n",
        "ip_info = json.loads(urllib.request.urlopen('http://ip-api.com/json/' + ip).read())\n",
        "\n",
        "print('External IP\\t', ip)\n",
        "print('Organizaiton:\\t', ip_info[\"org\"])\n",
        "print('Locaiton:\\t', ip_info[\"city\"], ',',ip_info[\"country\"])"
      ],
      "metadata": {
        "colab": {
          "base_uri": "https://localhost:8080/"
        },
        "id": "WYdwdRb-5YUn",
        "outputId": "d6b48e90-3665-4337-d7a2-ce6b37724570"
      },
      "execution_count": null,
      "outputs": [
        {
          "output_type": "stream",
          "name": "stdout",
          "text": [
            "External IP\t 34.145.203.132\n",
            "Organizaiton:\t Google Cloud (us-east4)\n",
            "Locaiton:\t Washington , United States\n"
          ]
        }
      ]
    },
    {
      "cell_type": "markdown",
      "source": [
        "Now let's use the Python implementation of `ping`\n",
        "\n",
        "We are going to ping a relatively faraway server... off to New Zealand!"
      ],
      "metadata": {
        "id": "MlQ_XsXR3rbk"
      }
    },
    {
      "cell_type": "code",
      "source": [
        "from pythonping import ping\n",
        "target = 'ftp.nz.debian.org'\n",
        "ping(target, verbose=False, count=20)\n"
      ],
      "metadata": {
        "colab": {
          "base_uri": "https://localhost:8080/"
        },
        "id": "Ke0Ttw117TPm",
        "outputId": "adeec807-e4d3-49ad-9697-cad637b5ee2c"
      },
      "execution_count": null,
      "outputs": [
        {
          "output_type": "execute_result",
          "data": {
            "text/plain": [
              "Reply from 163.7.134.112, 29 bytes in 213.98ms\n",
              "Reply from 163.7.134.112, 29 bytes in 213.03ms\n",
              "Reply from 163.7.134.112, 29 bytes in 213.2ms\n",
              "Reply from 163.7.134.112, 29 bytes in 213.12ms\n",
              "Reply from 163.7.134.112, 29 bytes in 213.15ms\n",
              "Reply from 163.7.134.112, 29 bytes in 213.05ms\n",
              "Reply from 163.7.134.112, 29 bytes in 213.13ms\n",
              "Reply from 163.7.134.112, 29 bytes in 213.19ms\n",
              "Reply from 163.7.134.112, 29 bytes in 213.12ms\n",
              "Reply from 163.7.134.112, 29 bytes in 213.12ms\n",
              "Reply from 163.7.134.112, 29 bytes in 213.14ms\n",
              "Reply from 163.7.134.112, 29 bytes in 213.17ms\n",
              "Reply from 163.7.134.112, 29 bytes in 213.14ms\n",
              "Reply from 163.7.134.112, 29 bytes in 213.08ms\n",
              "Reply from 163.7.134.112, 29 bytes in 213.08ms\n",
              "Reply from 163.7.134.112, 29 bytes in 213.06ms\n",
              "Reply from 163.7.134.112, 29 bytes in 213.15ms\n",
              "Reply from 163.7.134.112, 29 bytes in 213.18ms\n",
              "Reply from 163.7.134.112, 29 bytes in 213.23ms\n",
              "Reply from 163.7.134.112, 29 bytes in 213.21ms\n",
              "\n",
              "Round Trip Times min/avg/max is 213.03/213.18/213.98 ms"
            ]
          },
          "metadata": {},
          "execution_count": 5
        }
      ]
    },
    {
      "cell_type": "markdown",
      "source": [
        "Now we introduce some Python libaries handy for processing packets. \n",
        "\n",
        "Using `scapy` we will implement our own versions of:\n",
        "*   `scapy`\n",
        "*   `traceout`"
      ],
      "metadata": {
        "id": "d6JfD1NJLGXp"
      }
    },
    {
      "cell_type": "markdown",
      "source": [
        "## Intro to `scapy`\n",
        "\n",
        "`scapy` allows us to *create* network packets by easily picking several pre-existing configurations.\n",
        "\n",
        "For example, let's see the header of the default IP packet provded by `scapy`:"
      ],
      "metadata": {
        "id": "q3WwrT3ZLYEv"
      }
    },
    {
      "cell_type": "code",
      "source": [
        "from scapy.all import *\n",
        "\n",
        "IP().show()"
      ],
      "metadata": {
        "colab": {
          "base_uri": "https://localhost:8080/"
        },
        "id": "kl63_rNR5y5m",
        "outputId": "e46e183d-8e31-479d-bd26-b9b1aec46049"
      },
      "execution_count": null,
      "outputs": [
        {
          "output_type": "stream",
          "name": "stdout",
          "text": [
            "###[ IP ]### \n",
            "  version   = 4\n",
            "  ihl       = None\n",
            "  tos       = 0x0\n",
            "  len       = None\n",
            "  id        = 1\n",
            "  flags     = \n",
            "  frag      = 0\n",
            "  ttl       = 64\n",
            "  proto     = 0\n",
            "  chksum    = None\n",
            "  src       = 127.0.0.1\n",
            "  dst       = 127.0.0.1\n",
            "  \\options   \\\n",
            "\n"
          ]
        }
      ]
    },
    {
      "cell_type": "markdown",
      "source": [
        "We can do the same for other protocols (ICMP, TCP, UDP, etc...):"
      ],
      "metadata": {
        "id": "xqm5U5ZZLywg"
      }
    },
    {
      "cell_type": "code",
      "source": [
        "ICMP().show()\n",
        "\n",
        "\n",
        "TCP().show()\n",
        "\n",
        "UDP().show()"
      ],
      "metadata": {
        "colab": {
          "base_uri": "https://localhost:8080/"
        },
        "id": "fV4lmDz1Lnve",
        "outputId": "64aab214-c87d-40b6-8384-305ccc05a519"
      },
      "execution_count": null,
      "outputs": [
        {
          "output_type": "stream",
          "name": "stdout",
          "text": [
            "###[ ICMP ]### \n",
            "  type      = echo-request\n",
            "  code      = 0\n",
            "  chksum    = None\n",
            "  id        = 0x0\n",
            "  seq       = 0x0\n",
            "  unused    = ''\n",
            "\n",
            "###[ TCP ]### \n",
            "  sport     = 20\n",
            "  dport     = 80\n",
            "  seq       = 0\n",
            "  ack       = 0\n",
            "  dataofs   = None\n",
            "  reserved  = 0\n",
            "  flags     = S\n",
            "  window    = 8192\n",
            "  chksum    = None\n",
            "  urgptr    = 0\n",
            "  options   = ''\n",
            "\n",
            "###[ UDP ]### \n",
            "  sport     = 53\n",
            "  dport     = 53\n",
            "  len       = None\n",
            "  chksum    = None\n",
            "\n"
          ]
        }
      ]
    },
    {
      "cell_type": "markdown",
      "source": [
        "\n",
        "Consider the TCP header. Recall the standard HTTP port is 80. `scapy` sets the port (`dport` field) to 80 in its default configuration of a TCP packet. \n",
        "\n",
        "Fields of the header are fields of the object and are to be changed inside the `(field=new_val, ...)`. The division operator `\\` is overloaded in `scapy` to stack packets. See below we:\n",
        "*   destination fiel `dst` in the IP packet header, and\n",
        "*   stack an `ICMP` packet inside and `IP` packet\n",
        "\n",
        "Note, we previously created a variable names `target` set host name of this New Zealand server, but the hostname reused here for clarity. "
      ],
      "metadata": {
        "id": "xWJ3XUmPMMjl"
      }
    },
    {
      "cell_type": "code",
      "source": [
        "packet = IP(dst= 'ftp.nz.debian.org') / ICMP()\n",
        "packet.show()"
      ],
      "metadata": {
        "colab": {
          "base_uri": "https://localhost:8080/"
        },
        "id": "_BUYQT9fMYUc",
        "outputId": "a214ec00-4d10-4734-e6fe-632ca56c3275"
      },
      "execution_count": null,
      "outputs": [
        {
          "output_type": "stream",
          "name": "stdout",
          "text": [
            "###[ IP ]### \n",
            "  version   = 4\n",
            "  ihl       = None\n",
            "  tos       = 0x0\n",
            "  len       = None\n",
            "  id        = 1\n",
            "  flags     = \n",
            "  frag      = 0\n",
            "  ttl       = 64\n",
            "  proto     = 1\n",
            "  chksum    = None\n",
            "  src       = 172.28.0.12\n",
            "  dst       = Net(\"ftp.nz.debian.org/32\")\n",
            "  \\options   \\\n",
            "###[ ICMP ]### \n",
            "     type      = echo-request\n",
            "     code      = 0\n",
            "     chksum    = None\n",
            "     id        = 0x0\n",
            "     seq       = 0x0\n",
            "     unused    = ''\n",
            "\n"
          ]
        }
      ]
    },
    {
      "cell_type": "markdown",
      "source": [
        "Use `sr()`, which stands for *send* and *recieve*, to send the packet we previously created. This `sr()` returns two Python lists: \n",
        "*   the list of *answered* packets, and\n",
        "*   the list of *unanswered* packets\n",
        "\n",
        "Recall, this packet is an `echo-request` message (by default) with the New Zealand server as its destination."
      ],
      "metadata": {
        "id": "jjpLkGwNNMCs"
      }
    },
    {
      "cell_type": "code",
      "source": [
        "ans, unans = sr(packet, verbose=False)\n",
        "print('Received:\\n' , len(ans), 'packet/s\\n')\n",
        "print('Summary:')\n",
        "#print('---------------- request ---------------- \\t\\t ---------------- response ----------------')\n",
        "#print('[headers] \\t[src] > [dst]\\t\\t[type]\\t[seq] ==> [headers]\\t[src] > [dst]\\t[type] [seq]')\n",
        "print(ans.summary())"
      ],
      "metadata": {
        "colab": {
          "base_uri": "https://localhost:8080/"
        },
        "id": "ruU2x_8JNBKj",
        "outputId": "f4611dc7-62f3-4e24-f87a-53f9f55fd821"
      },
      "execution_count": null,
      "outputs": [
        {
          "output_type": "stream",
          "name": "stdout",
          "text": [
            "Received:\n",
            " 1 packet/s\n",
            "\n",
            "Summary:\n",
            "IP / ICMP 172.28.0.12 > 163.7.134.112 echo-request 0 ==> IP / ICMP 163.7.134.112 > 172.28.0.12 echo-reply 0\n",
            "None\n"
          ]
        }
      ]
    },
    {
      "cell_type": "markdown",
      "source": [
        "Observe the packet we sent was of type `echo-request`, thus in the response packet, an `echo-reply` is appropriate. "
      ],
      "metadata": {
        "id": "EnIqdoPPOBM3"
      }
    },
    {
      "cell_type": "code",
      "source": [
        "# Let's use query and answer variables to easily and clearly access the packets \n",
        "# involved in this sr exchange\n",
        "query = ans[0][0]\n",
        "answer = ans[0][1]\n",
        "\n",
        "print(query.summary())\n",
        "print(answer.summary())"
      ],
      "metadata": {
        "colab": {
          "base_uri": "https://localhost:8080/"
        },
        "id": "TD44TJp4OEct",
        "outputId": "4c50db5c-8a10-4f36-ccff-5f62afa6f7d9"
      },
      "execution_count": null,
      "outputs": [
        {
          "output_type": "stream",
          "name": "stdout",
          "text": [
            "IP / ICMP 172.28.0.12 > 163.7.134.112 echo-request 0\n",
            "IP / ICMP 163.7.134.112 > 172.28.0.12 echo-reply 0\n"
          ]
        }
      ]
    },
    {
      "cell_type": "markdown",
      "source": [
        "This is proof that `query` and `answer` are the same as `ans[0][0]` and `ans[0][1]`"
      ],
      "metadata": {
        "id": "MwZRk2tVOsSA"
      }
    },
    {
      "cell_type": "code",
      "source": [
        "# .sent_time is the time the query packet was SENT. Note, in units of ns\n",
        "print(query.sent_time, 'ns')\n",
        "\n",
        "# .time is the time the answer packet was RECIEVED. Note, in units of ns\n",
        "print(answer.time, 'ns')\n",
        "\n",
        "rtt = 1000* (answer.time-query.sent_time)\n",
        "print('%.3f' % rtt, 'ms') \n",
        "#values are given in ns, multiply by 1000 to get in ms"
      ],
      "metadata": {
        "colab": {
          "base_uri": "https://localhost:8080/"
        },
        "id": "pc2N3YAOOyFC",
        "outputId": "c2536491-92a2-486c-816f-c6103683fa8b"
      },
      "execution_count": null,
      "outputs": [
        {
          "output_type": "stream",
          "name": "stdout",
          "text": [
            "1677185225.2248254 ns\n",
            "1677185225.4400218 ns\n",
            "215.196 ms\n"
          ]
        }
      ]
    },
    {
      "cell_type": "markdown",
      "source": [
        "### Remark on private vesus external IP addresses\n",
        "\n",
        "This Google farm is a LAN, thus this VM has *private* address. When encountered with sending messages in/out the LAN, a border router *magically* tranforms private addresses to external addresses (and vice versa). When we send a message and hardcode our src address with the external IP, the response message will try to reply to the external IP, and the border router will just keep the message for itself. This response message will only reach the border router address... it will not reach our specific VM machine. In order to reach our specific VM machine, we should keep our private address as the src so that when the border address recieves the reply message, it knows to translate the external message back to our private address and the reply is reach our specfic VM! "
      ],
      "metadata": {
        "id": "mHnZuiCDQdXT"
      }
    },
    {
      "cell_type": "markdown",
      "source": [
        "## Implement our own version of `ping`"
      ],
      "metadata": {
        "id": "f8ZMtco6OkUt"
      }
    },
    {
      "cell_type": "code",
      "source": [
        "# Report min, max, avg rtt (exactly like ping)...\n",
        "# Our version does not print std-dev... :(\n",
        "def ping2(dest, count, ttl=64, verbose=False):\n",
        "  rcv_count = 0\n",
        "  sent_count = 0\n",
        "  lost_count = 0\n",
        "  rtt_sum = 0.0\n",
        "  rtt_min = 1000000.0\n",
        "  rtt_max = 0.0\n",
        "  \n",
        "  for i in range(count):\n",
        "    packet = IP(dst = dest, ttl=ttl) / ICMP(seq = i)\n",
        "    ans, unans = sr(packet, verbose=False)\n",
        "    sent_count = sent_count + 1\n",
        "    \n",
        "\n",
        "    if(len(ans) > 0):\n",
        "      rtt = 1000*(ans[0][1].time - ans[0][0].sent_time)\n",
        "      if(verbose == True):\n",
        "        print(len(ans[0][1]),'bytes from', ans[0][1].src, ': icmp_seq=', ans[0][1].seq,'ttl=', packet.ttl, 'time=', '%.3f'% rtt, 'ms')\n",
        "      rcv_count = rcv_count + 1\n",
        "      rtt_sum = rtt_sum + rtt\n",
        "      if(len(unans)>0):\n",
        "        lost = lost + len(unans)\n",
        "      if(rtt > rtt_max):\n",
        "        rtt_max = rtt\n",
        "      if(rtt < rtt_min):\n",
        "        rtt_min = rtt    \n",
        "  \n",
        "  rtt_avg = rtt_sum / rcv_count\n",
        "\n",
        "  print('--- ping statistics ---')\n",
        "  loss_rate = 100.0*(lost_count)/sent_count\n",
        "  print(sent_count, 'packets transmitted, ', rcv_count, 'packets received, ', loss_rate, '% packet loss')\n",
        "  print('round-trip min/avg/max= ', '%.3f'% rtt_min,'/', '%.3f'% rtt_avg,'/', '%.3f'% rtt_max)\n",
        "\n",
        "\n",
        "\n",
        "ping2(target, 20, verbose=True)\n",
        "\n",
        "#question: do we get the size of the mssg... is it just length(ans[0][1]) ?\n"
      ],
      "metadata": {
        "colab": {
          "base_uri": "https://localhost:8080/"
        },
        "id": "G8XSfQS5Q5Jr",
        "outputId": "772fcbe3-13f0-4aa0-985e-22dfe8c67727"
      },
      "execution_count": null,
      "outputs": [
        {
          "output_type": "stream",
          "name": "stdout",
          "text": [
            "28 bytes from 163.7.134.112 : icmp_seq= 0 ttl= 64 time= 214.220 ms\n",
            "28 bytes from 163.7.134.112 : icmp_seq= 1 ttl= 64 time= 213.414 ms\n",
            "28 bytes from 163.7.134.112 : icmp_seq= 2 ttl= 64 time= 213.604 ms\n",
            "28 bytes from 163.7.134.112 : icmp_seq= 3 ttl= 64 time= 213.482 ms\n",
            "28 bytes from 163.7.134.112 : icmp_seq= 4 ttl= 64 time= 213.407 ms\n",
            "28 bytes from 163.7.134.112 : icmp_seq= 5 ttl= 64 time= 213.356 ms\n",
            "28 bytes from 163.7.134.112 : icmp_seq= 6 ttl= 64 time= 213.481 ms\n",
            "28 bytes from 163.7.134.112 : icmp_seq= 7 ttl= 64 time= 213.688 ms\n",
            "28 bytes from 163.7.134.112 : icmp_seq= 8 ttl= 64 time= 213.566 ms\n",
            "28 bytes from 163.7.134.112 : icmp_seq= 9 ttl= 64 time= 213.506 ms\n",
            "28 bytes from 163.7.134.112 : icmp_seq= 10 ttl= 64 time= 213.359 ms\n",
            "28 bytes from 163.7.134.112 : icmp_seq= 11 ttl= 64 time= 213.458 ms\n",
            "28 bytes from 163.7.134.112 : icmp_seq= 12 ttl= 64 time= 213.407 ms\n",
            "28 bytes from 163.7.134.112 : icmp_seq= 13 ttl= 64 time= 213.461 ms\n",
            "28 bytes from 163.7.134.112 : icmp_seq= 14 ttl= 64 time= 213.474 ms\n",
            "28 bytes from 163.7.134.112 : icmp_seq= 15 ttl= 64 time= 213.449 ms\n",
            "28 bytes from 163.7.134.112 : icmp_seq= 16 ttl= 64 time= 213.468 ms\n",
            "28 bytes from 163.7.134.112 : icmp_seq= 17 ttl= 64 time= 213.367 ms\n",
            "28 bytes from 163.7.134.112 : icmp_seq= 18 ttl= 64 time= 213.451 ms\n",
            "28 bytes from 163.7.134.112 : icmp_seq= 19 ttl= 64 time= 213.412 ms\n",
            "--- ping statistics ---\n",
            "20 packets transmitted,  20 packets received,  0.0 % packet loss\n",
            "round-trip min/avg/max=  213.356 / 213.502 / 214.220\n"
          ]
        }
      ]
    },
    {
      "cell_type": "code",
      "source": [
        "!apt-get install traceroute"
      ],
      "metadata": {
        "colab": {
          "base_uri": "https://localhost:8080/"
        },
        "id": "08mHtsRjabUT",
        "outputId": "dac04f3b-91a0-4c1d-f26d-2ec1db277b01"
      },
      "execution_count": null,
      "outputs": [
        {
          "output_type": "stream",
          "name": "stdout",
          "text": [
            "Reading package lists... Done\n",
            "Building dependency tree       \n",
            "Reading state information... Done\n",
            "traceroute is already the newest version (1:2.1.0-2).\n",
            "The following package was automatically installed and is no longer required:\n",
            "  libnvidia-common-510\n",
            "Use 'apt autoremove' to remove it.\n",
            "0 upgraded, 0 newly installed, 0 to remove and 21 not upgraded.\n",
            "traceroute to ftp.nz.debian.org (163.7.134.112), 30 hops max, 60 byte packets\n",
            " 1  172.28.0.1 (172.28.0.1)  0.057 ms  0.007 ms  0.006 ms\n",
            " 2  66.249.94.186 (66.249.94.186)  69.321 ms  69.471 ms  69.467 ms\n",
            " 3  six.reannz.co.nz (206.81.81.203)  69.458 ms  69.455 ms  69.450 ms\n",
            " 4  and33-hnl.reannz.co.nz (210.7.33.244)  117.890 ms  117.888 ms  117.885 ms\n",
            " 5  and31-mgw.reannz.co.nz (210.7.33.246)  211.949 ms  211.947 ms  211.944 ms\n",
            " 6  and12-nsh.reannz.co.nz (210.7.33.242)  211.957 ms  211.203 ms  211.182 ms\n",
            " 7  163.7.134.120 (163.7.134.120)  213.470 ms  213.179 ms  213.387 ms\n",
            " 8  163.7.134.112 (163.7.134.112)  213.384 ms  213.380 ms  213.394 ms\n"
          ]
        }
      ]
    },
    {
      "cell_type": "code",
      "source": [
        "!traceroute -I ftp.nz.debian.org"
      ],
      "metadata": {
        "colab": {
          "base_uri": "https://localhost:8080/"
        },
        "id": "FMJZpQO_UIfF",
        "outputId": "3d0f5b89-cfba-426b-a5f4-665d8b4d658c"
      },
      "execution_count": null,
      "outputs": [
        {
          "output_type": "stream",
          "name": "stdout",
          "text": [
            "traceroute to ftp.nz.debian.org (163.7.134.112), 30 hops max, 60 byte packets\n",
            " 1  172.28.0.1 (172.28.0.1)  0.141 ms  0.015 ms  0.006 ms\n",
            " 2  66.249.94.186 (66.249.94.186)  70.064 ms  70.047 ms  70.150 ms\n",
            " 3  six.reannz.co.nz (206.81.81.203)  70.065 ms  70.061 ms  70.255 ms\n",
            " 4  and33-hnl.reannz.co.nz (210.7.33.244)  117.731 ms  117.728 ms  117.724 ms\n",
            " 5  and31-mgw.reannz.co.nz (210.7.33.246)  212.842 ms  212.838 ms  212.830 ms\n",
            " 6  and12-nsh.reannz.co.nz (210.7.33.242)  215.656 ms  212.319 ms  212.294 ms\n",
            " 7  163.7.134.120 (163.7.134.120)  214.531 ms  214.338 ms  214.319 ms\n",
            " 8  163.7.134.112 (163.7.134.112)  214.288 ms  214.285 ms  214.281 ms\n"
          ]
        }
      ]
    },
    {
      "cell_type": "code",
      "source": [
        "import socket \n",
        "def traceroute2(hostname, maxTTL):\n",
        "\n",
        "  hop = 0\n",
        "  hostip = socket.gethostbyname(hostname)\n",
        "\n",
        "  print('traceroute2 to ', hostname, '(', hostip, ')', maxTTL, 'hops max, ', '##? byte packets')\n",
        "  \n",
        "  msgtype = 11\n",
        "\n",
        "  while(hop < maxTTL and msgtype != 0):\n",
        "    ttl1 = IP(dst = hostname, ttl= hop + 1) / ICMP(seq=1)\n",
        "\n",
        "    ans1, unans1 = sr(ttl1, verbose=False, timeout=3)\n",
        "\n",
        "    interim_hostip = ans1[0][1].src\n",
        "    interim_hostname = interim_hostip\n",
        "\n",
        "    try: # sometimes the hostname is resolvable, sometimes it is not\n",
        "      interim_hostname = socket.gethostbyaddr(interim_hostip)[0]\n",
        "    \n",
        "    except:     \n",
        "      interim_hostname = interim_hostip\n",
        "\n",
        "    msgtype = ans1[0][1].type\n",
        "\n",
        "    if(len(ans1)>0): # we got a response:\n",
        "      rtt1 = 1000*(ans1[0][1].time - ans1[0][0].sent_time)\n",
        "\n",
        "    print(hop + 1, interim_hostname,'(',interim_hostip,')', '%.3f' % rtt1,'ms')\n",
        "    hop = hop + 1\n",
        "\n",
        "traceroute2(target, 20)\n",
        "\n",
        "\n"
      ],
      "metadata": {
        "colab": {
          "base_uri": "https://localhost:8080/"
        },
        "id": "sARCrXajau0m",
        "outputId": "f0d94973-303f-4aba-bd4a-050de5ae5833"
      },
      "execution_count": null,
      "outputs": [
        {
          "output_type": "stream",
          "name": "stdout",
          "text": [
            "traceroute2 to  ftp.nz.debian.org ( 163.7.134.112 ) 20 hops max,  ##? byte packets\n",
            "1 172.28.0.1 ( 172.28.0.1 ) 0.076 ms\n",
            "2 66.249.94.186 ( 66.249.94.186 ) 68.856 ms\n",
            "3 six.reannz.co.nz ( 206.81.81.203 ) 69.472 ms\n",
            "4 and33-hnl.reannz.co.nz ( 210.7.33.244 ) 118.187 ms\n",
            "5 and31-mgw.reannz.co.nz ( 210.7.33.246 ) 212.491 ms\n",
            "6 and12-nsh.reannz.co.nz ( 210.7.33.242 ) 212.952 ms\n",
            "7 163.7.134.120 ( 163.7.134.120 ) 214.909 ms\n",
            "8 163.7.134.112 ( 163.7.134.112 ) 214.559 ms\n"
          ]
        }
      ]
    }
  ]
}