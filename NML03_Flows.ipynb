{
  "nbformat": 4,
  "nbformat_minor": 0,
  "metadata": {
    "colab": {
      "provenance": [],
      "authorship_tag": "ABX9TyNDQR+Rw7K4vdim9bKzBMks",
      "include_colab_link": true
    },
    "kernelspec": {
      "name": "python3",
      "display_name": "Python 3"
    },
    "language_info": {
      "name": "python"
    }
  },
  "cells": [
    {
      "cell_type": "markdown",
      "metadata": {
        "id": "view-in-github",
        "colab_type": "text"
      },
      "source": [
        "<a href=\"https://colab.research.google.com/github/dmora4/network_measurements_course/blob/lecture3/NML03_Flows.ipynb\" target=\"_parent\"><img src=\"https://colab.research.google.com/assets/colab-badge.svg\" alt=\"Open In Colab\"/></a>"
      ]
    },
    {
      "cell_type": "code",
      "execution_count": null,
      "metadata": {
        "colab": {
          "base_uri": "https://localhost:8080/"
        },
        "id": "YGDu8XQcTOJ4",
        "outputId": "49f2de15-0d0c-4452-ec98-1c2b7ff1652b"
      },
      "outputs": [
        {
          "output_type": "stream",
          "name": "stdout",
          "text": [
            "Mounted at /content/drive\n"
          ]
        }
      ],
      "source": [
        "from google.colab import drive\n",
        "\n",
        "drive.mount('/content/drive')"
      ]
    },
    {
      "cell_type": "code",
      "source": [
        "import pandas as pd\n",
        "import numpy as np\n",
        "\n",
        "df = pd.read_csv('/content/drive/MyDrive/traffic_captures/dropbox_download_2019-03-16_11-46-54_5bd0c615.csv')\n",
        "df.head(4)"
      ],
      "metadata": {
        "id": "5J3CTrUTVUlg"
      },
      "execution_count": null,
      "outputs": []
    },
    {
      "cell_type": "markdown",
      "source": [
        "we want to group packets belongin to same flow\n",
        "flow definted by srcIP/port/destIP/port\n",
        "\n",
        "easy way to do this with pandas: groupby operation on a df\n",
        "\n",
        "first we extrract just tcp packets.. \n"
      ],
      "metadata": {
        "id": "Frlv-ztqV1vh"
      }
    },
    {
      "cell_type": "markdown",
      "source": [
        "notice field with ip protocol\n",
        "upd = 17\n",
        "tcp = 6"
      ],
      "metadata": {
        "id": "dgFkBuI-Umib"
      }
    },
    {
      "cell_type": "code",
      "source": [
        "def extract_features2(flow, df_flow):\n",
        "  flow_features = {}\n",
        "  flow_features['num_packets'] = len(df_flow)\n",
        "  flow_features['sport'] = flow[2]\n",
        "  flow_features['dport'] = flow[3]\n",
        "  pkt_sizes = df_flow['ip.len'].astype(float)\n",
        "  flow_features['total_bytes'] = pkt_sizes.sum()\n",
        "\n",
        "  flow_features['min_pkt_size'] = pkt_sizes.min()\n",
        "  flow_features['max_pkt_size'] = pkt_sizes.max()\n",
        "  flow_features['avg_pkt_size'] = pkt_sizes.mean()\n",
        "  flow_features['std_pkt_size'] = pkt_sizes.std()\n",
        "\n",
        "\n",
        "  #interarrival: the first packet cannto be compared iwth packet -1/... use iloc to specify from 2nd packet and on\n",
        "\n",
        "  iat = pd.to_datetime(df_flow['frame.time']).diff(1).dt.total_seconds().iloc[1:]\n",
        "  flow_features['min_iat'] = iat.min()\n",
        "  flow_features['max_iat'] = iat.max()\n",
        "  flow_features['avg_iat'] = iat.mean()\n",
        "  flow_features['std_iat'] = iat.std()\n",
        "  flow_features['dur'] = iat.sum()\n",
        "\n",
        "  return flow_features"
      ],
      "metadata": {
        "id": "J_7IGxaofqYo"
      },
      "execution_count": null,
      "outputs": []
    },
    {
      "cell_type": "code",
      "source": [
        "df_tcp = df[df[\"ip.proto\"] == 6] # conditional indexing\n",
        "df_tcp.head(3)\n",
        "#df_flows_tcp = df_tcp.groupby('ip.src', 'ip.dst', 'tcp.srcport', 'tcp.dstport')\n",
        "df_flows_tcp = df_tcp.groupby([\"ip.src\", \"ip.dst\", \"tcp.srcport\", \"tcp.dstport\"])\n",
        "\n",
        "\n",
        "for flow, df_flow in df_flows_tcp:\n",
        "  print(flow)\n",
        "  display(extract_features2(flow, df_flow))"
      ],
      "metadata": {
        "colab": {
          "base_uri": "https://localhost:8080/",
          "height": 1000
        },
        "id": "yKLwNJ_WWI4-",
        "outputId": "a6d258cf-f094-4857-e1f3-da6784dad1ac"
      },
      "execution_count": null,
      "outputs": [
        {
          "output_type": "stream",
          "name": "stdout",
          "text": [
            "('10.145.43.25', '162.125.18.133', 39735.0, 443.0)\n"
          ]
        },
        {
          "output_type": "display_data",
          "data": {
            "text/plain": [
              "{'num_packets': 13,\n",
              " 'sport': 39735.0,\n",
              " 'dport': 443.0,\n",
              " 'total_bytes': 2285.0,\n",
              " 'min_pkt_size': 52.0,\n",
              " 'max_pkt_size': 930.0,\n",
              " 'avg_pkt_size': 175.76923076923077,\n",
              " 'std_pkt_size': 251.22737173264446,\n",
              " 'min_iat': 0.000119,\n",
              " 'max_iat': 15.003027000000001,\n",
              " 'avg_iat': 1.4761664166666668,\n",
              " 'std_iat': 4.315487475542868,\n",
              " 'dur': 17.713997000000003}"
            ]
          },
          "metadata": {}
        },
        {
          "output_type": "stream",
          "name": "stdout",
          "text": [
            "('10.145.43.25', '162.125.8.5', 49876.0, 443.0)\n"
          ]
        },
        {
          "output_type": "display_data",
          "data": {
            "text/plain": [
              "{'num_packets': 28,\n",
              " 'sport': 49876.0,\n",
              " 'dport': 443.0,\n",
              " 'total_bytes': 3009.0,\n",
              " 'min_pkt_size': 52.0,\n",
              " 'max_pkt_size': 693.0,\n",
              " 'avg_pkt_size': 107.46428571428571,\n",
              " 'std_pkt_size': 167.67063881816975,\n",
              " 'min_iat': 0.000161,\n",
              " 'max_iat': 17.195918000000002,\n",
              " 'avg_iat': 0.6691442962962962,\n",
              " 'std_iat': 3.3046296870596197,\n",
              " 'dur': 18.066896}"
            ]
          },
          "metadata": {}
        },
        {
          "output_type": "stream",
          "name": "stdout",
          "text": [
            "('10.145.43.25', '162.125.8.7', 37761.0, 443.0)\n"
          ]
        },
        {
          "output_type": "display_data",
          "data": {
            "text/plain": [
              "{'num_packets': 16,\n",
              " 'sport': 37761.0,\n",
              " 'dport': 443.0,\n",
              " 'total_bytes': 2077.0,\n",
              " 'min_pkt_size': 52.0,\n",
              " 'max_pkt_size': 673.0,\n",
              " 'avg_pkt_size': 129.8125,\n",
              " 'std_pkt_size': 157.86121277882037,\n",
              " 'min_iat': 9.1e-05,\n",
              " 'max_iat': 17.525113,\n",
              " 'avg_iat': 1.2137168000000003,\n",
              " 'std_iat': 4.512714751312597,\n",
              " 'dur': 18.205752000000004}"
            ]
          },
          "metadata": {}
        },
        {
          "output_type": "stream",
          "name": "stdout",
          "text": [
            "('10.145.43.25', '162.125.8.7', 37762.0, 443.0)\n"
          ]
        },
        {
          "output_type": "display_data",
          "data": {
            "text/plain": [
              "{'num_packets': 24,\n",
              " 'sport': 37762.0,\n",
              " 'dport': 443.0,\n",
              " 'total_bytes': 5716.0,\n",
              " 'min_pkt_size': 52.0,\n",
              " 'max_pkt_size': 912.0,\n",
              " 'avg_pkt_size': 238.16666666666666,\n",
              " 'std_pkt_size': 314.0067385965753,\n",
              " 'min_iat': 9.800000000000001e-05,\n",
              " 'max_iat': 6.014194000000001,\n",
              " 'avg_iat': 0.8099906956521739,\n",
              " 'std_iat': 1.8574789784494186,\n",
              " 'dur': 18.629786}"
            ]
          },
          "metadata": {}
        },
        {
          "output_type": "stream",
          "name": "stdout",
          "text": [
            "('10.145.43.25', '162.125.8.7', 37763.0, 443.0)\n"
          ]
        },
        {
          "output_type": "display_data",
          "data": {
            "text/plain": [
              "{'num_packets': 15,\n",
              " 'sport': 37763.0,\n",
              " 'dport': 443.0,\n",
              " 'total_bytes': 3122.0,\n",
              " 'min_pkt_size': 52.0,\n",
              " 'max_pkt_size': 826.0,\n",
              " 'avg_pkt_size': 208.13333333333333,\n",
              " 'std_pkt_size': 286.26033772141915,\n",
              " 'min_iat': 0.00011200000000000001,\n",
              " 'max_iat': 17.434059,\n",
              " 'avg_iat': 1.3368107857142861,\n",
              " 'std_iat': 4.636800729313548,\n",
              " 'dur': 18.715351000000005}"
            ]
          },
          "metadata": {}
        },
        {
          "output_type": "stream",
          "name": "stdout",
          "text": [
            "('10.145.43.25', '162.125.8.7', 37764.0, 443.0)\n"
          ]
        },
        {
          "output_type": "display_data",
          "data": {
            "text/plain": [
              "{'num_packets': 19,\n",
              " 'sport': 37764.0,\n",
              " 'dport': 443.0,\n",
              " 'total_bytes': 4143.0,\n",
              " 'min_pkt_size': 52.0,\n",
              " 'max_pkt_size': 833.0,\n",
              " 'avg_pkt_size': 218.05263157894737,\n",
              " 'std_pkt_size': 261.16394886571635,\n",
              " 'min_iat': 9.900000000000001e-05,\n",
              " 'max_iat': 14.054760000000002,\n",
              " 'avg_iat': 1.0201807777777778,\n",
              " 'std_iat': 3.3328068890004374,\n",
              " 'dur': 18.363254}"
            ]
          },
          "metadata": {}
        },
        {
          "output_type": "stream",
          "name": "stdout",
          "text": [
            "('10.145.43.25', '162.125.8.7', 37765.0, 443.0)\n"
          ]
        },
        {
          "output_type": "display_data",
          "data": {
            "text/plain": [
              "{'num_packets': 17,\n",
              " 'sport': 37765.0,\n",
              " 'dport': 443.0,\n",
              " 'total_bytes': 3491.0,\n",
              " 'min_pkt_size': 52.0,\n",
              " 'max_pkt_size': 833.0,\n",
              " 'avg_pkt_size': 205.35294117647058,\n",
              " 'std_pkt_size': 257.9537122180233,\n",
              " 'min_iat': 0.000124,\n",
              " 'max_iat': 17.438889,\n",
              " 'avg_iat': 1.148163375,\n",
              " 'std_iat': 4.345013260114264,\n",
              " 'dur': 18.370614}"
            ]
          },
          "metadata": {}
        },
        {
          "output_type": "stream",
          "name": "stdout",
          "text": [
            "('10.145.43.25', '162.125.8.7', 37766.0, 443.0)\n"
          ]
        },
        {
          "output_type": "display_data",
          "data": {
            "text/plain": [
              "{'num_packets': 12,\n",
              " 'sport': 37766.0,\n",
              " 'dport': 443.0,\n",
              " 'total_bytes': 2157.0,\n",
              " 'min_pkt_size': 52.0,\n",
              " 'max_pkt_size': 826.0,\n",
              " 'avg_pkt_size': 179.75,\n",
              " 'std_pkt_size': 250.39609530792316,\n",
              " 'min_iat': 0.00014000000000000001,\n",
              " 'max_iat': 17.459131000000003,\n",
              " 'avg_iat': 1.6233860000000002,\n",
              " 'std_iat': 5.25254519057628,\n",
              " 'dur': 17.857246000000004}"
            ]
          },
          "metadata": {}
        },
        {
          "output_type": "stream",
          "name": "stdout",
          "text": [
            "('10.145.43.25', '162.125.8.7', 37767.0, 443.0)\n"
          ]
        },
        {
          "output_type": "display_data",
          "data": {
            "text/plain": [
              "{'num_packets': 14,\n",
              " 'sport': 37767.0,\n",
              " 'dport': 443.0,\n",
              " 'total_bytes': 1604.0,\n",
              " 'min_pkt_size': 52.0,\n",
              " 'max_pkt_size': 610.0,\n",
              " 'avg_pkt_size': 114.57142857142857,\n",
              " 'std_pkt_size': 152.11873615735144,\n",
              " 'min_iat': 0.000388,\n",
              " 'max_iat': 20.001051,\n",
              " 'avg_iat': 1.5557856923076925,\n",
              " 'std_iat': 5.542212552459161,\n",
              " 'dur': 20.225214}"
            ]
          },
          "metadata": {}
        },
        {
          "output_type": "stream",
          "name": "stdout",
          "text": [
            "('10.145.43.25', '162.125.8.7', 37768.0, 443.0)\n"
          ]
        },
        {
          "output_type": "display_data",
          "data": {
            "text/plain": [
              "{'num_packets': 14,\n",
              " 'sport': 37768.0,\n",
              " 'dport': 443.0,\n",
              " 'total_bytes': 1555.0,\n",
              " 'min_pkt_size': 52.0,\n",
              " 'max_pkt_size': 558.0,\n",
              " 'avg_pkt_size': 111.07142857142857,\n",
              " 'std_pkt_size': 139.38847998184195,\n",
              " 'min_iat': 0.000105,\n",
              " 'max_iat': 20.000778,\n",
              " 'avg_iat': 1.5553393076923077,\n",
              " 'std_iat': 5.542257768182346,\n",
              " 'dur': 20.219411}"
            ]
          },
          "metadata": {}
        },
        {
          "output_type": "stream",
          "name": "stdout",
          "text": [
            "('10.145.43.25', '162.125.8.7', 37769.0, 443.0)\n"
          ]
        },
        {
          "output_type": "display_data",
          "data": {
            "text/plain": [
              "{'num_packets': 14,\n",
              " 'sport': 37769.0,\n",
              " 'dport': 443.0,\n",
              " 'total_bytes': 1820.0,\n",
              " 'min_pkt_size': 52.0,\n",
              " 'max_pkt_size': 826.0,\n",
              " 'avg_pkt_size': 130.0,\n",
              " 'std_pkt_size': 207.21040959892397,\n",
              " 'min_iat': 9.2e-05,\n",
              " 'max_iat': 20.000652000000002,\n",
              " 'avg_iat': 1.5569447692307696,\n",
              " 'std_iat': 5.541801268158157,\n",
              " 'dur': 20.240282000000004}"
            ]
          },
          "metadata": {}
        },
        {
          "output_type": "stream",
          "name": "stdout",
          "text": [
            "('10.145.43.25', '162.125.8.7', 37771.0, 443.0)\n"
          ]
        },
        {
          "output_type": "display_data",
          "data": {
            "text/plain": [
              "{'num_packets': 13,\n",
              " 'sport': 37771.0,\n",
              " 'dport': 443.0,\n",
              " 'total_bytes': 1504.0,\n",
              " 'min_pkt_size': 52.0,\n",
              " 'max_pkt_size': 559.0,\n",
              " 'avg_pkt_size': 115.6923076923077,\n",
              " 'std_pkt_size': 144.25289402953908,\n",
              " 'min_iat': 0.00013900000000000002,\n",
              " 'max_iat': 20.000528000000003,\n",
              " 'avg_iat': 1.68584825,\n",
              " 'std_iat': 5.767825496845476,\n",
              " 'dur': 20.230179}"
            ]
          },
          "metadata": {}
        },
        {
          "output_type": "stream",
          "name": "stdout",
          "text": [
            "('10.145.43.25', '162.125.8.8', 37739.0, 443.0)\n"
          ]
        },
        {
          "output_type": "display_data",
          "data": {
            "text/plain": [
              "{'num_packets': 176,\n",
              " 'sport': 37739.0,\n",
              " 'dport': 443.0,\n",
              " 'total_bytes': 10010.0,\n",
              " 'min_pkt_size': 52.0,\n",
              " 'max_pkt_size': 647.0,\n",
              " 'avg_pkt_size': 56.875,\n",
              " 'std_pkt_size': 46.891927419790036,\n",
              " 'min_iat': 0.00010700000000000001,\n",
              " 'max_iat': 0.386166,\n",
              " 'avg_iat': 0.003643062857142858,\n",
              " 'std_iat': 0.029368717484424385,\n",
              " 'dur': 0.6375360000000001}"
            ]
          },
          "metadata": {}
        },
        {
          "output_type": "stream",
          "name": "stdout",
          "text": [
            "('10.145.43.25', '23.23.212.91', 35960.0, 443.0)\n"
          ]
        },
        {
          "output_type": "display_data",
          "data": {
            "text/plain": [
              "{'num_packets': 19,\n",
              " 'sport': 35960.0,\n",
              " 'dport': 443.0,\n",
              " 'total_bytes': 2559.0,\n",
              " 'min_pkt_size': 52.0,\n",
              " 'max_pkt_size': 1290.0,\n",
              " 'avg_pkt_size': 134.68421052631578,\n",
              " 'std_pkt_size': 283.93349233610223,\n",
              " 'min_iat': 0.000109,\n",
              " 'max_iat': 0.084078,\n",
              " 'avg_iat': 0.0161185,\n",
              " 'std_iat': 0.024992959383300213,\n",
              " 'dur': 0.29013300000000003}"
            ]
          },
          "metadata": {}
        },
        {
          "output_type": "stream",
          "name": "stdout",
          "text": [
            "('162.125.18.133', '10.145.43.25', 443.0, 39735.0)\n"
          ]
        },
        {
          "output_type": "display_data",
          "data": {
            "text/plain": [
              "{'num_packets': 12,\n",
              " 'sport': 443.0,\n",
              " 'dport': 39735.0,\n",
              " 'total_bytes': 4451.0,\n",
              " 'min_pkt_size': 52.0,\n",
              " 'max_pkt_size': 1290.0,\n",
              " 'avg_pkt_size': 370.9166666666667,\n",
              " 'std_pkt_size': 502.039197733211,\n",
              " 'min_iat': 0.000174,\n",
              " 'max_iat': 14.976931,\n",
              " 'avg_iat': 1.6029971818181818,\n",
              " 'std_iat': 4.493299163707372,\n",
              " 'dur': 17.632969}"
            ]
          },
          "metadata": {}
        },
        {
          "output_type": "stream",
          "name": "stdout",
          "text": [
            "('162.125.8.5', '10.145.43.25', 443.0, 49876.0)\n"
          ]
        },
        {
          "output_type": "display_data",
          "data": {
            "text/plain": [
              "{'num_packets': 28,\n",
              " 'sport': 443.0,\n",
              " 'dport': 49876.0,\n",
              " 'total_bytes': 25247.0,\n",
              " 'min_pkt_size': 52.0,\n",
              " 'max_pkt_size': 1290.0,\n",
              " 'avg_pkt_size': 901.6785714285714,\n",
              " 'std_pkt_size': 546.3606903578019,\n",
              " 'min_iat': 9e-05,\n",
              " 'max_iat': 17.205450000000003,\n",
              " 'avg_iat': 0.6685214814814815,\n",
              " 'std_iat': 3.306381266759342,\n",
              " 'dur': 18.05008}"
            ]
          },
          "metadata": {}
        },
        {
          "output_type": "stream",
          "name": "stdout",
          "text": [
            "('162.125.8.7', '10.145.43.25', 443.0, 37761.0)\n"
          ]
        },
        {
          "output_type": "display_data",
          "data": {
            "text/plain": [
              "{'num_packets': 19,\n",
              " 'sport': 443.0,\n",
              " 'dport': 37761.0,\n",
              " 'total_bytes': 7965.0,\n",
              " 'min_pkt_size': 52.0,\n",
              " 'max_pkt_size': 1290.0,\n",
              " 'avg_pkt_size': 419.2105263157895,\n",
              " 'std_pkt_size': 451.7845576706973,\n",
              " 'min_iat': 0.000105,\n",
              " 'max_iat': 17.55795,\n",
              " 'avg_iat': 1.010840888888889,\n",
              " 'std_iat': 4.129880853887048,\n",
              " 'dur': 18.195136}"
            ]
          },
          "metadata": {}
        },
        {
          "output_type": "stream",
          "name": "stdout",
          "text": [
            "('162.125.8.7', '10.145.43.25', 443.0, 37762.0)\n"
          ]
        },
        {
          "output_type": "display_data",
          "data": {
            "text/plain": [
              "{'num_packets': 26,\n",
              " 'sport': 443.0,\n",
              " 'dport': 37762.0,\n",
              " 'total_bytes': 10285.0,\n",
              " 'min_pkt_size': 52.0,\n",
              " 'max_pkt_size': 1290.0,\n",
              " 'avg_pkt_size': 395.5769230769231,\n",
              " 'std_pkt_size': 456.0680802754714,\n",
              " 'min_iat': 0.000106,\n",
              " 'max_iat': 6.038082,\n",
              " 'avg_iat': 0.74466956,\n",
              " 'std_iat': 1.7990992279067526,\n",
              " 'dur': 18.616739}"
            ]
          },
          "metadata": {}
        },
        {
          "output_type": "stream",
          "name": "stdout",
          "text": [
            "('162.125.8.7', '10.145.43.25', 443.0, 37763.0)\n"
          ]
        },
        {
          "output_type": "display_data",
          "data": {
            "text/plain": [
              "{'num_packets': 16,\n",
              " 'sport': 443.0,\n",
              " 'dport': 37763.0,\n",
              " 'total_bytes': 7637.0,\n",
              " 'min_pkt_size': 52.0,\n",
              " 'max_pkt_size': 1290.0,\n",
              " 'avg_pkt_size': 477.3125,\n",
              " 'std_pkt_size': 517.7759771368309,\n",
              " 'min_iat': 0.000114,\n",
              " 'max_iat': 17.458978000000002,\n",
              " 'avg_iat': 1.2465586000000002,\n",
              " 'std_iat': 4.4886827234137705,\n",
              " 'dur': 18.698379000000003}"
            ]
          },
          "metadata": {}
        },
        {
          "output_type": "stream",
          "name": "stdout",
          "text": [
            "('162.125.8.7', '10.145.43.25', 443.0, 37764.0)\n"
          ]
        },
        {
          "output_type": "display_data",
          "data": {
            "text/plain": [
              "{'num_packets': 23,\n",
              " 'sport': 443.0,\n",
              " 'dport': 37764.0,\n",
              " 'total_bytes': 8487.0,\n",
              " 'min_pkt_size': 52.0,\n",
              " 'max_pkt_size': 1290.0,\n",
              " 'avg_pkt_size': 369.0,\n",
              " 'std_pkt_size': 435.0874520244073,\n",
              " 'min_iat': 0.00011,\n",
              " 'max_iat': 14.089008000000002,\n",
              " 'avg_iat': 0.8342685454545454,\n",
              " 'std_iat': 3.0335991393503705,\n",
              " 'dur': 18.353908}"
            ]
          },
          "metadata": {}
        },
        {
          "output_type": "stream",
          "name": "stdout",
          "text": [
            "('162.125.8.7', '10.145.43.25', 443.0, 37765.0)\n"
          ]
        },
        {
          "output_type": "display_data",
          "data": {
            "text/plain": [
              "{'num_packets': 19,\n",
              " 'sport': 443.0,\n",
              " 'dport': 37765.0,\n",
              " 'total_bytes': 8256.0,\n",
              " 'min_pkt_size': 52.0,\n",
              " 'max_pkt_size': 1290.0,\n",
              " 'avg_pkt_size': 434.5263157894737,\n",
              " 'std_pkt_size': 483.5357470895511,\n",
              " 'min_iat': 0.000115,\n",
              " 'max_iat': 17.450483000000002,\n",
              " 'avg_iat': 1.019751722222222,\n",
              " 'std_iat': 4.101237525973375,\n",
              " 'dur': 18.355531}"
            ]
          },
          "metadata": {}
        },
        {
          "output_type": "stream",
          "name": "stdout",
          "text": [
            "('162.125.8.7', '10.145.43.25', 443.0, 37766.0)\n"
          ]
        },
        {
          "output_type": "display_data",
          "data": {
            "text/plain": [
              "{'num_packets': 13,\n",
              " 'sport': 443.0,\n",
              " 'dport': 37766.0,\n",
              " 'total_bytes': 6873.0,\n",
              " 'min_pkt_size': 52.0,\n",
              " 'max_pkt_size': 1290.0,\n",
              " 'avg_pkt_size': 528.6923076923077,\n",
              " 'std_pkt_size': 547.8020300277866,\n",
              " 'min_iat': 0.00012800000000000002,\n",
              " 'max_iat': 17.494974000000003,\n",
              " 'avg_iat': 1.487279166666667,\n",
              " 'std_iat': 5.041342717760362,\n",
              " 'dur': 17.847350000000002}"
            ]
          },
          "metadata": {}
        },
        {
          "output_type": "stream",
          "name": "stdout",
          "text": [
            "('162.125.8.7', '10.145.43.25', 443.0, 37767.0)\n"
          ]
        },
        {
          "output_type": "display_data",
          "data": {
            "text/plain": [
              "{'num_packets': 12,\n",
              " 'sport': 443.0,\n",
              " 'dport': 37767.0,\n",
              " 'total_bytes': 5627.0,\n",
              " 'min_pkt_size': 52.0,\n",
              " 'max_pkt_size': 1290.0,\n",
              " 'avg_pkt_size': 468.9166666666667,\n",
              " 'std_pkt_size': 542.4477282455774,\n",
              " 'min_iat': 0.000105,\n",
              " 'max_iat': 20.028815,\n",
              " 'avg_iat': 1.8378660000000002,\n",
              " 'std_iat': 6.033311818470466,\n",
              " 'dur': 20.216526}"
            ]
          },
          "metadata": {}
        },
        {
          "output_type": "stream",
          "name": "stdout",
          "text": [
            "('162.125.8.7', '10.145.43.25', 443.0, 37768.0)\n"
          ]
        },
        {
          "output_type": "display_data",
          "data": {
            "text/plain": [
              "{'num_packets': 13,\n",
              " 'sport': 443.0,\n",
              " 'dport': 37768.0,\n",
              " 'total_bytes': 5678.0,\n",
              " 'min_pkt_size': 52.0,\n",
              " 'max_pkt_size': 1290.0,\n",
              " 'avg_pkt_size': 436.7692307692308,\n",
              " 'std_pkt_size': 532.0459181070362,\n",
              " 'min_iat': 0.000127,\n",
              " 'max_iat': 20.020792,\n",
              " 'avg_iat': 1.684283416666667,\n",
              " 'std_iat': 5.774556743326688,\n",
              " 'dur': 20.211401000000002}"
            ]
          },
          "metadata": {}
        },
        {
          "output_type": "stream",
          "name": "stdout",
          "text": [
            "('162.125.8.7', '10.145.43.25', 443.0, 37769.0)\n"
          ]
        },
        {
          "output_type": "display_data",
          "data": {
            "text/plain": [
              "{'num_packets': 13,\n",
              " 'sport': 443.0,\n",
              " 'dport': 37769.0,\n",
              " 'total_bytes': 6109.0,\n",
              " 'min_pkt_size': 52.0,\n",
              " 'max_pkt_size': 1290.0,\n",
              " 'avg_pkt_size': 469.9230769230769,\n",
              " 'std_pkt_size': 555.6979787526166,\n",
              " 'min_iat': 9.2e-05,\n",
              " 'max_iat': 20.011424,\n",
              " 'avg_iat': 1.6859494166666666,\n",
              " 'std_iat': 5.771119271164516,\n",
              " 'dur': 20.231393}"
            ]
          },
          "metadata": {}
        },
        {
          "output_type": "stream",
          "name": "stdout",
          "text": [
            "('162.125.8.7', '10.145.43.25', 443.0, 37771.0)\n"
          ]
        },
        {
          "output_type": "display_data",
          "data": {
            "text/plain": [
              "{'num_packets': 13,\n",
              " 'sport': 443.0,\n",
              " 'dport': 37771.0,\n",
              " 'total_bytes': 6104.0,\n",
              " 'min_pkt_size': 52.0,\n",
              " 'max_pkt_size': 1290.0,\n",
              " 'avg_pkt_size': 469.53846153846155,\n",
              " 'std_pkt_size': 555.2818526635243,\n",
              " 'min_iat': 0.00014700000000000002,\n",
              " 'max_iat': 20.015238,\n",
              " 'avg_iat': 1.6851190000000003,\n",
              " 'std_iat': 5.772586010535927,\n",
              " 'dur': 20.221428000000003}"
            ]
          },
          "metadata": {}
        },
        {
          "output_type": "stream",
          "name": "stdout",
          "text": [
            "('162.125.8.8', '10.145.43.25', 443.0, 37739.0)\n"
          ]
        },
        {
          "output_type": "display_data",
          "data": {
            "text/plain": [
              "{'num_packets': 396,\n",
              " 'sport': 443.0,\n",
              " 'dport': 37739.0,\n",
              " 'total_bytes': 503743.0,\n",
              " 'min_pkt_size': 52.0,\n",
              " 'max_pkt_size': 1290.0,\n",
              " 'avg_pkt_size': 1272.078282828283,\n",
              " 'std_pkt_size': 144.28176172918305,\n",
              " 'min_iat': 4.5e-05,\n",
              " 'max_iat': 0.328421,\n",
              " 'avg_iat': 0.001566974683544304,\n",
              " 'std_iat': 0.01699558422104359,\n",
              " 'dur': 0.618955}"
            ]
          },
          "metadata": {}
        },
        {
          "output_type": "stream",
          "name": "stdout",
          "text": [
            "('23.23.212.91', '10.145.43.25', 443.0, 35960.0)\n"
          ]
        },
        {
          "output_type": "display_data",
          "data": {
            "text/plain": [
              "{'num_packets': 17,\n",
              " 'sport': 443.0,\n",
              " 'dport': 35960.0,\n",
              " 'total_bytes': 6940.0,\n",
              " 'min_pkt_size': 52.0,\n",
              " 'max_pkt_size': 576.0,\n",
              " 'avg_pkt_size': 408.2352941176471,\n",
              " 'std_pkt_size': 227.90253657313818,\n",
              " 'min_iat': 0.000106,\n",
              " 'max_iat': 0.06848800000000001,\n",
              " 'avg_iat': 0.012996625000000001,\n",
              " 'std_iat': 0.02276186938390606,\n",
              " 'dur': 0.20794600000000002}"
            ]
          },
          "metadata": {}
        }
      ]
    },
    {
      "cell_type": "markdown",
      "source": [
        "interarrival times between two consetutive pacckets"
      ],
      "metadata": {
        "id": "kEK880b8fqy4"
      }
    },
    {
      "cell_type": "markdown",
      "source": [
        "this needs to be all put inside extract_features()"
      ],
      "metadata": {
        "id": "T743xEhvfyNh"
      }
    },
    {
      "cell_type": "markdown",
      "source": [
        "dataframe where each row is one flow with all its characterists and the app that generated that flow. this will be our training set"
      ],
      "metadata": {
        "id": "-nAoi9Afhm9P"
      }
    },
    {
      "cell_type": "markdown",
      "source": [
        "create training dataset for "
      ],
      "metadata": {
        "id": "vsRFcUQahEq7"
      }
    },
    {
      "cell_type": "code",
      "source": [
        "# lists all the files from a path\n",
        "from os import listdir\n",
        "\n",
        "from os.path import isfile, join\n",
        "\n",
        "\n",
        "path = '/content/drive/MyDrive/traffic_captures/'\n",
        "\n",
        "dumpfiles = [f for f in listdir(path) if isfile(join(path, f))]\n",
        "\n",
        "\n",
        "apps = [f.split('_')[0] for f in dumpfiles]\n",
        "\n",
        "print(apps)\n",
        "\n",
        "dataset = pd.DataFrame()\n",
        "\n",
        "for f in dumpfiles:\n",
        "  if(f == '.DS_Store'):\n",
        "    break\n",
        "  else:\n",
        "    print(join(path, f))\n",
        "    df = pd.read_csv(join(path,f))\n",
        "    df_tcp = df[df[\"ip.proto\"] == 6] \n",
        "    df_flows_tcp = df_tcp.groupby([\"ip.src\", \"ip.dst\", \"tcp.srcport\", \"tcp.dstport\"])\n",
        "    this_app = f.split('_')[0]\n",
        "\n",
        "    for flow, df_flow in df_flows_tcp:\n",
        "      flow_features = extract_features2(flow, df_flow)\n",
        "      flow_features['app'] = this_app\n",
        "      #only add downlink direction \n",
        "      if(flow[0].split('.')[0] == '10'):\n",
        "        flow_features['direction'] = 'uplink'\n",
        "      else:\n",
        "        flow_features['direction'] = 'downlink'\n",
        "\n",
        "      if(flow_features['direction'] == 'downlink'):\n",
        "        data = dataset.append(flow_features, ignore_index=True)\n",
        "\n",
        "display(dataset)\n",
        "\n"
      ],
      "metadata": {
        "colab": {
          "base_uri": "https://localhost:8080/",
          "height": 1000
        },
        "id": "tSqeCGtbh6Zw",
        "outputId": "48ef1804-d7f9-4142-ace5-c0016b84c206"
      },
      "execution_count": null,
      "outputs": [
        {
          "output_type": "stream",
          "name": "stdout",
          "text": [
            "['facebook', 'netflix', 'facebook', 'facebook', 'facebook', 'google-maps', 'facebook', 'netflix', 'google-maps', 'facebook', 'facebook', 'facebook', 'dropbox', 'facebook', 'google-drive', 'google-drive', 'google-maps', 'google-maps', 'dropbox', 'dropbox', 'dropbox', 'dropbox', 'dropbox', 'facebook', 'facebook', 'facebook', 'facebook', 'google-drive', 'facebook', 'google-maps', 'facebook', 'gmail', 'gmail', 'gmail', 'google-maps', 'gmail', 'google-drive', 'google-drive', 'google-drive', 'google-drive', 'google-drive', 'google-maps', 'google-maps', 'google-maps', 'google-maps', 'google-maps', 'google-maps', 'google-maps', 'google-maps', 'google-maps', 'google-maps', 'google-maps', 'google-maps', 'google-maps', 'netflix', 'netflix', 'netflix', 'netflix', 'netflix', 'netflix', 'netflix', 'netflix', 'dropbox', 'facebook', 'dropbox', 'dropbox', 'dropbox', 'gmail', 'dropbox', 'gmail', 'dropbox', 'facebook', 'google-drive', 'gmail', 'google-drive', 'gmail', 'gmail', 'gmail', 'google-drive', 'google-drive', 'google-drive', 'google-drive', 'netflix', 'netflix', 'netflix', 'dropbox', 'dropbox', 'dropbox', 'dropbox', 'dropbox', 'dropbox', 'dropbox', 'dropbox', 'facebook', 'google-drive', '.DS', 'netflix', 'netflix', 'google-drive', 'netflix', 'facebook', 'netflix', 'google-drive', 'facebook', 'google-drive', 'netflix', 'google-drive', 'netflix', 'google-drive', 'google-maps', 'netflix']\n",
            "/content/drive/MyDrive/traffic_captures/facebook_search-page_2019-03-16_09-30-58_5bd0c615.csv\n"
          ]
        },
        {
          "output_type": "stream",
          "name": "stderr",
          "text": [
            "/usr/local/lib/python3.9/dist-packages/dateutil/parser/_parser.py:1207: UnknownTimezoneWarning: tzname CDT identified but not understood.  Pass `tzinfos` argument in order to correctly return a timezone-aware datetime.  In a future version, this will raise an exception.\n",
            "  warnings.warn(\"tzname {tzname} identified but not understood.  \"\n"
          ]
        },
        {
          "output_type": "stream",
          "name": "stdout",
          "text": [
            "/content/drive/MyDrive/traffic_captures/netflix_watch-video_2019-03-16_11-36-05_4fd1c357.csv\n"
          ]
        },
        {
          "output_type": "stream",
          "name": "stderr",
          "text": [
            "/usr/local/lib/python3.9/dist-packages/IPython/core/interactiveshell.py:3326: DtypeWarning: Columns (11,12,13,15,16,17) have mixed types.Specify dtype option on import or set low_memory=False.\n",
            "  exec(code_obj, self.user_global_ns, self.user_ns)\n"
          ]
        },
        {
          "output_type": "stream",
          "name": "stdout",
          "text": [
            "/content/drive/MyDrive/traffic_captures/facebook_scroll-newsfeed_2019-03-16_09-29-11_4fd1c357.csv\n",
            "/content/drive/MyDrive/traffic_captures/facebook_scroll-newsfeed_2019-03-16_09-33-23_4fd1c357.csv\n",
            "/content/drive/MyDrive/traffic_captures/facebook_scroll-newsfeed_2019-03-16_09-32-03_4fd1c357.csv\n",
            "/content/drive/MyDrive/traffic_captures/google-maps_directions_2019-03-16_09-33-10_5bd0c615.csv\n",
            "/content/drive/MyDrive/traffic_captures/facebook_search-page_2019-03-16_09-34-20_5bd0c615.csv\n",
            "/content/drive/MyDrive/traffic_captures/netflix_watch-video_2019-03-16_09-31-10_4fd1c357.csv\n",
            "/content/drive/MyDrive/traffic_captures/google-maps_directions_2019-03-16_10-56-48_5bd0c615.csv\n",
            "/content/drive/MyDrive/traffic_captures/facebook_search-page_2019-03-16_10-51-57_4fd1c357.csv\n",
            "/content/drive/MyDrive/traffic_captures/facebook_scroll-newsfeed_2019-03-16_10-51-42_5bd0c615.csv\n",
            "/content/drive/MyDrive/traffic_captures/facebook_scroll-newsfeed_2019-03-16_10-51-41_4fd1c357.csv\n",
            "/content/drive/MyDrive/traffic_captures/dropbox_upload_2019-03-16_10-51-06_4fd1c357.csv\n",
            "/content/drive/MyDrive/traffic_captures/facebook_search-page_2019-03-16_10-51-58_5bd0c615.csv\n",
            "/content/drive/MyDrive/traffic_captures/google-drive_download_2019-03-16_10-53-27_4fd1c357.csv\n"
          ]
        },
        {
          "output_type": "stream",
          "name": "stderr",
          "text": [
            "/usr/local/lib/python3.9/dist-packages/IPython/core/interactiveshell.py:3326: DtypeWarning: Columns (33,39) have mixed types.Specify dtype option on import or set low_memory=False.\n",
            "  exec(code_obj, self.user_global_ns, self.user_ns)\n"
          ]
        },
        {
          "output_type": "stream",
          "name": "stdout",
          "text": [
            "/content/drive/MyDrive/traffic_captures/google-drive_upload_2019-03-16_10-54-40_4fd1c357.csv\n"
          ]
        },
        {
          "output_type": "stream",
          "name": "stderr",
          "text": [
            "/usr/local/lib/python3.9/dist-packages/IPython/core/interactiveshell.py:3326: DtypeWarning: Columns (33) have mixed types.Specify dtype option on import or set low_memory=False.\n",
            "  exec(code_obj, self.user_global_ns, self.user_ns)\n"
          ]
        },
        {
          "output_type": "stream",
          "name": "stdout",
          "text": [
            "/content/drive/MyDrive/traffic_captures/google-maps_browse_2019-03-16_10-56-24_4fd1c357.csv\n",
            "/content/drive/MyDrive/traffic_captures/google-maps_directions_2019-03-16_10-56-56_4fd1c357.csv\n",
            "/content/drive/MyDrive/traffic_captures/dropbox_upload_2019-03-16_11-33-08_4fd1c357.csv\n",
            "/content/drive/MyDrive/traffic_captures/dropbox_upload_2019-03-16_12-01-12_5bd0c615.csv\n",
            "/content/drive/MyDrive/traffic_captures/dropbox_upload_2019-03-16_11-51-11_4fd1c357.csv\n",
            "/content/drive/MyDrive/traffic_captures/dropbox_download_2019-03-16_12-09-23_5bd0c615.csv\n",
            "/content/drive/MyDrive/traffic_captures/dropbox_download_2019-03-16_11-46-54_5bd0c615.csv\n",
            "/content/drive/MyDrive/traffic_captures/facebook_scroll-newsfeed_2019-03-16_11-56-26_5bd0c615.csv\n",
            "/content/drive/MyDrive/traffic_captures/facebook_search-page_2019-03-16_11-37-07_4fd1c357.csv\n",
            "/content/drive/MyDrive/traffic_captures/facebook_scroll-newsfeed_2019-03-16_11-48-37_4fd1c357.csv\n",
            "/content/drive/MyDrive/traffic_captures/facebook_scroll-newsfeed_2019-03-16_11-40-54_5bd0c615.csv\n",
            "/content/drive/MyDrive/traffic_captures/google-drive_download_2019-03-16_11-32-53_5bd0c615.csv\n"
          ]
        },
        {
          "output_type": "stream",
          "name": "stderr",
          "text": [
            "/usr/local/lib/python3.9/dist-packages/IPython/core/interactiveshell.py:3326: DtypeWarning: Columns (39) have mixed types.Specify dtype option on import or set low_memory=False.\n",
            "  exec(code_obj, self.user_global_ns, self.user_ns)\n"
          ]
        },
        {
          "output_type": "stream",
          "name": "stdout",
          "text": [
            "/content/drive/MyDrive/traffic_captures/facebook_search-page_2019-03-16_12-20-36_5bd0c615.csv\n",
            "/content/drive/MyDrive/traffic_captures/google-maps_browse_2019-03-16_11-26-28_4fd1c357.csv\n",
            "/content/drive/MyDrive/traffic_captures/facebook_search-page_2019-03-16_12-23-09_5bd0c615.csv\n",
            "/content/drive/MyDrive/traffic_captures/gmail_open-email_2019-03-16_12-06-13_5bd0c615.csv\n",
            "/content/drive/MyDrive/traffic_captures/gmail_open-email_2019-03-16_11-53-48_4fd1c357.csv\n",
            "/content/drive/MyDrive/traffic_captures/gmail_open-email_2019-03-16_11-42-34_5bd0c615.csv\n",
            "/content/drive/MyDrive/traffic_captures/google-maps_directions_2019-03-16_11-44-28_5bd0c615.csv\n",
            "/content/drive/MyDrive/traffic_captures/gmail_open-email_2019-03-16_12-16-03_5bd0c615.csv\n",
            "/content/drive/MyDrive/traffic_captures/google-drive_upload_2019-03-16_11-51-33_5bd0c615.csv\n",
            "/content/drive/MyDrive/traffic_captures/google-drive_upload_2019-03-16_12-04-58_4fd1c357.csv\n",
            "/content/drive/MyDrive/traffic_captures/google-drive_upload_2019-03-16_11-59-40_4fd1c357.csv\n",
            "/content/drive/MyDrive/traffic_captures/google-drive_upload_2019-03-16_12-00-16_5bd0c615.csv\n",
            "/content/drive/MyDrive/traffic_captures/google-drive_upload_2019-03-16_12-08-43_4fd1c357.csv\n",
            "/content/drive/MyDrive/traffic_captures/google-maps_browse_2019-03-16_11-46-50_4fd1c357.csv\n",
            "/content/drive/MyDrive/traffic_captures/google-maps_browse_2019-03-16_11-36-00_5bd0c615.csv\n",
            "/content/drive/MyDrive/traffic_captures/google-maps_browse_2019-03-16_12-05-37_5bd0c615.csv\n",
            "/content/drive/MyDrive/traffic_captures/google-maps_browse_2019-03-16_11-13-57_5bd0c615.csv\n",
            "/content/drive/MyDrive/traffic_captures/google-maps_browse_2019-03-16_11-49-02_4fd1c357.csv\n",
            "/content/drive/MyDrive/traffic_captures/google-maps_browse_2019-03-16_12-08-05_4fd1c357.csv\n",
            "/content/drive/MyDrive/traffic_captures/google-maps_directions_2019-03-16_11-33-53_4fd1c357.csv\n",
            "/content/drive/MyDrive/traffic_captures/google-maps_browse_2019-03-16_12-16-37_5bd0c615.csv\n",
            "/content/drive/MyDrive/traffic_captures/google-maps_browse_2019-03-16_12-21-00_4fd1c357.csv\n",
            "/content/drive/MyDrive/traffic_captures/google-maps_directions_2019-03-16_11-14-22_5bd0c615.csv\n",
            "/content/drive/MyDrive/traffic_captures/google-maps_directions_2019-03-16_11-42-38_4fd1c357.csv\n",
            "/content/drive/MyDrive/traffic_captures/google-maps_directions_2019-03-16_11-36-36_5bd0c615.csv\n",
            "/content/drive/MyDrive/traffic_captures/google-maps_directions_2019-03-16_11-37-45_5bd0c615.csv\n",
            "/content/drive/MyDrive/traffic_captures/netflix_browse-home_2019-03-16_11-26-28_5bd0c615.csv\n",
            "/content/drive/MyDrive/traffic_captures/netflix_browse-home_2019-03-16_11-43-47_4fd1c357.csv\n",
            "/content/drive/MyDrive/traffic_captures/netflix_browse-home_2019-03-16_11-52-53_4fd1c357.csv\n",
            "/content/drive/MyDrive/traffic_captures/netflix_browse-home_2019-03-16_11-43-10_5bd0c615.csv\n",
            "/content/drive/MyDrive/traffic_captures/netflix_browse-home_2019-03-16_12-05-55_4fd1c357.csv\n",
            "/content/drive/MyDrive/traffic_captures/netflix_browse-home_2019-03-16_12-01-11_4fd1c357.csv\n",
            "/content/drive/MyDrive/traffic_captures/netflix_browse-home_2019-03-16_11-41-06_4fd1c357.csv\n",
            "/content/drive/MyDrive/traffic_captures/netflix_watch-video_2019-03-16_11-39-19_5bd0c615.csv\n",
            "/content/drive/MyDrive/traffic_captures/dropbox_download_2019-03-16_15-27-33_5bd0c615.csv\n",
            "/content/drive/MyDrive/traffic_captures/facebook_search-page_2019-03-16_14-38-58_5bd0c615.csv\n",
            "/content/drive/MyDrive/traffic_captures/dropbox_upload_2019-03-16_14-46-09_4fd1c357.csv\n",
            "/content/drive/MyDrive/traffic_captures/dropbox_upload_2019-03-16_14-40-35_4fd1c357.csv\n",
            "/content/drive/MyDrive/traffic_captures/dropbox_download_2019-03-16_16-03-08_5bd0c615.csv\n",
            "/content/drive/MyDrive/traffic_captures/gmail_open-email_2019-03-16_14-41-04_5bd0c615.csv\n",
            "/content/drive/MyDrive/traffic_captures/dropbox_upload_2019-03-16_15-29-32_4fd1c357.csv\n",
            "/content/drive/MyDrive/traffic_captures/gmail_open-email_2019-03-16_14-58-01_4fd1c357.csv\n",
            "/content/drive/MyDrive/traffic_captures/dropbox_upload_2019-03-16_15-16-28_4fd1c357.csv\n",
            "/content/drive/MyDrive/traffic_captures/facebook_scroll-newsfeed_2019-03-16_15-46-29_5bd0c615.csv\n",
            "/content/drive/MyDrive/traffic_captures/google-drive_download_2019-03-16_14-42-06_4fd1c357.csv\n",
            "/content/drive/MyDrive/traffic_captures/gmail_open-email_2019-03-16_16-02-35_5bd0c615.csv\n",
            "/content/drive/MyDrive/traffic_captures/google-drive_download_2019-03-16_15-06-52_4fd1c357.csv\n",
            "/content/drive/MyDrive/traffic_captures/gmail_open-email_2019-03-16_14-59-14_5bd0c615.csv\n",
            "/content/drive/MyDrive/traffic_captures/gmail_open-email_2019-03-16_15-45-08_4fd1c357.csv\n",
            "/content/drive/MyDrive/traffic_captures/gmail_open-email_2019-03-16_15-32-55_4fd1c357.csv\n",
            "/content/drive/MyDrive/traffic_captures/google-drive_download_2019-03-16_15-07-22_5bd0c615.csv\n",
            "/content/drive/MyDrive/traffic_captures/google-drive_download_2019-03-16_15-28-58_5bd0c615.csv\n",
            "/content/drive/MyDrive/traffic_captures/google-drive_upload_2019-03-16_14-40-08_5bd0c615.csv\n",
            "/content/drive/MyDrive/traffic_captures/google-drive_download_2019-03-16_15-52-23_4fd1c357.csv\n",
            "/content/drive/MyDrive/traffic_captures/netflix_browse-home_2019-03-16_14-38-03_5bd0c615.csv\n",
            "/content/drive/MyDrive/traffic_captures/netflix_browse-home_2019-03-16_14-38-03_4fd1c357.csv\n",
            "/content/drive/MyDrive/traffic_captures/netflix_browse-home_2019-03-16_14-46-04_5bd0c615.csv\n",
            "/content/drive/MyDrive/traffic_captures/dropbox_download_2019-03-16_18-26-36_4fd1c357.csv\n",
            "/content/drive/MyDrive/traffic_captures/dropbox_download_2019-03-16_19-39-01_5bd0c615.csv\n",
            "/content/drive/MyDrive/traffic_captures/dropbox_download_2019-03-16_19-25-10_4fd1c357.csv\n",
            "/content/drive/MyDrive/traffic_captures/dropbox_download_2019-03-16_18-38-28_5bd0c615.csv\n",
            "/content/drive/MyDrive/traffic_captures/dropbox_download_2019-03-16_19-59-52_5bd0c615.csv\n",
            "/content/drive/MyDrive/traffic_captures/dropbox_download_2019-03-16_20-03-34_4fd1c357.csv\n",
            "/content/drive/MyDrive/traffic_captures/dropbox_upload_2019-03-16_17-58-47_5bd0c615.csv\n",
            "/content/drive/MyDrive/traffic_captures/dropbox_upload_2019-03-16_17-50-05_5bd0c615.csv\n",
            "/content/drive/MyDrive/traffic_captures/facebook_scroll-newsfeed_2019-03-16_17-31-53_4fd1c357.csv\n",
            "/content/drive/MyDrive/traffic_captures/google-drive_download_2019-03-16_18-24-45_5bd0c615.csv\n"
          ]
        },
        {
          "output_type": "display_data",
          "data": {
            "text/plain": [
              "Empty DataFrame\n",
              "Columns: []\n",
              "Index: []"
            ],
            "text/html": [
              "\n",
              "  <div id=\"df-b6834d8d-e180-4c9a-ab8f-819fb19560cc\">\n",
              "    <div class=\"colab-df-container\">\n",
              "      <div>\n",
              "<style scoped>\n",
              "    .dataframe tbody tr th:only-of-type {\n",
              "        vertical-align: middle;\n",
              "    }\n",
              "\n",
              "    .dataframe tbody tr th {\n",
              "        vertical-align: top;\n",
              "    }\n",
              "\n",
              "    .dataframe thead th {\n",
              "        text-align: right;\n",
              "    }\n",
              "</style>\n",
              "<table border=\"1\" class=\"dataframe\">\n",
              "  <thead>\n",
              "    <tr style=\"text-align: right;\">\n",
              "      <th></th>\n",
              "    </tr>\n",
              "  </thead>\n",
              "  <tbody>\n",
              "  </tbody>\n",
              "</table>\n",
              "</div>\n",
              "      <button class=\"colab-df-convert\" onclick=\"convertToInteractive('df-b6834d8d-e180-4c9a-ab8f-819fb19560cc')\"\n",
              "              title=\"Convert this dataframe to an interactive table.\"\n",
              "              style=\"display:none;\">\n",
              "        \n",
              "  <svg xmlns=\"http://www.w3.org/2000/svg\" height=\"24px\"viewBox=\"0 0 24 24\"\n",
              "       width=\"24px\">\n",
              "    <path d=\"M0 0h24v24H0V0z\" fill=\"none\"/>\n",
              "    <path d=\"M18.56 5.44l.94 2.06.94-2.06 2.06-.94-2.06-.94-.94-2.06-.94 2.06-2.06.94zm-11 1L8.5 8.5l.94-2.06 2.06-.94-2.06-.94L8.5 2.5l-.94 2.06-2.06.94zm10 10l.94 2.06.94-2.06 2.06-.94-2.06-.94-.94-2.06-.94 2.06-2.06.94z\"/><path d=\"M17.41 7.96l-1.37-1.37c-.4-.4-.92-.59-1.43-.59-.52 0-1.04.2-1.43.59L10.3 9.45l-7.72 7.72c-.78.78-.78 2.05 0 2.83L4 21.41c.39.39.9.59 1.41.59.51 0 1.02-.2 1.41-.59l7.78-7.78 2.81-2.81c.8-.78.8-2.07 0-2.86zM5.41 20L4 18.59l7.72-7.72 1.47 1.35L5.41 20z\"/>\n",
              "  </svg>\n",
              "      </button>\n",
              "      \n",
              "  <style>\n",
              "    .colab-df-container {\n",
              "      display:flex;\n",
              "      flex-wrap:wrap;\n",
              "      gap: 12px;\n",
              "    }\n",
              "\n",
              "    .colab-df-convert {\n",
              "      background-color: #E8F0FE;\n",
              "      border: none;\n",
              "      border-radius: 50%;\n",
              "      cursor: pointer;\n",
              "      display: none;\n",
              "      fill: #1967D2;\n",
              "      height: 32px;\n",
              "      padding: 0 0 0 0;\n",
              "      width: 32px;\n",
              "    }\n",
              "\n",
              "    .colab-df-convert:hover {\n",
              "      background-color: #E2EBFA;\n",
              "      box-shadow: 0px 1px 2px rgba(60, 64, 67, 0.3), 0px 1px 3px 1px rgba(60, 64, 67, 0.15);\n",
              "      fill: #174EA6;\n",
              "    }\n",
              "\n",
              "    [theme=dark] .colab-df-convert {\n",
              "      background-color: #3B4455;\n",
              "      fill: #D2E3FC;\n",
              "    }\n",
              "\n",
              "    [theme=dark] .colab-df-convert:hover {\n",
              "      background-color: #434B5C;\n",
              "      box-shadow: 0px 1px 3px 1px rgba(0, 0, 0, 0.15);\n",
              "      filter: drop-shadow(0px 1px 2px rgba(0, 0, 0, 0.3));\n",
              "      fill: #FFFFFF;\n",
              "    }\n",
              "  </style>\n",
              "\n",
              "      <script>\n",
              "        const buttonEl =\n",
              "          document.querySelector('#df-b6834d8d-e180-4c9a-ab8f-819fb19560cc button.colab-df-convert');\n",
              "        buttonEl.style.display =\n",
              "          google.colab.kernel.accessAllowed ? 'block' : 'none';\n",
              "\n",
              "        async function convertToInteractive(key) {\n",
              "          const element = document.querySelector('#df-b6834d8d-e180-4c9a-ab8f-819fb19560cc');\n",
              "          const dataTable =\n",
              "            await google.colab.kernel.invokeFunction('convertToInteractive',\n",
              "                                                     [key], {});\n",
              "          if (!dataTable) return;\n",
              "\n",
              "          const docLinkHtml = 'Like what you see? Visit the ' +\n",
              "            '<a target=\"_blank\" href=https://colab.research.google.com/notebooks/data_table.ipynb>data table notebook</a>'\n",
              "            + ' to learn more about interactive tables.';\n",
              "          element.innerHTML = '';\n",
              "          dataTable['output_type'] = 'display_data';\n",
              "          await google.colab.output.renderOutput(dataTable, element);\n",
              "          const docLink = document.createElement('div');\n",
              "          docLink.innerHTML = docLinkHtml;\n",
              "          element.appendChild(docLink);\n",
              "        }\n",
              "      </script>\n",
              "    </div>\n",
              "  </div>\n",
              "  "
            ]
          },
          "metadata": {}
        }
      ]
    },
    {
      "cell_type": "code",
      "source": [
        "display(dataset)"
      ],
      "metadata": {
        "colab": {
          "base_uri": "https://localhost:8080/",
          "height": 49
        },
        "id": "YMSTVg05tbBj",
        "outputId": "b33ff61f-aa42-45fc-f783-0f16f33010e5"
      },
      "execution_count": null,
      "outputs": [
        {
          "output_type": "display_data",
          "data": {
            "text/plain": [
              "Empty DataFrame\n",
              "Columns: []\n",
              "Index: []"
            ],
            "text/html": [
              "\n",
              "  <div id=\"df-edc90994-98bd-4d9a-81ca-37a7fa87a278\">\n",
              "    <div class=\"colab-df-container\">\n",
              "      <div>\n",
              "<style scoped>\n",
              "    .dataframe tbody tr th:only-of-type {\n",
              "        vertical-align: middle;\n",
              "    }\n",
              "\n",
              "    .dataframe tbody tr th {\n",
              "        vertical-align: top;\n",
              "    }\n",
              "\n",
              "    .dataframe thead th {\n",
              "        text-align: right;\n",
              "    }\n",
              "</style>\n",
              "<table border=\"1\" class=\"dataframe\">\n",
              "  <thead>\n",
              "    <tr style=\"text-align: right;\">\n",
              "      <th></th>\n",
              "    </tr>\n",
              "  </thead>\n",
              "  <tbody>\n",
              "  </tbody>\n",
              "</table>\n",
              "</div>\n",
              "      <button class=\"colab-df-convert\" onclick=\"convertToInteractive('df-edc90994-98bd-4d9a-81ca-37a7fa87a278')\"\n",
              "              title=\"Convert this dataframe to an interactive table.\"\n",
              "              style=\"display:none;\">\n",
              "        \n",
              "  <svg xmlns=\"http://www.w3.org/2000/svg\" height=\"24px\"viewBox=\"0 0 24 24\"\n",
              "       width=\"24px\">\n",
              "    <path d=\"M0 0h24v24H0V0z\" fill=\"none\"/>\n",
              "    <path d=\"M18.56 5.44l.94 2.06.94-2.06 2.06-.94-2.06-.94-.94-2.06-.94 2.06-2.06.94zm-11 1L8.5 8.5l.94-2.06 2.06-.94-2.06-.94L8.5 2.5l-.94 2.06-2.06.94zm10 10l.94 2.06.94-2.06 2.06-.94-2.06-.94-.94-2.06-.94 2.06-2.06.94z\"/><path d=\"M17.41 7.96l-1.37-1.37c-.4-.4-.92-.59-1.43-.59-.52 0-1.04.2-1.43.59L10.3 9.45l-7.72 7.72c-.78.78-.78 2.05 0 2.83L4 21.41c.39.39.9.59 1.41.59.51 0 1.02-.2 1.41-.59l7.78-7.78 2.81-2.81c.8-.78.8-2.07 0-2.86zM5.41 20L4 18.59l7.72-7.72 1.47 1.35L5.41 20z\"/>\n",
              "  </svg>\n",
              "      </button>\n",
              "      \n",
              "  <style>\n",
              "    .colab-df-container {\n",
              "      display:flex;\n",
              "      flex-wrap:wrap;\n",
              "      gap: 12px;\n",
              "    }\n",
              "\n",
              "    .colab-df-convert {\n",
              "      background-color: #E8F0FE;\n",
              "      border: none;\n",
              "      border-radius: 50%;\n",
              "      cursor: pointer;\n",
              "      display: none;\n",
              "      fill: #1967D2;\n",
              "      height: 32px;\n",
              "      padding: 0 0 0 0;\n",
              "      width: 32px;\n",
              "    }\n",
              "\n",
              "    .colab-df-convert:hover {\n",
              "      background-color: #E2EBFA;\n",
              "      box-shadow: 0px 1px 2px rgba(60, 64, 67, 0.3), 0px 1px 3px 1px rgba(60, 64, 67, 0.15);\n",
              "      fill: #174EA6;\n",
              "    }\n",
              "\n",
              "    [theme=dark] .colab-df-convert {\n",
              "      background-color: #3B4455;\n",
              "      fill: #D2E3FC;\n",
              "    }\n",
              "\n",
              "    [theme=dark] .colab-df-convert:hover {\n",
              "      background-color: #434B5C;\n",
              "      box-shadow: 0px 1px 3px 1px rgba(0, 0, 0, 0.15);\n",
              "      filter: drop-shadow(0px 1px 2px rgba(0, 0, 0, 0.3));\n",
              "      fill: #FFFFFF;\n",
              "    }\n",
              "  </style>\n",
              "\n",
              "      <script>\n",
              "        const buttonEl =\n",
              "          document.querySelector('#df-edc90994-98bd-4d9a-81ca-37a7fa87a278 button.colab-df-convert');\n",
              "        buttonEl.style.display =\n",
              "          google.colab.kernel.accessAllowed ? 'block' : 'none';\n",
              "\n",
              "        async function convertToInteractive(key) {\n",
              "          const element = document.querySelector('#df-edc90994-98bd-4d9a-81ca-37a7fa87a278');\n",
              "          const dataTable =\n",
              "            await google.colab.kernel.invokeFunction('convertToInteractive',\n",
              "                                                     [key], {});\n",
              "          if (!dataTable) return;\n",
              "\n",
              "          const docLinkHtml = 'Like what you see? Visit the ' +\n",
              "            '<a target=\"_blank\" href=https://colab.research.google.com/notebooks/data_table.ipynb>data table notebook</a>'\n",
              "            + ' to learn more about interactive tables.';\n",
              "          element.innerHTML = '';\n",
              "          dataTable['output_type'] = 'display_data';\n",
              "          await google.colab.output.renderOutput(dataTable, element);\n",
              "          const docLink = document.createElement('div');\n",
              "          docLink.innerHTML = docLinkHtml;\n",
              "          element.appendChild(docLink);\n",
              "        }\n",
              "      </script>\n",
              "    </div>\n",
              "  </div>\n",
              "  "
            ]
          },
          "metadata": {}
        }
      ]
    },
    {
      "cell_type": "code",
      "source": [
        "import numpy as np\n",
        "import matplotlib.pyplot as plt\n",
        "from sklearn.metrics import ConfusionMatrixDisplay\n",
        "X = dataset.drop(['direction', 'sport', 'dport'], axis=1).dropna()\n",
        "APP = dataset['app']\n",
        "X = X.drop(['app'], axis=1)\n",
        "\n",
        "\n",
        "#selects indexes for training and test set (70/30)\n",
        "idx = np.random.permutation(len(X))\n",
        "num_train_obs = np.floor(0.7*len(X))\n",
        "train_idx =idx[1:int(num_train_obs)] \n",
        "test_idx = idx[int(num_train_obs)]\n",
        "\n",
        "#data normalization\n",
        "X_norm = pd.DataFrame()\n",
        "\n",
        "for key in X:\n",
        "  temp = X[key]\n",
        "  temp_norm = (temp - temp.mean())/temp.std()\n",
        "  X_norm[key] = temp_norm\n",
        "\n",
        "\n",
        "X_norm_train = X_norm.iloc[train_idx]\n",
        "X_norm_test = X_norm.iloc[test_idx]\n",
        "\n",
        "\n",
        "APP_train = APP.iloc[train_idx]\n",
        "APP_test = APP.iloc[test_idx]\n",
        "\n",
        "#knn classifier\n",
        "\n",
        "#pick the 10 closest entries, pick majority\n",
        "\n",
        "i = 0\n",
        "accuracy = 0\n",
        "K = 10\n",
        "\n",
        "APP_test_predicted = []\n",
        "for index, row in X_norm.iterrows():\n",
        "  distances = []\n",
        "  for ii, rr in X_norm_train.iterrows():\n",
        "    distances.append(np.linalg.norm(np.array(row.to_numpy()-rr.to_numpy())))\n",
        "\n",
        "  min_idx = np.argmin(distances)\n",
        "\n",
        "  predicted_app = APP_train.iloc[min_idx]\n",
        "  APP_test_predicted.append(predicted_app)\n",
        "\n",
        "  if(APP_test.iloc[i] == predicted_app):\n",
        "    accuracy = accuracy + 1\n",
        "  i = i + 1 \n",
        "\n",
        "\n",
        "\n",
        "print(accuracy/len(APP_test))\n",
        "\n",
        "#fig, ax = plt.subplots.from_predictions(APP_test_predicted, APP_test, ax)"
      ],
      "metadata": {
        "colab": {
          "base_uri": "https://localhost:8080/",
          "height": 397
        },
        "id": "xCLhBHgLo_zq",
        "outputId": "5587b0fb-c6fa-4bdd-809b-2da81256a9a4"
      },
      "execution_count": null,
      "outputs": [
        {
          "output_type": "error",
          "ename": "KeyError",
          "evalue": "ignored",
          "traceback": [
            "\u001b[0;31m---------------------------------------------------------------------------\u001b[0m",
            "\u001b[0;31mKeyError\u001b[0m                                  Traceback (most recent call last)",
            "\u001b[0;32m<ipython-input-72-39d42549ed38>\u001b[0m in \u001b[0;36m<module>\u001b[0;34m\u001b[0m\n\u001b[1;32m      2\u001b[0m \u001b[0;32mimport\u001b[0m \u001b[0mmatplotlib\u001b[0m\u001b[0;34m.\u001b[0m\u001b[0mpyplot\u001b[0m \u001b[0;32mas\u001b[0m \u001b[0mplt\u001b[0m\u001b[0;34m\u001b[0m\u001b[0;34m\u001b[0m\u001b[0m\n\u001b[1;32m      3\u001b[0m \u001b[0;32mfrom\u001b[0m \u001b[0msklearn\u001b[0m\u001b[0;34m.\u001b[0m\u001b[0mmetrics\u001b[0m \u001b[0;32mimport\u001b[0m \u001b[0mConfusionMatrixDisplay\u001b[0m\u001b[0;34m\u001b[0m\u001b[0;34m\u001b[0m\u001b[0m\n\u001b[0;32m----> 4\u001b[0;31m \u001b[0mX\u001b[0m \u001b[0;34m=\u001b[0m \u001b[0mdataset\u001b[0m\u001b[0;34m.\u001b[0m\u001b[0mdrop\u001b[0m\u001b[0;34m(\u001b[0m\u001b[0;34m[\u001b[0m\u001b[0;34m'direction'\u001b[0m\u001b[0;34m,\u001b[0m \u001b[0;34m'sport'\u001b[0m\u001b[0;34m,\u001b[0m \u001b[0;34m'dport'\u001b[0m\u001b[0;34m]\u001b[0m\u001b[0;34m,\u001b[0m \u001b[0maxis\u001b[0m\u001b[0;34m=\u001b[0m\u001b[0;36m1\u001b[0m\u001b[0;34m)\u001b[0m\u001b[0;34m.\u001b[0m\u001b[0mdropna\u001b[0m\u001b[0;34m(\u001b[0m\u001b[0;34m)\u001b[0m\u001b[0;34m\u001b[0m\u001b[0;34m\u001b[0m\u001b[0m\n\u001b[0m\u001b[1;32m      5\u001b[0m \u001b[0mAPP\u001b[0m \u001b[0;34m=\u001b[0m \u001b[0mdataset\u001b[0m\u001b[0;34m[\u001b[0m\u001b[0;34m'app'\u001b[0m\u001b[0;34m]\u001b[0m\u001b[0;34m\u001b[0m\u001b[0;34m\u001b[0m\u001b[0m\n\u001b[1;32m      6\u001b[0m \u001b[0mX\u001b[0m \u001b[0;34m=\u001b[0m \u001b[0mX\u001b[0m\u001b[0;34m.\u001b[0m\u001b[0mdrop\u001b[0m\u001b[0;34m(\u001b[0m\u001b[0;34m[\u001b[0m\u001b[0;34m'app'\u001b[0m\u001b[0;34m]\u001b[0m\u001b[0;34m,\u001b[0m \u001b[0maxis\u001b[0m\u001b[0;34m=\u001b[0m\u001b[0;36m1\u001b[0m\u001b[0;34m)\u001b[0m\u001b[0;34m\u001b[0m\u001b[0;34m\u001b[0m\u001b[0m\n",
            "\u001b[0;32m/usr/local/lib/python3.9/dist-packages/pandas/util/_decorators.py\u001b[0m in \u001b[0;36mwrapper\u001b[0;34m(*args, **kwargs)\u001b[0m\n\u001b[1;32m    309\u001b[0m                     \u001b[0mstacklevel\u001b[0m\u001b[0;34m=\u001b[0m\u001b[0mstacklevel\u001b[0m\u001b[0;34m,\u001b[0m\u001b[0;34m\u001b[0m\u001b[0;34m\u001b[0m\u001b[0m\n\u001b[1;32m    310\u001b[0m                 )\n\u001b[0;32m--> 311\u001b[0;31m             \u001b[0;32mreturn\u001b[0m \u001b[0mfunc\u001b[0m\u001b[0;34m(\u001b[0m\u001b[0;34m*\u001b[0m\u001b[0margs\u001b[0m\u001b[0;34m,\u001b[0m \u001b[0;34m**\u001b[0m\u001b[0mkwargs\u001b[0m\u001b[0;34m)\u001b[0m\u001b[0;34m\u001b[0m\u001b[0;34m\u001b[0m\u001b[0m\n\u001b[0m\u001b[1;32m    312\u001b[0m \u001b[0;34m\u001b[0m\u001b[0m\n\u001b[1;32m    313\u001b[0m         \u001b[0;32mreturn\u001b[0m \u001b[0mwrapper\u001b[0m\u001b[0;34m\u001b[0m\u001b[0;34m\u001b[0m\u001b[0m\n",
            "\u001b[0;32m/usr/local/lib/python3.9/dist-packages/pandas/core/frame.py\u001b[0m in \u001b[0;36mdrop\u001b[0;34m(self, labels, axis, index, columns, level, inplace, errors)\u001b[0m\n\u001b[1;32m   4904\u001b[0m                 \u001b[0mweight\u001b[0m  \u001b[0;36m1.0\u001b[0m     \u001b[0;36m0.8\u001b[0m\u001b[0;34m\u001b[0m\u001b[0;34m\u001b[0m\u001b[0m\n\u001b[1;32m   4905\u001b[0m         \"\"\"\n\u001b[0;32m-> 4906\u001b[0;31m         return super().drop(\n\u001b[0m\u001b[1;32m   4907\u001b[0m             \u001b[0mlabels\u001b[0m\u001b[0;34m=\u001b[0m\u001b[0mlabels\u001b[0m\u001b[0;34m,\u001b[0m\u001b[0;34m\u001b[0m\u001b[0;34m\u001b[0m\u001b[0m\n\u001b[1;32m   4908\u001b[0m             \u001b[0maxis\u001b[0m\u001b[0;34m=\u001b[0m\u001b[0maxis\u001b[0m\u001b[0;34m,\u001b[0m\u001b[0;34m\u001b[0m\u001b[0;34m\u001b[0m\u001b[0m\n",
            "\u001b[0;32m/usr/local/lib/python3.9/dist-packages/pandas/core/generic.py\u001b[0m in \u001b[0;36mdrop\u001b[0;34m(self, labels, axis, index, columns, level, inplace, errors)\u001b[0m\n\u001b[1;32m   4148\u001b[0m         \u001b[0;32mfor\u001b[0m \u001b[0maxis\u001b[0m\u001b[0;34m,\u001b[0m \u001b[0mlabels\u001b[0m \u001b[0;32min\u001b[0m \u001b[0maxes\u001b[0m\u001b[0;34m.\u001b[0m\u001b[0mitems\u001b[0m\u001b[0;34m(\u001b[0m\u001b[0;34m)\u001b[0m\u001b[0;34m:\u001b[0m\u001b[0;34m\u001b[0m\u001b[0;34m\u001b[0m\u001b[0m\n\u001b[1;32m   4149\u001b[0m             \u001b[0;32mif\u001b[0m \u001b[0mlabels\u001b[0m \u001b[0;32mis\u001b[0m \u001b[0;32mnot\u001b[0m \u001b[0;32mNone\u001b[0m\u001b[0;34m:\u001b[0m\u001b[0;34m\u001b[0m\u001b[0;34m\u001b[0m\u001b[0m\n\u001b[0;32m-> 4150\u001b[0;31m                 \u001b[0mobj\u001b[0m \u001b[0;34m=\u001b[0m \u001b[0mobj\u001b[0m\u001b[0;34m.\u001b[0m\u001b[0m_drop_axis\u001b[0m\u001b[0;34m(\u001b[0m\u001b[0mlabels\u001b[0m\u001b[0;34m,\u001b[0m \u001b[0maxis\u001b[0m\u001b[0;34m,\u001b[0m \u001b[0mlevel\u001b[0m\u001b[0;34m=\u001b[0m\u001b[0mlevel\u001b[0m\u001b[0;34m,\u001b[0m \u001b[0merrors\u001b[0m\u001b[0;34m=\u001b[0m\u001b[0merrors\u001b[0m\u001b[0;34m)\u001b[0m\u001b[0;34m\u001b[0m\u001b[0;34m\u001b[0m\u001b[0m\n\u001b[0m\u001b[1;32m   4151\u001b[0m \u001b[0;34m\u001b[0m\u001b[0m\n\u001b[1;32m   4152\u001b[0m         \u001b[0;32mif\u001b[0m \u001b[0minplace\u001b[0m\u001b[0;34m:\u001b[0m\u001b[0;34m\u001b[0m\u001b[0;34m\u001b[0m\u001b[0m\n",
            "\u001b[0;32m/usr/local/lib/python3.9/dist-packages/pandas/core/generic.py\u001b[0m in \u001b[0;36m_drop_axis\u001b[0;34m(self, labels, axis, level, errors)\u001b[0m\n\u001b[1;32m   4183\u001b[0m                 \u001b[0mnew_axis\u001b[0m \u001b[0;34m=\u001b[0m \u001b[0maxis\u001b[0m\u001b[0;34m.\u001b[0m\u001b[0mdrop\u001b[0m\u001b[0;34m(\u001b[0m\u001b[0mlabels\u001b[0m\u001b[0;34m,\u001b[0m \u001b[0mlevel\u001b[0m\u001b[0;34m=\u001b[0m\u001b[0mlevel\u001b[0m\u001b[0;34m,\u001b[0m \u001b[0merrors\u001b[0m\u001b[0;34m=\u001b[0m\u001b[0merrors\u001b[0m\u001b[0;34m)\u001b[0m\u001b[0;34m\u001b[0m\u001b[0;34m\u001b[0m\u001b[0m\n\u001b[1;32m   4184\u001b[0m             \u001b[0;32melse\u001b[0m\u001b[0;34m:\u001b[0m\u001b[0;34m\u001b[0m\u001b[0;34m\u001b[0m\u001b[0m\n\u001b[0;32m-> 4185\u001b[0;31m                 \u001b[0mnew_axis\u001b[0m \u001b[0;34m=\u001b[0m \u001b[0maxis\u001b[0m\u001b[0;34m.\u001b[0m\u001b[0mdrop\u001b[0m\u001b[0;34m(\u001b[0m\u001b[0mlabels\u001b[0m\u001b[0;34m,\u001b[0m \u001b[0merrors\u001b[0m\u001b[0;34m=\u001b[0m\u001b[0merrors\u001b[0m\u001b[0;34m)\u001b[0m\u001b[0;34m\u001b[0m\u001b[0;34m\u001b[0m\u001b[0m\n\u001b[0m\u001b[1;32m   4186\u001b[0m             \u001b[0mresult\u001b[0m \u001b[0;34m=\u001b[0m \u001b[0mself\u001b[0m\u001b[0;34m.\u001b[0m\u001b[0mreindex\u001b[0m\u001b[0;34m(\u001b[0m\u001b[0;34m**\u001b[0m\u001b[0;34m{\u001b[0m\u001b[0maxis_name\u001b[0m\u001b[0;34m:\u001b[0m \u001b[0mnew_axis\u001b[0m\u001b[0;34m}\u001b[0m\u001b[0;34m)\u001b[0m\u001b[0;34m\u001b[0m\u001b[0;34m\u001b[0m\u001b[0m\n\u001b[1;32m   4187\u001b[0m \u001b[0;34m\u001b[0m\u001b[0m\n",
            "\u001b[0;32m/usr/local/lib/python3.9/dist-packages/pandas/core/indexes/base.py\u001b[0m in \u001b[0;36mdrop\u001b[0;34m(self, labels, errors)\u001b[0m\n\u001b[1;32m   6015\u001b[0m         \u001b[0;32mif\u001b[0m \u001b[0mmask\u001b[0m\u001b[0;34m.\u001b[0m\u001b[0many\u001b[0m\u001b[0;34m(\u001b[0m\u001b[0;34m)\u001b[0m\u001b[0;34m:\u001b[0m\u001b[0;34m\u001b[0m\u001b[0;34m\u001b[0m\u001b[0m\n\u001b[1;32m   6016\u001b[0m             \u001b[0;32mif\u001b[0m \u001b[0merrors\u001b[0m \u001b[0;34m!=\u001b[0m \u001b[0;34m\"ignore\"\u001b[0m\u001b[0;34m:\u001b[0m\u001b[0;34m\u001b[0m\u001b[0;34m\u001b[0m\u001b[0m\n\u001b[0;32m-> 6017\u001b[0;31m                 \u001b[0;32mraise\u001b[0m \u001b[0mKeyError\u001b[0m\u001b[0;34m(\u001b[0m\u001b[0;34mf\"{labels[mask]} not found in axis\"\u001b[0m\u001b[0;34m)\u001b[0m\u001b[0;34m\u001b[0m\u001b[0;34m\u001b[0m\u001b[0m\n\u001b[0m\u001b[1;32m   6018\u001b[0m             \u001b[0mindexer\u001b[0m \u001b[0;34m=\u001b[0m \u001b[0mindexer\u001b[0m\u001b[0;34m[\u001b[0m\u001b[0;34m~\u001b[0m\u001b[0mmask\u001b[0m\u001b[0;34m]\u001b[0m\u001b[0;34m\u001b[0m\u001b[0;34m\u001b[0m\u001b[0m\n\u001b[1;32m   6019\u001b[0m         \u001b[0;32mreturn\u001b[0m \u001b[0mself\u001b[0m\u001b[0;34m.\u001b[0m\u001b[0mdelete\u001b[0m\u001b[0;34m(\u001b[0m\u001b[0mindexer\u001b[0m\u001b[0;34m)\u001b[0m\u001b[0;34m\u001b[0m\u001b[0;34m\u001b[0m\u001b[0m\n",
            "\u001b[0;31mKeyError\u001b[0m: \"['direction' 'sport' 'dport'] not found in axis\""
          ]
        }
      ]
    }
  ]
}