{
  "nbformat": 4,
  "nbformat_minor": 0,
  "metadata": {
    "colab": {
      "provenance": [],
      "gpuType": "T4",
      "toc_visible": true,
      "authorship_tag": "ABX9TyPh0dVAr6bV3uwvkPCuOktZ",
      "include_colab_link": true
    },
    "kernelspec": {
      "name": "python3",
      "display_name": "Python 3"
    },
    "language_info": {
      "name": "python"
    },
    "gpuClass": "standard"
  },
  "cells": [
    {
      "cell_type": "markdown",
      "metadata": {
        "id": "view-in-github",
        "colab_type": "text"
      },
      "source": [
        "<a href=\"https://colab.research.google.com/github/dmora4/network_measurements_course/blob/main/Tranfer_Learning_for_Project.ipynb\" target=\"_parent\"><img src=\"https://colab.research.google.com/assets/colab-badge.svg\" alt=\"Open In Colab\"/></a>"
      ]
    },
    {
      "cell_type": "markdown",
      "source": [
        "#Set Up\n",
        "Import all the libraries and functions that we will use.\n",
        "\n"
      ],
      "metadata": {
        "id": "i9VYrr5fnddo"
      }
    },
    {
      "cell_type": "code",
      "execution_count": 1,
      "metadata": {
        "colab": {
          "base_uri": "https://localhost:8080/"
        },
        "id": "mSyyFqY_G-pW",
        "outputId": "a657c032-7630-46cd-955b-138bf6fee7f5"
      },
      "outputs": [
        {
          "output_type": "stream",
          "name": "stdout",
          "text": [
            "Drive already mounted at /content/drive; to attempt to forcibly remount, call drive.mount(\"/content/drive\", force_remount=True).\n"
          ]
        }
      ],
      "source": [
        "import pandas as pd\n",
        "import numpy as np\n",
        "from sklearn.model_selection import train_test_split, cross_val_score, validation_curve\n",
        "import os\n",
        "import hyperopt\n",
        "from hyperopt import fmin, tpe, hp, STATUS_OK, Trials\n",
        "from sklearn.preprocessing import StandardScaler\n",
        "import time\n",
        "import seaborn as sns\n",
        "from sklearn.preprocessing import LabelBinarizer\n",
        "from sklearn.metrics import log_loss, d2_pinball_score, get_scorer_names\n",
        "from sklearn.utils import resample\n",
        "\n",
        "from scipy.stats import ttest_ind, mannwhitneyu, ks_2samp\n",
        "\n",
        "import math\n",
        "from sklearn.utils import shuffle\n",
        "\n",
        "\n",
        "import matplotlib.pyplot as plt\n",
        "from sklearn.ensemble import GradientBoostingRegressor, GradientBoostingClassifier\n",
        "from sklearn.metrics import mean_squared_error, mean_pinball_loss, make_scorer, accuracy_score, balanced_accuracy_score, classification_report, confusion_matrix, ConfusionMatrixDisplay, precision_recall_fscore_support\n",
        "\n",
        "from google.colab import drive\n",
        "from os import listdir\n",
        "from os.path import isfile, join\n",
        "\n",
        "\n",
        "from sklearn.experimental import enable_halving_search_cv  # noqa\n",
        "from sklearn.model_selection import HalvingRandomSearchCV, LeaveOneOut\n",
        "from pprint import pprint\n",
        "\n",
        "\n",
        "drive.mount('/content/drive')\n",
        "\n",
        "PATH = '/content/drive/MyDrive/nda/'"
      ]
    },
    {
      "cell_type": "markdown",
      "source": [
        "Retrieve files from Drive"
      ],
      "metadata": {
        "id": "09uUvrFznmED"
      }
    },
    {
      "cell_type": "code",
      "source": [
        "files = [f for f in listdir(PATH) if isfile(join(PATH, f))]\n",
        "print(files)"
      ],
      "metadata": {
        "colab": {
          "base_uri": "https://localhost:8080/"
        },
        "id": "0w1wPquzHGQW",
        "outputId": "cc79a825-303e-4ff0-e96c-4320877fd240"
      },
      "execution_count": 2,
      "outputs": [
        {
          "output_type": "stream",
          "name": "stdout",
          "text": [
            "['Dataset_german_17_node.dat', 'Dataset_european_19_node.dat']\n"
          ]
        }
      ]
    },
    {
      "cell_type": "code",
      "source": [
        "def read_dataset(filename):\n",
        "    span_lengths = []\n",
        "    link_occupancies = []\n",
        "    SNR_vect = []\n",
        "\n",
        "    with open(filename) as data_file:\n",
        "        next(data_file)\n",
        "        for line in data_file:\n",
        "\n",
        "            vals = line.split(\";\", 3)\n",
        "\n",
        "            spans = vals[0].split(\",\")\n",
        "            spans_list = [int(x) for x in spans]\n",
        "            span_lengths.append(spans_list)\n",
        "\n",
        "            occupancies = vals[1].split(',')\n",
        "            occupancies_list = [int(x) for x in occupancies]\n",
        "            link_occupancies.append(occupancies_list)\n",
        "\n",
        "            snr = float(vals[2])\n",
        "            SNR_vect.append(snr)\n",
        "\n",
        "    data = pd.DataFrame({'SNR': SNR_vect, 'Span':span_lengths, 'Link':link_occupancies})\n",
        "\n",
        "    return data"
      ],
      "metadata": {
        "id": "aS7LNnh4HJC6"
      },
      "execution_count": 3,
      "outputs": []
    },
    {
      "cell_type": "code",
      "source": [
        "raw_data_g = read_dataset(join(PATH, files[0]))\n",
        "\n",
        "raw_data_e = read_dataset(join(PATH, files[1]))"
      ],
      "metadata": {
        "id": "Cs0_HfCqHLiZ"
      },
      "execution_count": 4,
      "outputs": []
    },
    {
      "cell_type": "markdown",
      "source": [
        "Statistical features are extracted from the dataset."
      ],
      "metadata": {
        "id": "UvV37EOInqLD"
      }
    },
    {
      "cell_type": "code",
      "source": [
        "def extract_features(spans, links):\n",
        "  features_matrix = []\n",
        "  for s, l in zip(spans, links):\n",
        "    features = []\n",
        "\n",
        "    features.append(np.mean(s))\n",
        "    features.append(np.shape(s)[0])\n",
        "    features.append(np.max(s))\n",
        "    features.append(np.min(s))\n",
        "    features.append(np.std(s))\n",
        "\n",
        "    features.append(np.mean(l))\n",
        "    features.append(np.shape(l)[0])\n",
        "    features.append(np.max(l))\n",
        "    features.append(np.min(l))\n",
        "    features.append(np.std(l))\n",
        "\n",
        "    features_matrix.append(features)\n",
        "\n",
        "  return np.array(features_matrix)\n",
        "\n",
        "features_g = extract_features(raw_data_g['Span'], raw_data_g['Link'])\n",
        "features_e = extract_features(raw_data_e['Span'], raw_data_e['Link'])"
      ],
      "metadata": {
        "id": "eBSySIkJHNFk"
      },
      "execution_count": 5,
      "outputs": []
    },
    {
      "cell_type": "markdown",
      "source": [
        "### Handling Two Datasets: `data_g` and `data_e`"
      ],
      "metadata": {
        "id": "hxsXJuyZnu0f"
      }
    },
    {
      "cell_type": "code",
      "source": [
        "data_g = pd.DataFrame(features_g)\n",
        "data_g = data_g.set_axis(['Span', 'Span_Len', 'Span_Max', 'Span_Min', 'Span_Std', 'Link', 'Link_Len', 'Link_Max', 'Link_Min', 'Link_Std'], axis=1, copy=False)\n",
        "data_e = pd.DataFrame(features_e)\n",
        "data_e = data_e.set_axis(['Span', 'Span_Len', 'Span_Max', 'Span_Min', 'Span_Std', 'Link', 'Link_Len', 'Link_Max', 'Link_Min', 'Link_Std'], axis=1, copy=False)\n",
        "\n",
        "data_g['SNR'] = raw_data_g['SNR']\n",
        "data_e['SNR'] = raw_data_e['SNR']"
      ],
      "metadata": {
        "id": "dVfd5PgIHRSY"
      },
      "execution_count": 6,
      "outputs": []
    },
    {
      "cell_type": "markdown",
      "source": [
        "###SNR -> MF:\n",
        "Added a small epsilon value to handle values that are exactly at the one of the boundries of the conditional statements. IE, SNR values of 11.0 where previously being recognized as 64 (falling into the last `else` branch)."
      ],
      "metadata": {
        "id": "JjbegO-_n2aQ"
      }
    },
    {
      "cell_type": "code",
      "source": [
        "\n",
        "boundries = [8.7, 12.8, 15.2, 18.2, 21.0]\n",
        "\n",
        "def SNR_to_MF(SNR):\n",
        "    epsilon = 1e-6  # Small epsilon value for comparison\n",
        "\n",
        "    if SNR < boundries[0] - epsilon:\n",
        "        return 0\n",
        "\n",
        "    elif (boundries[0] - epsilon <= SNR) and (SNR < boundries[1]):\n",
        "        return 4\n",
        "\n",
        "    elif (boundries[1] <= SNR) and (SNR < boundries[2]):\n",
        "        return 8\n",
        "\n",
        "    elif (boundries[2] <= SNR) and (SNR < boundries[3]):\n",
        "        return 16\n",
        "\n",
        "    elif (boundries[3] <= SNR) and (SNR < boundries[4]):\n",
        "        return 32\n",
        "\n",
        "    else:  # SNR >= 23.7:\n",
        "        return 64\n",
        "\n",
        "data_g['MF'] = [SNR_to_MF(s) for s in data_g['SNR']]\n",
        "data_e['MF'] = [SNR_to_MF(s) for s in data_e['SNR']]"
      ],
      "metadata": {
        "id": "d6eXQ5amHTw5"
      },
      "execution_count": 7,
      "outputs": []
    },
    {
      "cell_type": "markdown",
      "source": [
        "###Comparing The Two Domains"
      ],
      "metadata": {
        "id": "S8OsrTlKmFJ6"
      }
    },
    {
      "cell_type": "markdown",
      "source": [
        "####Visually Compare Sets"
      ],
      "metadata": {
        "id": "t5ARaA8GliMo"
      }
    },
    {
      "cell_type": "code",
      "source": [
        "fig, ax = plt.subplots(3,1,figsize=(8, 15));\n",
        "\n",
        "\n",
        "sns.kdeplot(data=data_e['SNR'], ax=ax[0], label='European Density')\n",
        "sns.rugplot(data=data_e['SNR'], ax=ax[0], label='European Samples')\n",
        "sns.kdeplot(data=data_g['SNR'], ax = ax[0], label='German Density')\n",
        "sns.rugplot(data=data_g['SNR'], ax = ax[0], label='German Samples')\n",
        "ax[0].set_title(\"Distribution of Both European and German Datasets\")\n",
        "ax[0].set_xlabel('MF')\n",
        "ax[0].legend()\n",
        "\n",
        "sns.boxplot(data=[data_e['SNR'], data_g['SNR']], ax=ax[1], orient='h')\n",
        "ax[1].set_title(\"BoxPlot of European and German Dataset\")\n",
        "ax[1].set_xlabel('MF')\n",
        "ax[1].set_yticklabels(labels=['European Data','German Data'])\n",
        "\n",
        "labels = ['QPSK', '8QAM', '16QAM', '32QAM', '64QAM']\n",
        "\n",
        "bins2 = boundries.copy()\n",
        "bins2.append(max(boundries[-1] + 1, np.max(data_e['SNR']), np.max(data_g['SNR'])))\n",
        "minor = [np.mean([x,y]) for x, y in zip(bins2, bins2[1:])]\n",
        "\n",
        "ax[2].hist([data_e['SNR'], data_g['SNR']], bins=bins2, edgecolor='black', log=True)\n",
        "ax[2].set_title('European and German SNR Data sorted into MF Bins')\n",
        "ax[2].set_ylabel('Frequency')\n",
        "ax[2].set_xlabel('MF')\n",
        "\n",
        "ax[2].set_xticks(bins2)\n",
        "ax[2].set_xticklabels(labels=bins2, rotation=60)\n",
        "ax[2].legend(['European Dataset', 'German Dataset'])\n",
        "ax[2].set_xticks(minor, minor=True)\n",
        "ax[2].set_xticklabels(labels=labels, rotation=60, minor=True)\n",
        "\n",
        "plt.show()"
      ],
      "metadata": {
        "colab": {
          "base_uri": "https://localhost:8080/",
          "height": 1000
        },
        "id": "N6YeOVDPCO3d",
        "outputId": "018223f4-e82a-440e-e29c-d8661e0140dd"
      },
      "execution_count": 8,
      "outputs": [
        {
          "output_type": "display_data",
          "data": {
            "text/plain": [
              "<Figure size 800x1500 with 3 Axes>"
            ],
            "image/png": "[encoded data removed]"
          },
          "metadata": {}
        }
      ]
    },
    {
      "cell_type": "markdown",
      "source": [
        "####Comparing the Mean Across Sets For Each Feature"
      ],
      "metadata": {
        "id": "4eIyb4TWlrjI"
      }
    },
    {
      "cell_type": "code",
      "source": [
        "stats_g = data_g.describe()\n",
        "stats_e = data_e.describe()"
      ],
      "metadata": {
        "id": "GK6JRnc7OgqZ"
      },
      "execution_count": 9,
      "outputs": []
    },
    {
      "cell_type": "code",
      "source": [
        "# Concatenate the mean values of the features from two datasets\n",
        "means = pd.concat([stats_e.iloc[1,:], stats_g.iloc[1,:]], axis=1)\n",
        "means.columns = ['Europe', 'Germany']\n",
        "\n",
        "# Create a scatter plot\n",
        "plt.scatter(range(len(means)), means['Europe'], label='Europe')\n",
        "plt.scatter(range(len(means)), means['Germany'], label='Germany')\n",
        "\n",
        "# Set x-axis labels as the feature names\n",
        "plt.xticks(range(len(means)), means.index,rotation=60)\n",
        "plt.ylabel('Mean Value')\n",
        "plt.legend()\n",
        "plt.title('Comparing Means of All Features for German and European Datasets')\n",
        "\n",
        "plt.show()\n"
      ],
      "metadata": {
        "colab": {
          "base_uri": "https://localhost:8080/",
          "height": 507
        },
        "id": "qn2Ov4pQULu_",
        "outputId": "bca3e9dc-98ce-4672-eaf5-4109690e18ec"
      },
      "execution_count": 10,
      "outputs": [
        {
          "output_type": "display_data",
          "data": {
            "text/plain": [
              "<Figure size 640x480 with 1 Axes>"
            ],
            "image/png": "[encoded data removed]"
          },
          "metadata": {}
        }
      ]
    },
    {
      "cell_type": "markdown",
      "source": [
        "####Statistical Tests to Compare Sets\n",
        "Apply some statistical tests to quantify and evaluate how different the two datasets are:"
      ],
      "metadata": {
        "id": "kiv1MGABd0iq"
      }
    },
    {
      "cell_type": "code",
      "source": [
        "\n",
        "for i, col in enumerate(data_e.columns.values):\n",
        "  print(\"***********************************************\")\n",
        "  print(f'Feature: {col}\\n')\n",
        "  featureE = data_e[col]\n",
        "  featureG = data_g[col]\n",
        "\n",
        "  t_statistic, p_value_t = ttest_ind(featureE, featureG)\n",
        "  print(f\"\\tT-Test:\\t\\t\\t Statistic: {t_statistic:5.6f}\\tP-Value: {p_value_t}\")\n",
        "\n",
        "  statistic_mw, p_value_mw = mannwhitneyu(featureE, featureG)\n",
        "  print(f\"\\tMann-Whitney Test:\\t Statistic: {statistic_mw:6.1f}\\tP-Value: {p_value_mw}\")\n",
        "\n",
        "  statistic_ks, p_value_ks = ks_2samp(featureE, featureG)\n",
        "  print(f\"\\tKolmogorov-Smirnov Test: Statistic: {statistic_ks:2.6f}\\tP-Value:{p_value_ks}\")\n"
      ],
      "metadata": {
        "colab": {
          "base_uri": "https://localhost:8080/"
        },
        "id": "PonKVgoaZGaC",
        "outputId": "fe342331-3e39-4ac0-96b6-93ffee4e0ecf"
      },
      "execution_count": 11,
      "outputs": [
        {
          "output_type": "stream",
          "name": "stdout",
          "text": [
            "***********************************************\n",
            "Feature: Span\n",
            "\n",
            "\tT-Test:\t\t\t Statistic: 32.756596\tP-Value: 1.5515680934372149e-205\n",
            "\tMann-Whitney Test:\t Statistic: 2440888.0\tP-Value: 1.7526840310157266e-202\n",
            "\tKolmogorov-Smirnov Test: Statistic: 0.500104\tP-Value:2.3005706226091853e-199\n",
            "***********************************************\n",
            "Feature: Span_Len\n",
            "\n",
            "\tT-Test:\t\t\t Statistic: 44.903775\tP-Value: 0.0\n",
            "\tMann-Whitney Test:\t Statistic: 2637468.0\tP-Value: 2.118880565844127e-299\n",
            "\tKolmogorov-Smirnov Test: Statistic: 0.610123\tP-Value:3.667417124728446e-304\n",
            "***********************************************\n",
            "Feature: Span_Max\n",
            "\n",
            "\tT-Test:\t\t\t Statistic: 23.815855\tP-Value: 2.5276995753952093e-116\n",
            "\tMann-Whitney Test:\t Statistic: 2258997.0\tP-Value: 4.7764641353010166e-178\n",
            "\tKolmogorov-Smirnov Test: Statistic: 0.491958\tP-Value:1.2364377888669115e-192\n",
            "***********************************************\n",
            "Feature: Span_Min\n",
            "\n",
            "\tT-Test:\t\t\t Statistic: 8.088207\tP-Value: 8.262603750894296e-16\n",
            "\tMann-Whitney Test:\t Statistic: 1807474.0\tP-Value: 1.38206556598471e-20\n",
            "\tKolmogorov-Smirnov Test: Statistic: 0.369685\tP-Value:7.596200308692522e-107\n",
            "***********************************************\n",
            "Feature: Span_Std\n",
            "\n",
            "\tT-Test:\t\t\t Statistic: -8.092044\tP-Value: 8.010993546173316e-16\n",
            "\tMann-Whitney Test:\t Statistic: 1155977.5\tP-Value: 2.7497496468188293e-36\n",
            "\tKolmogorov-Smirnov Test: Statistic: 0.302622\tP-Value:3.4823201961571864e-71\n",
            "***********************************************\n",
            "Feature: Link\n",
            "\n",
            "\tT-Test:\t\t\t Statistic: -21.640224\tP-Value: 1.4105533424081483e-97\n",
            "\tMann-Whitney Test:\t Statistic: 977147.5\tP-Value: 7.156358855871017e-77\n",
            "\tKolmogorov-Smirnov Test: Statistic: 0.295127\tP-Value:1.1340585292055083e-67\n",
            "***********************************************\n",
            "Feature: Link_Len\n",
            "\n",
            "\tT-Test:\t\t\t Statistic: -8.747200\tP-Value: 3.3372484557774935e-18\n",
            "\tMann-Whitney Test:\t Statistic: 1322259.5\tP-Value: 4.066659361848112e-13\n",
            "\tKolmogorov-Smirnov Test: Statistic: 0.122740\tP-Value:6.097631068160569e-12\n",
            "***********************************************\n",
            "Feature: Link_Max\n",
            "\n",
            "\tT-Test:\t\t\t Statistic: -16.171970\tP-Value: 8.63189792944135e-57\n",
            "\tMann-Whitney Test:\t Statistic: 1083370.5\tP-Value: 5.849941073402783e-51\n",
            "\tKolmogorov-Smirnov Test: Statistic: 0.258696\tP-Value:6.333061891214922e-52\n",
            "***********************************************\n",
            "Feature: Link_Min\n",
            "\n",
            "\tT-Test:\t\t\t Statistic: -17.166351\tP-Value: 1.750109176826885e-63\n",
            "\tMann-Whitney Test:\t Statistic: 1044056.5\tP-Value: 4.417832821949586e-60\n",
            "\tKolmogorov-Smirnov Test: Statistic: 0.269554\tP-Value:2.168460713936759e-56\n",
            "***********************************************\n",
            "Feature: Link_Std\n",
            "\n",
            "\tT-Test:\t\t\t Statistic: -7.141279\tP-Value: 1.1192602639017098e-12\n",
            "\tMann-Whitney Test:\t Statistic: 1303838.0\tP-Value: 2.0633591028315793e-14\n",
            "\tKolmogorov-Smirnov Test: Statistic: 0.167629\tP-Value:6.287370287298255e-22\n",
            "***********************************************\n",
            "Feature: SNR\n",
            "\n",
            "\tT-Test:\t\t\t Statistic: -45.242438\tP-Value: 0.0\n",
            "\tMann-Whitney Test:\t Statistic: 435003.0\tP-Value: 1.9766460715505237e-294\n",
            "\tKolmogorov-Smirnov Test: Statistic: 0.615922\tP-Value:1.8779593483307e-310\n",
            "***********************************************\n",
            "Feature: MF\n",
            "\n",
            "\tT-Test:\t\t\t Statistic: -36.223019\tP-Value: 2.595687216335887e-244\n",
            "\tMann-Whitney Test:\t Statistic: 588984.0\tP-Value: 5.117727826815717e-249\n",
            "\tKolmogorov-Smirnov Test: Statistic: 0.450431\tP-Value:2.4083433734355508e-160\n"
          ]
        }
      ]
    },
    {
      "cell_type": "markdown",
      "source": [
        "We observe extremely low P-values, for all features, no matter the test. Thus, for all cases, we reject the null hypothesis and must conclude that there is a significant difference between the two datasets."
      ],
      "metadata": {
        "id": "WT5HYElBgN0I"
      }
    },
    {
      "cell_type": "markdown",
      "source": [
        "Since our two datasats a statistically very different from eachother, we have to be careful about how be apply transfer learning. In fact, having such dissimilar datasets suggests the pure transfer learning would not be a good fit. The two sets are too different: learning done on one set will not help to made predicitons in the target domain because they are too statistically different."
      ],
      "metadata": {
        "id": "TmVaWiaHhdnA"
      }
    },
    {
      "cell_type": "markdown",
      "source": [
        "###Split The Data"
      ],
      "metadata": {
        "id": "DB83zyd_mOGr"
      }
    },
    {
      "cell_type": "code",
      "source": [
        "def train_test_split2(X, y, test=0.2, ySplitUnravel = True):\n",
        "  X_train, X_test, y_train, y_test = train_test_split(X, y, test_size = test, random_state=4, shuffle=True, stratify=y['MF'])\n",
        "\n",
        "  scaler = StandardScaler()\n",
        "  X_train = scaler.fit_transform(X_train)\n",
        "  X_test = scaler.transform(X_test)\n",
        "\n",
        "  if ySplitUnravel == True:\n",
        "    y_train_snr = y_train.iloc[:,0].to_numpy().ravel()\n",
        "    y_train_mf =  y_train.iloc[:,1].to_numpy().ravel()\n",
        "\n",
        "    y_test_snr = y_test.iloc[:,0].to_numpy().ravel()\n",
        "    y_test_mf =  y_test.iloc[:,1].to_numpy().ravel()\n",
        "\n",
        "    return X_train, X_test, y_train_snr, y_train_mf, y_test_snr, y_test_mf\n",
        "  else:\n",
        "    return X_train, X_test, y_train, y_test\n",
        "\n",
        "# Original datasets, split into train/test/validation including seperate target vectors (snr and mf)\n",
        "G_train, G_test, g_train_snr, g_train_mf, g_test_snr, g_test_mf = train_test_split2(data_g.loc[:, ~data_g.columns.isin(['SNR', 'MF'])], data_g[['SNR', 'MF']], test=0.2)\n",
        "E_train, E_test, e_train_snr, e_train_mf, e_test_snr, e_test_mf = train_test_split2(data_e.loc[:, ~data_e.columns.isin(['SNR', 'MF'])], data_e[['SNR', 'MF']], test=0.2)\n"
      ],
      "metadata": {
        "id": "bctuPI3tverl"
      },
      "execution_count": 12,
      "outputs": []
    },
    {
      "cell_type": "markdown",
      "source": [
        "Now we set the `_mf` vectors to have `string` elements instead of `integer` elements. Why? These _mf vectors hold the MF allocation which is like the *class* that SNR value belongs to. We convert to strings to avoid any numerical association with the class."
      ],
      "metadata": {
        "id": "EmQ3Yiv-xgOy"
      }
    },
    {
      "cell_type": "code",
      "source": [
        "e_train_mf = [str(i) for i in e_train_mf]\n",
        "g_train_mf = [str(i) for i in g_train_mf]\n",
        "\n",
        "e_test_mf = [str(i) for i in e_test_mf]\n",
        "g_test_mf = [str(i) for i in g_test_mf]\n"
      ],
      "metadata": {
        "id": "SY5lepE-D2kP"
      },
      "execution_count": 13,
      "outputs": []
    },
    {
      "cell_type": "markdown",
      "source": [
        "___\n",
        "#Focus on one model and apply some tranfer learning techniques"
      ],
      "metadata": {
        "id": "eMqvatA1TakI"
      }
    },
    {
      "cell_type": "markdown",
      "source": [
        "##Pure Transfer Learning"
      ],
      "metadata": {
        "id": "lzCSuHu49jZE"
      }
    },
    {
      "cell_type": "markdown",
      "source": [
        "###1. Optimize hyperparameters.\n",
        "Classification model using European train set."
      ],
      "metadata": {
        "id": "eD6CCs6_TyJx"
      }
    },
    {
      "cell_type": "code",
      "source": [
        "def optimize_classifier(X_train, y_train, space, n_trials):\n",
        "    #***************************************************************************\n",
        "    #********* Perform hyperparameter optimization via crossvalidation *********\n",
        "    def hyperopt_train_test(params_):\n",
        "\n",
        "      params = {\n",
        "                  'learning_rate'     : params_['learning_rate'],\n",
        "                  'n_estimators'      : int(params_['n_estimators']),\n",
        "                  'max_depth'         : int(params_['max_depth']),\n",
        "                  'min_samples_leaf'  : int(params_['min_samples_leaf']),\n",
        "                  'min_samples_split' : int(params_['min_samples_split'])\n",
        "                }\n",
        "      model = GradientBoostingClassifier(loss='log_loss',**params, random_state=11)\n",
        "\n",
        "      return cross_val_score(model, X_train, y_train, cv = 3)\n",
        "\n",
        "    def f(params):\n",
        "        acc = hyperopt_train_test(params)\n",
        "        return {'loss': -acc.mean(), 'status': STATUS_OK, 'loss_variance': np.var(acc, ddof=1)}\n",
        "\n",
        "    trials = Trials()\n",
        "\n",
        "    #***************************************************************************\n",
        "    #******** Print best hyperparameters obtained with crossvalidation *********\n",
        "    ta = time.time()\n",
        "    best_params = fmin(fn=f, space=space, algo=tpe.suggest, max_evals=n_trials, trials=trials)\n",
        "    tb = time.time()\n",
        "\n",
        "    best_params = hyperopt.space_eval(space, best_params)\n",
        "    print('Best Params Found by Hyperopt:')\n",
        "    print(f'{best_params}\\n')\n",
        "\n",
        "    #***************************************************************************\n",
        "    #********** Print best cv accuracy (across all combos) & duration **********\n",
        "    best_cv_acc = trials.best_trial['result']['loss']\n",
        "\n",
        "    print(f'Best CV Accuracy During Hyperopt: {-round(best_cv_acc, 6)}')\n",
        "    print(f'Cross Validation Duration: {round(tb-ta, 5)} s')\n",
        "\n",
        "    #***************************************************************************\n",
        "    #*********** Retrain a new model with best hyperparameters using ***********\n",
        "    #*********** the entire training set (X_train, y_train) ********************\n",
        "    best_params_ = {\n",
        "                  'learning_rate'     : best_params['learning_rate'],\n",
        "                  'n_estimators'      : int(best_params['n_estimators']),\n",
        "                  'max_depth'         : int(best_params['max_depth']),\n",
        "                  'min_samples_leaf'  : int(best_params['min_samples_leaf']),\n",
        "                  'min_samples_split' : int(best_params['min_samples_split'])\n",
        "                }\n",
        "    model = GradientBoostingClassifier(loss='log_loss', **best_params_, random_state=11)\n",
        "\n",
        "    t0 = time.time()\n",
        "    model.fit(X_train, y_train)\n",
        "    t1 = time.time()\n",
        "\n",
        "    scr = model.score(X_train, y_train)\n",
        "    print(f'Model Score: {scr}')\n",
        "    #***************************************************************************\n",
        "    #************* Print training results (train accuracy and duration) ********\n",
        "    print(f'Training Duration: {round(t1 - t0, 6)} s\\n')\n",
        "\n",
        "    #***************************************************************************\n",
        "    #************************ Return the trained model *************************\n",
        "    trials_df = pd.DataFrame()\n",
        "    for t in trials:\n",
        "      params = pd.DataFrame(t['misc']['vals'])\n",
        "      params['loss'] = t['result']['loss']\n",
        "      params['loss_var'] = t['result']['loss_variance']\n",
        "      trials_df = pd.concat([trials_df, params], ignore_index=True, axis=0)\n",
        "\n",
        "\n",
        "\n",
        "    return model, best_cv_acc, trials_df\n",
        "\n",
        "\n",
        "space_clf = {\n",
        "     'learning_rate': hp.uniform('learning_rate', 0.001, 0.9),\n",
        "     'n_estimators' : hp.choice('n_estimators', [200, 150, 125, 100, 75, 50, 25, 20, 15, 10, 5]),\n",
        "     'max_depth': hp.choice('max_depth', [2, 3, 4, 5, 6, 7, 8, 9, 10]),\n",
        "     'min_samples_leaf': hp.choice('min_samples_leaf', [1,2,4,8,10,15,20,50]),\n",
        "     'min_samples_split': hp.choice('min_samples_split', [5,10,15,20,25,30])\n",
        "    }\n",
        "\n",
        "clf_opt, clf_opt_score, clf_trials = optimize_classifier(E_train, e_train_mf, space_clf, n_trials=150)\n"
      ],
      "metadata": {
        "colab": {
          "base_uri": "https://localhost:8080/"
        },
        "id": "iucxRiV7TZWg",
        "outputId": "d2cbfbd5-29aa-428f-a5a0-0bea061cde21"
      },
      "execution_count": 14,
      "outputs": [
        {
          "output_type": "stream",
          "name": "stdout",
          "text": [
            "100%|██████████| 150/150 [05:34<00:00,  2.23s/trial, best loss: -0.9447461642473209]\n",
            "Best Params Found by Hyperopt:\n",
            "{'learning_rate': 0.26320126756236584, 'max_depth': 3, 'min_samples_leaf': 1, 'min_samples_split': 10, 'n_estimators': 20}\n",
            "\n",
            "Best CV Accuracy During Hyperopt: 0.944746\n",
            "Cross Validation Duration: 334.94333 s\n",
            "Model Score: 0.9631650750341064\n",
            "Training Duration: 0.292938 s\n",
            "\n"
          ]
        }
      ]
    },
    {
      "cell_type": "markdown",
      "source": [
        "###2. Evaluate\n",
        "Get some metrics over European test set"
      ],
      "metadata": {
        "id": "ae7Rrp3DX4XD"
      }
    },
    {
      "cell_type": "code",
      "source": [
        "e_pred_clf = clf_opt.predict(E_test)\n",
        "\n",
        "acc = accuracy_score(e_test_mf, e_pred_clf)\n",
        "print(f'Accuracy:\\t{100*acc:2.6}%')\n",
        "\n",
        "labels = np.unique(e_pred_clf)\n",
        "precision, recall, f, support = precision_recall_fscore_support(e_test_mf, e_pred_clf)\n",
        "\n",
        "print(f'Classes:\\t{labels}')\n",
        "print(f'Support:\\t{support}')\n",
        "\n",
        "print(f'Precision:\\t{precision}\\tAvg: {100*precision.mean():2.6}')\n",
        "print(f'Recall:\\t\\t{recall}\\tAvg: {100*recall.mean():2.6}')\n",
        "print(f'FScore:\\t\\t{f}\\tAvg: {100*f.mean():2.6}')\n"
      ],
      "metadata": {
        "colab": {
          "base_uri": "https://localhost:8080/"
        },
        "id": "8Ze8lrOlT7wE",
        "outputId": "f5f16a14-45ed-4938-ab23-53f99c8ccfcc"
      },
      "execution_count": 15,
      "outputs": [
        {
          "output_type": "stream",
          "name": "stdout",
          "text": [
            "Accuracy:\t94.2779%\n",
            "Classes:\t['16' '4' '8']\n",
            "Support:\t[ 57 147 163]\n",
            "Precision:\t[0.94736842 0.94594595 0.9382716 ]\tAvg: 94.3862\n",
            "Recall:\t\t[0.94736842 0.95238095 0.93251534]\tAvg: 94.4088\n",
            "FScore:\t\t[0.94736842 0.94915254 0.93538462]\tAvg: 94.3969\n"
          ]
        }
      ]
    },
    {
      "cell_type": "markdown",
      "source": [
        "###3. Apply PURE transfer learning\n",
        "Directly predict samples from German dataset"
      ],
      "metadata": {
        "id": "sgXdWJ2TYQog"
      }
    },
    {
      "cell_type": "code",
      "source": [
        "g_pred_clf = clf_opt.predict(G_train)\n",
        "\n",
        "acc = accuracy_score(g_train_mf, g_pred_clf)\n",
        "print(f'Accuracy:\\t{100*acc:2.6}%')\n",
        "\n",
        "labels2 = np.unique(g_pred_clf)\n",
        "precision, recall, f, support = precision_recall_fscore_support(g_train_mf, g_pred_clf, zero_division=False)\n",
        "\n",
        "print(f'Classes:\\t{labels}')\n",
        "print(f'Support:\\t{support}')\n",
        "\n",
        "print(f'Precision:\\t{precision}\\tAvg: {100*precision.mean():2.6}')\n",
        "print(f'Recall:\\t\\t{recall}\\tAvg: {100*recall.mean():2.6}')\n",
        "print(f'FScore:\\t\\t{f}\\tAvg: {100*f.mean():2.6}')\n"
      ],
      "metadata": {
        "colab": {
          "base_uri": "https://localhost:8080/"
        },
        "id": "DbvWSAxTYP44",
        "outputId": "db085eba-6c18-4a05-ebcb-367847ffb44d"
      },
      "execution_count": 16,
      "outputs": [
        {
          "output_type": "stream",
          "name": "stdout",
          "text": [
            "Accuracy:\t9.42408%\n",
            "Classes:\t['16' '4' '8']\n",
            "Support:\t[744  67   0 526]\n",
            "Precision:\t[0.62146893 0.         0.         0.0311284 ]\tAvg: 16.3149\n",
            "Recall:\t\t[0.14784946 0.         0.         0.03041825]\tAvg: 4.45669\n",
            "FScore:\t\t[0.23887079 0.         0.         0.03076923]\tAvg: 6.741\n"
          ]
        }
      ]
    },
    {
      "cell_type": "markdown",
      "source": [
        "###Results: Pure Transfer Learning\n",
        "Clearly, Pure TL performed quite poorly. Why? There was no actual *transfer* of *learning*. We trained a model with only samples from one dataset and tried to leverage the learning done exclusively on that set to try to predict samples from another dataset.\n",
        "\n"
      ],
      "metadata": {
        "id": "XN6rYMMA1xSq"
      }
    },
    {
      "cell_type": "markdown",
      "source": [
        "##Domain adaptation\n",
        "\"Inoculating\" the model with some samples from the target domain (german dataset) might be a better fit for our usecase. We try the following method."
      ],
      "metadata": {
        "id": "L80SWaL_-ByG"
      }
    },
    {
      "cell_type": "markdown",
      "source": [
        "###1. Retrieve cross-validation performance values & Refit\n",
        "From European training set and refit our classifier that has already tuned its hyperparameters."
      ],
      "metadata": {
        "id": "ITkZCXMOZtKt"
      }
    },
    {
      "cell_type": "code",
      "source": [
        "\n",
        "# Get cross-validation values\n",
        "cv_e = cross_val_score(clf_opt, E_train, e_train_mf)\n",
        "print(f'Optimized Model over European set\\nCross Validation: {cv_e}')\n",
        "print(f'Average: {100*cv_e.mean():2.4}%')\n",
        "\n",
        "# Refit over entire dataset\n",
        "clf_opt = clf_opt.fit(E_train, e_train_mf)"
      ],
      "metadata": {
        "colab": {
          "base_uri": "https://localhost:8080/"
        },
        "id": "rkrKur8JZc75",
        "outputId": "5098bcfe-8318-4c6c-f9cf-8d4e5593a40c"
      },
      "execution_count": 17,
      "outputs": [
        {
          "output_type": "stream",
          "name": "stdout",
          "text": [
            "Optimized Model over European set\n",
            "Cross Validation: [0.95238095 0.94197952 0.93515358 0.93515358 0.94539249]\n",
            "Average: 94.2%\n"
          ]
        }
      ]
    },
    {
      "cell_type": "markdown",
      "source": [
        "###2. Get interim performance measure\n",
        "Evaluate performance over European test set (again)."
      ],
      "metadata": {
        "id": "X7DZnFe2aEHO"
      }
    },
    {
      "cell_type": "code",
      "source": [
        "# Let's see how we perform over European test set\n",
        "e_hat = clf_opt.predict(E_test)\n",
        "accuracy_e = accuracy_score(e_test_mf, e_hat)\n",
        "print(f'Accuracy over European test set: {100*accuracy_e:2.4f}%')"
      ],
      "metadata": {
        "colab": {
          "base_uri": "https://localhost:8080/"
        },
        "id": "Fl88Oq_laLeu",
        "outputId": "e8870b90-6b49-4ffe-baf2-2b739c51a19d"
      },
      "execution_count": 18,
      "outputs": [
        {
          "output_type": "stream",
          "name": "stdout",
          "text": [
            "Accuracy over European test set: 94.2779%\n"
          ]
        }
      ]
    },
    {
      "cell_type": "markdown",
      "source": [
        "###3. Domain Adaptation: Fine-tine the model.\n",
        "Take the original model that has been trained over the European training set and use it as a starting point for a new model. The new model is going to then continue learning with samples from the German dataset."
      ],
      "metadata": {
        "id": "23sS-KciaNY4"
      }
    },
    {
      "cell_type": "code",
      "source": [
        "da_model = GradientBoostingClassifier(init=clf_opt, learning_rate=0.001)\n",
        "\n",
        "# Concatenate training set from europe with test set from germany\n",
        "X_combined = np.concatenate([E_train, G_test], axis=0)\n",
        "y_combined = np.concatenate([e_train_mf, g_test_mf], axis=0)\n",
        "\n",
        "shuffle_indices = np.random.permutation(len(X_combined))\n",
        "\n",
        "X_shuffled = X_combined[shuffle_indices]\n",
        "y_shuffled = y_combined[shuffle_indices]\n",
        "\n",
        "\n",
        "\n",
        "cv_da = cross_val_score(da_model, X_shuffled, y_shuffled)\n",
        "\n",
        "print(f'Optimized Model over New Domain (German set)\\nCross Validation: {cv_da}')\n",
        "print(f'Average: {100*cv_da.mean():2.4}%')\n",
        "\n",
        "da_model = da_model.fit(X_shuffled, y_shuffled)\n"
      ],
      "metadata": {
        "colab": {
          "base_uri": "https://localhost:8080/"
        },
        "id": "C9pvAX1p6MaT",
        "outputId": "64bc1d46-3e1b-4036-fac1-607d59a1fa38"
      },
      "execution_count": 19,
      "outputs": [
        {
          "output_type": "stream",
          "name": "stdout",
          "text": [
            "Optimized Model over New Domain (German set)\n",
            "Cross Validation: [0.92797784 0.93055556 0.925      0.95833333 0.92777778]\n",
            "Average: 93.39%\n"
          ]
        }
      ]
    },
    {
      "cell_type": "markdown",
      "source": [
        "The results in the cross validation show that we should yield a pretty good performance."
      ],
      "metadata": {
        "id": "1A0nnL4N-R0T"
      }
    },
    {
      "cell_type": "markdown",
      "source": [
        "\n",
        "###4. Results: Domain Adaptation\n",
        "Aaaaaaand drumrollllll... the final nail in the coffin... let's evaluate the performance of the German test set to acquire a final stamp on the accuracy of our model."
      ],
      "metadata": {
        "id": "4KL5zyala_qk"
      }
    },
    {
      "cell_type": "code",
      "source": [
        "g_hat = da_model.predict(G_test)\n",
        "accuracy_g = accuracy_score(g_test_mf, g_hat)\n",
        "print(f'Accuracy over German test set: {100*accuracy_g:2.4f}%')"
      ],
      "metadata": {
        "colab": {
          "base_uri": "https://localhost:8080/"
        },
        "id": "XH5pf27Ta4g3",
        "outputId": "6cc41ec1-0ab8-45f6-d849-6f39371c299c"
      },
      "execution_count": 20,
      "outputs": [
        {
          "output_type": "stream",
          "name": "stdout",
          "text": [
            "Accuracy over German test set: 97.9104%\n"
          ]
        }
      ]
    },
    {
      "cell_type": "markdown",
      "source": [
        "###5. Examine knowledge retention\n",
        "Let's take a step back and see how much information was retained in our model by evaluting performance over European sets again.\n",
        "\n",
        ">Recall: The **original model** trained on the _european train_ set was used to _initialize_ our domain adapted model. The **domain-adapted model** was trained on the _european train_ set **+** _germany test_ set.\n",
        ">\n",
        ">The **original model** was tested against the _european test_ set, whereas the **domain-adapted model** has never explicitly seen the european test set."
      ],
      "metadata": {
        "id": "dt34mvLldnDE"
      }
    },
    {
      "cell_type": "code",
      "source": [
        "e_hat2 = da_model.predict(E_test)\n",
        "accuracy_e2 = accuracy_score(e_test_mf, e_hat2)\n",
        "print(f'Accuracy over European test set: {100*accuracy_e2:2.4f}%')\n",
        "\n",
        "e_hat3 = da_model.predict(E_train)\n",
        "accuracy_e3 = accuracy_score(e_train_mf, e_hat3)\n",
        "print(f'Accuracy over European train set: {100*accuracy_e3:2.4f}%')"
      ],
      "metadata": {
        "colab": {
          "base_uri": "https://localhost:8080/"
        },
        "id": "38Zfyx5DtsI0",
        "outputId": "bd6a3b20-ef24-468d-c734-63d41e288ef6"
      },
      "execution_count": 21,
      "outputs": [
        {
          "output_type": "stream",
          "name": "stdout",
          "text": [
            "Accuracy over European test set: 94.8229%\n",
            "Accuracy over European train set: 95.7708%\n"
          ]
        }
      ]
    },
    {
      "cell_type": "markdown",
      "source": [
        "**Overview of the two methods:**\n",
        "\n",
        "_Pure TL_\n",
        "\n",
        "* Train a model over european train set.\n",
        "* Evaluate model over european test set.\n",
        "* Evaluate model over german train* set.\n",
        "\n",
        ">*Here, _train_ is a bit of a misnomer. We are simply using the larger partition of the german dataset to make the final evaluation\n",
        "\n",
        "_Domain Adaptation_\n",
        "\n",
        "* Train a model (A) over european train set.\n",
        "* Evaluate model over european test set.\n",
        "* Train a new model (B) over a re-shuffled set that includes the german test* set and european train set that is initialized with model A.\n",
        "* Evaluate model over german train* set.\n",
        "\n",
        ">*Again, regarding the german sets, _train_ and _test_ are misnomers. The main point is that the smaller partition of the german set is used to introduce the model to some samples from the german set, and the larger parition is used to evaluate the domain-adapted model. This way, both methods were tested against the same set (the larger partition of the german set, ie the german train set)."
      ],
      "metadata": {
        "id": "QuTNEU63-1Hd"
      }
    }
  ]
}